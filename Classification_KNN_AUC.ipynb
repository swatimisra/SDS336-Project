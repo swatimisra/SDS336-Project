{
 "cells": [
  {
   "cell_type": "markdown",
   "id": "d6c60170-e923-475e-b5a0-7c45fcfe77f5",
   "metadata": {},
   "source": [
    "# Modeling Classification"
   ]
  },
  {
   "cell_type": "code",
   "execution_count": 1,
   "id": "3e200fd1-a9ab-445e-a1d5-2f0c00b25b11",
   "metadata": {},
   "outputs": [],
   "source": [
    "#import libraires and read in data\n",
    "import pandas as pd\n",
    "import numpy as np\n",
    "from sklearn.model_selection import (\n",
    "    train_test_split,\n",
    "    GridSearchCV,\n",
    "    GroupShuffleSplit,\n",
    "    StratifiedGroupKFold\n",
    ")\n",
    "from sklearn.preprocessing import StandardScaler\n",
    "from sklearn.neighbors import KNeighborsClassifier\n",
    "from sklearn.metrics import confusion_matrix, accuracy_score, roc_auc_score\n",
    "import matplotlib.pyplot as plt\n",
    "import seaborn as sns\n",
    "from sklearn.preprocessing import label_binarize"
   ]
  },
  {
   "cell_type": "code",
   "execution_count": 2,
   "id": "186c2d2d-367b-407c-970c-f8d597af7d55",
   "metadata": {},
   "outputs": [],
   "source": [
    "df = pd.read_csv(\"merged_health_census_clean.csv\")"
   ]
  },
  {
   "cell_type": "code",
   "execution_count": 3,
   "id": "8204d6b8-0ba1-4d8c-8d6d-250ac0a001f9",
   "metadata": {},
   "outputs": [
    {
     "data": {
      "text/html": [
       "<div>\n",
       "<style scoped>\n",
       "    .dataframe tbody tr th:only-of-type {\n",
       "        vertical-align: middle;\n",
       "    }\n",
       "\n",
       "    .dataframe tbody tr th {\n",
       "        vertical-align: top;\n",
       "    }\n",
       "\n",
       "    .dataframe thead th {\n",
       "        text-align: right;\n",
       "    }\n",
       "</style>\n",
       "<table border=\"1\" class=\"dataframe\">\n",
       "  <thead>\n",
       "    <tr style=\"text-align: right;\">\n",
       "      <th></th>\n",
       "      <th>StateAbbr</th>\n",
       "      <th>PlaceName</th>\n",
       "      <th>PlaceFIPS</th>\n",
       "      <th>TractFIPS</th>\n",
       "      <th>Place_TractID</th>\n",
       "      <th>Tract_FIPS_full</th>\n",
       "      <th>Health_Pop</th>\n",
       "      <th>Obesity_Pct</th>\n",
       "      <th>Obesity_Count</th>\n",
       "      <th>Diabetes_Pct</th>\n",
       "      <th>...</th>\n",
       "      <th>Bachelors_Count</th>\n",
       "      <th>Unemployed_Pct</th>\n",
       "      <th>Unemployed_Count</th>\n",
       "      <th>Race_Total</th>\n",
       "      <th>Pct_White_Alone</th>\n",
       "      <th>Pct_Black_Alone</th>\n",
       "      <th>Pct_Asian_Alone</th>\n",
       "      <th>Majority_Race_Clean</th>\n",
       "      <th>Pct_Hispanic</th>\n",
       "      <th>Pct_Other</th>\n",
       "    </tr>\n",
       "  </thead>\n",
       "  <tbody>\n",
       "    <tr>\n",
       "      <th>0</th>\n",
       "      <td>CA</td>\n",
       "      <td>Los Angeles</td>\n",
       "      <td>644000</td>\n",
       "      <td>6037206032</td>\n",
       "      <td>0644000-06037206032</td>\n",
       "      <td>6037206032</td>\n",
       "      <td>5275</td>\n",
       "      <td>29.5</td>\n",
       "      <td>1556.0</td>\n",
       "      <td>15.5</td>\n",
       "      <td>...</td>\n",
       "      <td>309</td>\n",
       "      <td>4.823990</td>\n",
       "      <td>185</td>\n",
       "      <td>5133</td>\n",
       "      <td>58.620690</td>\n",
       "      <td>0.935126</td>\n",
       "      <td>16.637444</td>\n",
       "      <td>Hispanic</td>\n",
       "      <td>77.089421</td>\n",
       "      <td>23.806741</td>\n",
       "    </tr>\n",
       "    <tr>\n",
       "      <th>1</th>\n",
       "      <td>CA</td>\n",
       "      <td>Pasadena</td>\n",
       "      <td>656000</td>\n",
       "      <td>6037462001</td>\n",
       "      <td>0656000-06037462001</td>\n",
       "      <td>6037462001</td>\n",
       "      <td>3974</td>\n",
       "      <td>32.0</td>\n",
       "      <td>1272.0</td>\n",
       "      <td>11.6</td>\n",
       "      <td>...</td>\n",
       "      <td>367</td>\n",
       "      <td>5.752670</td>\n",
       "      <td>167</td>\n",
       "      <td>3893</td>\n",
       "      <td>48.548677</td>\n",
       "      <td>10.608785</td>\n",
       "      <td>9.915232</td>\n",
       "      <td>Hispanic</td>\n",
       "      <td>70.459800</td>\n",
       "      <td>30.927305</td>\n",
       "    </tr>\n",
       "    <tr>\n",
       "      <th>2</th>\n",
       "      <td>CA</td>\n",
       "      <td>Fullerton</td>\n",
       "      <td>628000</td>\n",
       "      <td>6059011504</td>\n",
       "      <td>0628000-06059011504</td>\n",
       "      <td>6059011504</td>\n",
       "      <td>5473</td>\n",
       "      <td>18.7</td>\n",
       "      <td>1023.0</td>\n",
       "      <td>4.6</td>\n",
       "      <td>...</td>\n",
       "      <td>873</td>\n",
       "      <td>6.832522</td>\n",
       "      <td>379</td>\n",
       "      <td>6024</td>\n",
       "      <td>61.636786</td>\n",
       "      <td>1.626826</td>\n",
       "      <td>23.090969</td>\n",
       "      <td>White</td>\n",
       "      <td>30.378486</td>\n",
       "      <td>13.645418</td>\n",
       "    </tr>\n",
       "    <tr>\n",
       "      <th>3</th>\n",
       "      <td>TX</td>\n",
       "      <td>Longview</td>\n",
       "      <td>4843888</td>\n",
       "      <td>48183000401</td>\n",
       "      <td>4843888-48183000401</td>\n",
       "      <td>48183000401</td>\n",
       "      <td>3371</td>\n",
       "      <td>33.9</td>\n",
       "      <td>1143.0</td>\n",
       "      <td>9.2</td>\n",
       "      <td>...</td>\n",
       "      <td>201</td>\n",
       "      <td>4.592980</td>\n",
       "      <td>123</td>\n",
       "      <td>3170</td>\n",
       "      <td>82.965300</td>\n",
       "      <td>9.589905</td>\n",
       "      <td>3.470032</td>\n",
       "      <td>White</td>\n",
       "      <td>7.350158</td>\n",
       "      <td>3.974763</td>\n",
       "    </tr>\n",
       "    <tr>\n",
       "      <th>4</th>\n",
       "      <td>WI</td>\n",
       "      <td>Madison</td>\n",
       "      <td>5548000</td>\n",
       "      <td>55025002200</td>\n",
       "      <td>5548000-55025002200</td>\n",
       "      <td>55025002200</td>\n",
       "      <td>4254</td>\n",
       "      <td>29.5</td>\n",
       "      <td>1255.0</td>\n",
       "      <td>8.7</td>\n",
       "      <td>...</td>\n",
       "      <td>594</td>\n",
       "      <td>9.886264</td>\n",
       "      <td>339</td>\n",
       "      <td>4030</td>\n",
       "      <td>73.374690</td>\n",
       "      <td>11.116625</td>\n",
       "      <td>5.831266</td>\n",
       "      <td>White</td>\n",
       "      <td>8.263027</td>\n",
       "      <td>9.677419</td>\n",
       "    </tr>\n",
       "  </tbody>\n",
       "</table>\n",
       "<p>5 rows × 50 columns</p>\n",
       "</div>"
      ],
      "text/plain": [
       "  StateAbbr    PlaceName  PlaceFIPS    TractFIPS        Place_TractID  \\\n",
       "0        CA  Los Angeles     644000   6037206032  0644000-06037206032   \n",
       "1        CA     Pasadena     656000   6037462001  0656000-06037462001   \n",
       "2        CA    Fullerton     628000   6059011504  0628000-06059011504   \n",
       "3        TX     Longview    4843888  48183000401  4843888-48183000401   \n",
       "4        WI      Madison    5548000  55025002200  5548000-55025002200   \n",
       "\n",
       "   Tract_FIPS_full  Health_Pop  Obesity_Pct  Obesity_Count  Diabetes_Pct  ...  \\\n",
       "0       6037206032        5275         29.5         1556.0          15.5  ...   \n",
       "1       6037462001        3974         32.0         1272.0          11.6  ...   \n",
       "2       6059011504        5473         18.7         1023.0           4.6  ...   \n",
       "3      48183000401        3371         33.9         1143.0           9.2  ...   \n",
       "4      55025002200        4254         29.5         1255.0           8.7  ...   \n",
       "\n",
       "   Bachelors_Count  Unemployed_Pct  Unemployed_Count  Race_Total  \\\n",
       "0              309        4.823990               185        5133   \n",
       "1              367        5.752670               167        3893   \n",
       "2              873        6.832522               379        6024   \n",
       "3              201        4.592980               123        3170   \n",
       "4              594        9.886264               339        4030   \n",
       "\n",
       "   Pct_White_Alone  Pct_Black_Alone  Pct_Asian_Alone  Majority_Race_Clean  \\\n",
       "0        58.620690         0.935126        16.637444             Hispanic   \n",
       "1        48.548677        10.608785         9.915232             Hispanic   \n",
       "2        61.636786         1.626826        23.090969                White   \n",
       "3        82.965300         9.589905         3.470032                White   \n",
       "4        73.374690        11.116625         5.831266                White   \n",
       "\n",
       "   Pct_Hispanic  Pct_Other  \n",
       "0     77.089421  23.806741  \n",
       "1     70.459800  30.927305  \n",
       "2     30.378486  13.645418  \n",
       "3      7.350158   3.974763  \n",
       "4      8.263027   9.677419  \n",
       "\n",
       "[5 rows x 50 columns]"
      ]
     },
     "execution_count": 3,
     "metadata": {},
     "output_type": "execute_result"
    }
   ],
   "source": [
    "df.head()"
   ]
  },
  {
   "cell_type": "code",
   "execution_count": 4,
   "id": "6fab1c17-d5a1-41e4-b85a-3faf1f888462",
   "metadata": {},
   "outputs": [
    {
     "data": {
      "text/plain": [
       "(27113, 50)"
      ]
     },
     "execution_count": 4,
     "metadata": {},
     "output_type": "execute_result"
    }
   ],
   "source": [
    "df.shape"
   ]
  },
  {
   "cell_type": "code",
   "execution_count": 5,
   "id": "e071476d-f662-450b-b5f2-39775c4d1722",
   "metadata": {},
   "outputs": [
    {
     "data": {
      "text/plain": [
       "Index(['StateAbbr', 'PlaceName', 'PlaceFIPS', 'TractFIPS', 'Place_TractID',\n",
       "       'Tract_FIPS_full', 'Health_Pop', 'Obesity_Pct', 'Obesity_Count',\n",
       "       'Diabetes_Pct', 'Diabetes_Count', 'HighChol_Pct', 'HighChol_Count',\n",
       "       'HighBP_Pct', 'HighBP_Count', 'Stroke_Pct', 'Stroke_Count', 'Sleep_Pct',\n",
       "       'Sleep_Count', 'MentalHealth_Pct', 'MentalHealth_Count', 'Asthma_Pct',\n",
       "       'Asthma_Count', 'HeartDisease_Pct', 'HeartDisease_Count', 'Smoking_Pct',\n",
       "       'Smoking_Count', 'State_FIPS', 'County_FIPS', 'Tract_FIPS',\n",
       "       'State_Name', 'County_Name', 'Tract_Name', 'Median_Income',\n",
       "       'Median_Age', 'Poverty_Pct', 'Poverty_Count', 'HS_Grad_Pct',\n",
       "       'HS_Grad_Count', 'Bachelors_Pct', 'Bachelors_Count', 'Unemployed_Pct',\n",
       "       'Unemployed_Count', 'Race_Total', 'Pct_White_Alone', 'Pct_Black_Alone',\n",
       "       'Pct_Asian_Alone', 'Majority_Race_Clean', 'Pct_Hispanic', 'Pct_Other'],\n",
       "      dtype='object')"
      ]
     },
     "execution_count": 5,
     "metadata": {},
     "output_type": "execute_result"
    }
   ],
   "source": [
    "df.columns"
   ]
  },
  {
   "cell_type": "code",
   "execution_count": 6,
   "id": "3c1b36dd-4d74-4db1-bd6b-52f4bb31154a",
   "metadata": {},
   "outputs": [
    {
     "name": "stdout",
     "output_type": "stream",
     "text": [
      "Number of unique counties: 124\n"
     ]
    }
   ],
   "source": [
    "num_counties = df['County_FIPS'].nunique()\n",
    "print(\"Number of unique counties:\", num_counties)"
   ]
  },
  {
   "cell_type": "markdown",
   "id": "ea315d84-d454-4793-8aa1-2593cceddfb9",
   "metadata": {},
   "source": [
    "## Split Grouping and AUC"
   ]
  },
  {
   "cell_type": "code",
   "execution_count": 13,
   "id": "908eae0a-1f1b-4a03-9f80-871b3713397e",
   "metadata": {},
   "outputs": [],
   "source": [
    "#create obesity categories\n",
    "df[\"Obesity_Category\"] = pd.qcut(df[\"Obesity_Pct\"], q=3, labels=[\"Low\", \"Medium\", \"High\"])"
   ]
  },
  {
   "cell_type": "code",
   "execution_count": 15,
   "id": "f16354d9-d0fe-4cc7-a38a-cd1bfe5d311c",
   "metadata": {},
   "outputs": [],
   "source": [
    "#get feature and target variables\n",
    "feature_cols = [\n",
    "    \"Median_Income\", \"Median_Age\", \"Poverty_Pct\",\n",
    "    \"HS_Grad_Pct\", \"Bachelors_Pct\", \"Unemployed_Pct\",\n",
    "    \"Pct_White_Alone\", \"Pct_Black_Alone\", \"Pct_Asian_Alone\",\n",
    "    \"Pct_Hispanic\", \"Pct_Other\"\n",
    "]\n",
    "X = df[feature_cols]\n",
    "\n",
    "y = df[\"Obesity_Category\"]"
   ]
  },
  {
   "cell_type": "code",
   "execution_count": 17,
   "id": "252f235e-0c58-4c8e-af8c-350066152a60",
   "metadata": {},
   "outputs": [],
   "source": [
    "#get just country FIPS\n",
    "df['Tract_FIPS_full'] = df['Tract_FIPS_full'].astype(str).str.zfill(11)\n",
    "df['County_FIPS'] = df['Tract_FIPS_full'].str[:5]\n",
    "g = df[\"County_FIPS\"]\n"
   ]
  },
  {
   "cell_type": "code",
   "execution_count": 19,
   "id": "2ce12df8-d84a-4662-8e6f-517b7fbd7f47",
   "metadata": {},
   "outputs": [],
   "source": [
    "#split and scale\n",
    "gss = GroupShuffleSplit(n_splits=1, test_size=0.2, random_state=80)\n",
    "train_idx, test_idx = next(gss.split(X, y, groups=g))\n",
    "\n",
    "X_train, X_test = X.iloc[train_idx], X.iloc[test_idx]\n",
    "y_train, y_test = y.iloc[train_idx], y.iloc[test_idx]\n",
    "g_train = g.iloc[train_idx]\n",
    "\n",
    "scaler = StandardScaler()\n",
    "X_train_scaled = scaler.fit_transform(X_train)\n",
    "X_test_scaled = scaler.transform(X_test)"
   ]
  },
  {
   "cell_type": "code",
   "execution_count": 21,
   "id": "65bcc01d-3254-4a4d-917d-429678f69251",
   "metadata": {},
   "outputs": [],
   "source": [
    "#convert y to numeric codes (0, 1, 2)\n",
    "y_train_num = y_train.cat.codes if hasattr(y_train, \"cat\") else y_train\n",
    "y_test_num = y_test.cat.codes if hasattr(y_test, \"cat\") else y_test"
   ]
  },
  {
   "cell_type": "code",
   "execution_count": 23,
   "id": "769762b4-65a2-43e4-bf46-6c7f38c96537",
   "metadata": {},
   "outputs": [],
   "source": [
    "#binarize for multiclass ROC AUC\n",
    "classes = y.cat.categories if hasattr(y, \"cat\") else np.unique(y)\n",
    "y_test_bin = label_binarize(y_test_num, classes=np.arange(len(classes)))\n",
    "\n",
    "#optimize KNN by ROC AUC\n",
    "auc_scores = []\n",
    "for k in range(1, 31):\n",
    "    knn = KNeighborsClassifier(n_neighbors=k)\n",
    "    knn.fit(X_train_scaled, y_train_num)\n",
    "    y_prob = knn.predict_proba(X_test_scaled)\n",
    "    \n",
    "    # Compute multiclass ROC AUC (one-vs-rest)\n",
    "    auc = roc_auc_score(y_test_bin, y_prob, multi_class=\"ovr\")\n",
    "    auc_scores.append(auc)"
   ]
  },
  {
   "cell_type": "code",
   "execution_count": 26,
   "id": "b6abf98d-cf21-4bb7-bd96-fd4a72796b42",
   "metadata": {},
   "outputs": [
    {
     "data": {
      "image/png": "[encoded data removed]",
      "text/plain": [
       "<Figure size 700x400 with 1 Axes>"
      ]
     },
     "metadata": {},
     "output_type": "display_data"
    }
   ],
   "source": [
    "#plot AUC vs k\n",
    "plt.figure(figsize=(7,4))\n",
    "plt.plot(range(1, 31), auc_scores, marker=\"o\")\n",
    "plt.title(\"AUC vs k\")\n",
    "plt.xlabel(\"Number of Neighbors (k)\")\n",
    "plt.ylabel(\"ECE (lower is better)\")\n",
    "plt.grid(True)\n",
    "plt.show()"
   ]
  },
  {
   "cell_type": "code",
   "execution_count": 271,
   "id": "cfea04d3-1aeb-42fc-b9f2-8cad80a00a03",
   "metadata": {},
   "outputs": [
    {
     "name": "stdout",
     "output_type": "stream",
     "text": [
      "Final KNN model (k=25) evaluation:\n",
      "Accuracy: 0.7231\n",
      "Log Loss: 1.3756\n",
      "\n",
      "Classification Report:\n",
      "              precision    recall  f1-score   support\n",
      "\n",
      "           0       0.79      0.82      0.80      2568\n",
      "           1       0.62      0.57      0.59      2308\n",
      "           2       0.75      0.78      0.76      1862\n",
      "\n",
      "    accuracy                           0.72      6738\n",
      "   macro avg       0.72      0.72      0.72      6738\n",
      "weighted avg       0.72      0.72      0.72      6738\n",
      "\n",
      "\n",
      "Confusion Matrix:\n",
      "[[2107  426   35]\n",
      " [ 544 1311  453]\n",
      " [  17  391 1454]]\n"
     ]
    }
   ],
   "source": [
    "#test!\n",
    "\n",
    "# Train final model using best_k\n",
    "final_knn = KNeighborsClassifier(n_neighbors=10)\n",
    "final_knn.fit(X_train_scaled, y_train_num)\n",
    "\n",
    "# Predict on test set\n",
    "y_pred = final_knn.predict(X_test_scaled)\n",
    "y_prob = final_knn.predict_proba(X_test_scaled)\n",
    "\n",
    "# Basic evaluation metrics\n",
    "from sklearn.metrics import accuracy_score, classification_report, confusion_matrix, log_loss\n",
    "\n",
    "acc = accuracy_score(y_test_num, y_pred)\n",
    "ll = log_loss(y_test_num, y_prob)\n",
    "\n",
    "print(f\"Final KNN model (k={best_k}) evaluation:\")\n",
    "print(f\"Accuracy: {acc:.4f}\")\n",
    "print(f\"Log Loss: {ll:.4f}\")\n",
    "print(\"\\nClassification Report:\")\n",
    "print(classification_report(y_test_num, y_pred))\n",
    "print(\"\\nConfusion Matrix:\")\n",
    "print(confusion_matrix(y_test_num, y_pred))\n"
   ]
  },
  {
   "cell_type": "code",
   "execution_count": null,
   "id": "af5c3f30-30bd-470a-839f-cdbaf07ae3b5",
   "metadata": {},
   "outputs": [],
   "source": []
  }
 ],
 "metadata": {
  "kernelspec": {
   "display_name": "Python [conda env:base] *",
   "language": "python",
   "name": "conda-base-py"
  },
  "language_info": {
   "codemirror_mode": {
    "name": "ipython",
    "version": 3
   },
   "file_extension": ".py",
   "mimetype": "text/x-python",
   "name": "python",
   "nbconvert_exporter": "python",
   "pygments_lexer": "ipython3",
   "version": "3.12.7"
  }
 },
 "nbformat": 4,
 "nbformat_minor": 5
}
