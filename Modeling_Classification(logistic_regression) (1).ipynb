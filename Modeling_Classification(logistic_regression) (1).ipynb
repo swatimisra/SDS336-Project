{
  "cells": [
    {
      "cell_type": "markdown",
      "id": "d6c60170-e923-475e-b5a0-7c45fcfe77f5",
      "metadata": {
        "id": "d6c60170-e923-475e-b5a0-7c45fcfe77f5"
      },
      "source": [
        "# Modeling Classification"
      ]
    },
    {
      "cell_type": "code",
      "execution_count": 9,
      "id": "3e200fd1-a9ab-445e-a1d5-2f0c00b25b11",
      "metadata": {
        "id": "3e200fd1-a9ab-445e-a1d5-2f0c00b25b11"
      },
      "outputs": [],
      "source": [
        "#import libraires and read in data\n",
        "import pandas as pd\n",
        "import numpy as np\n",
        "from sklearn.model_selection import train_test_split\n",
        "from sklearn.preprocessing import StandardScaler\n",
        "from sklearn.neighbors import KNeighborsClassifier\n",
        "from sklearn.linear_model import LogisticRegression\n",
        "from sklearn.metrics import classification_report, confusion_matrix\n",
        "\n",
        "df = pd.read_csv(\"/content/merged_health_census_clean (1).csv\")"
      ]
    },
    {
      "cell_type": "code",
      "source": [],
      "metadata": {
        "id": "aDMOQRlxA2ic"
      },
      "id": "aDMOQRlxA2ic",
      "execution_count": null,
      "outputs": []
    },
    {
      "cell_type": "code",
      "source": [
        "!pip install codecarbon\n",
        "from codecarbon import EmissionsTracker\n",
        "import logging\n",
        "import sys\n",
        "\n",
        "\n",
        "# Start the total tracker\n",
        "total_tracker = EmissionsTracker(\n",
        "   measure_power_secs=1,\n",
        "   save_to_file=False,\n",
        "   log_level=\"error\"\n",
        ")\n",
        "total_tracker.start()"
      ],
      "metadata": {
        "colab": {
          "base_uri": "https://localhost:8080/"
        },
        "id": "S8cwOKKTALlX",
        "outputId": "72ab3dd4-fddd-45b2-fa03-5be12700b9d8"
      },
      "execution_count": 1,
      "outputs": [
        {
          "output_type": "stream",
          "name": "stdout",
          "text": [
            "Requirement already satisfied: codecarbon in /usr/local/lib/python3.12/dist-packages (3.0.7)\n",
            "Requirement already satisfied: arrow in /usr/local/lib/python3.12/dist-packages (from codecarbon) (1.4.0)\n",
            "Requirement already satisfied: click in /usr/local/lib/python3.12/dist-packages (from codecarbon) (8.3.0)\n",
            "Requirement already satisfied: fief-client[cli] in /usr/local/lib/python3.12/dist-packages (from codecarbon) (0.20.0)\n",
            "Requirement already satisfied: pandas in /usr/local/lib/python3.12/dist-packages (from codecarbon) (2.2.2)\n",
            "Requirement already satisfied: prometheus_client in /usr/local/lib/python3.12/dist-packages (from codecarbon) (0.23.1)\n",
            "Requirement already satisfied: psutil>=6.0.0 in /usr/local/lib/python3.12/dist-packages (from codecarbon) (7.1.2)\n",
            "Requirement already satisfied: py-cpuinfo in /usr/local/lib/python3.12/dist-packages (from codecarbon) (9.0.0)\n",
            "Requirement already satisfied: pydantic in /usr/local/lib/python3.12/dist-packages (from codecarbon) (2.11.10)\n",
            "Requirement already satisfied: nvidia-ml-py in /usr/local/lib/python3.12/dist-packages (from codecarbon) (12.575.51)\n",
            "Requirement already satisfied: rapidfuzz in /usr/local/lib/python3.12/dist-packages (from codecarbon) (3.14.1)\n",
            "Requirement already satisfied: requests in /usr/local/lib/python3.12/dist-packages (from codecarbon) (2.32.4)\n",
            "Requirement already satisfied: questionary in /usr/local/lib/python3.12/dist-packages (from codecarbon) (2.1.1)\n",
            "Requirement already satisfied: rich in /usr/local/lib/python3.12/dist-packages (from codecarbon) (13.9.4)\n",
            "Requirement already satisfied: typer in /usr/local/lib/python3.12/dist-packages (from codecarbon) (0.20.0)\n",
            "Requirement already satisfied: python-dateutil>=2.7.0 in /usr/local/lib/python3.12/dist-packages (from arrow->codecarbon) (2.9.0.post0)\n",
            "Requirement already satisfied: tzdata in /usr/local/lib/python3.12/dist-packages (from arrow->codecarbon) (2025.2)\n",
            "Requirement already satisfied: httpx<0.28.0,>=0.21.3 in /usr/local/lib/python3.12/dist-packages (from fief-client[cli]->codecarbon) (0.27.2)\n",
            "Requirement already satisfied: jwcrypto<2.0.0,>=1.4 in /usr/local/lib/python3.12/dist-packages (from fief-client[cli]->codecarbon) (1.5.6)\n",
            "Requirement already satisfied: yaspin in /usr/local/lib/python3.12/dist-packages (from fief-client[cli]->codecarbon) (3.3.0)\n",
            "Requirement already satisfied: numpy>=1.26.0 in /usr/local/lib/python3.12/dist-packages (from pandas->codecarbon) (2.0.2)\n",
            "Requirement already satisfied: pytz>=2020.1 in /usr/local/lib/python3.12/dist-packages (from pandas->codecarbon) (2025.2)\n",
            "Requirement already satisfied: annotated-types>=0.6.0 in /usr/local/lib/python3.12/dist-packages (from pydantic->codecarbon) (0.7.0)\n",
            "Requirement already satisfied: pydantic-core==2.33.2 in /usr/local/lib/python3.12/dist-packages (from pydantic->codecarbon) (2.33.2)\n",
            "Requirement already satisfied: typing-extensions>=4.12.2 in /usr/local/lib/python3.12/dist-packages (from pydantic->codecarbon) (4.15.0)\n",
            "Requirement already satisfied: typing-inspection>=0.4.0 in /usr/local/lib/python3.12/dist-packages (from pydantic->codecarbon) (0.4.2)\n",
            "Requirement already satisfied: prompt_toolkit<4.0,>=2.0 in /usr/local/lib/python3.12/dist-packages (from questionary->codecarbon) (3.0.52)\n",
            "Requirement already satisfied: charset_normalizer<4,>=2 in /usr/local/lib/python3.12/dist-packages (from requests->codecarbon) (3.4.4)\n",
            "Requirement already satisfied: idna<4,>=2.5 in /usr/local/lib/python3.12/dist-packages (from requests->codecarbon) (3.11)\n",
            "Requirement already satisfied: urllib3<3,>=1.21.1 in /usr/local/lib/python3.12/dist-packages (from requests->codecarbon) (2.5.0)\n",
            "Requirement already satisfied: certifi>=2017.4.17 in /usr/local/lib/python3.12/dist-packages (from requests->codecarbon) (2025.10.5)\n",
            "Requirement already satisfied: markdown-it-py>=2.2.0 in /usr/local/lib/python3.12/dist-packages (from rich->codecarbon) (4.0.0)\n",
            "Requirement already satisfied: pygments<3.0.0,>=2.13.0 in /usr/local/lib/python3.12/dist-packages (from rich->codecarbon) (2.19.2)\n",
            "Requirement already satisfied: shellingham>=1.3.0 in /usr/local/lib/python3.12/dist-packages (from typer->codecarbon) (1.5.4)\n",
            "Requirement already satisfied: anyio in /usr/local/lib/python3.12/dist-packages (from httpx<0.28.0,>=0.21.3->fief-client[cli]->codecarbon) (4.11.0)\n",
            "Requirement already satisfied: httpcore==1.* in /usr/local/lib/python3.12/dist-packages (from httpx<0.28.0,>=0.21.3->fief-client[cli]->codecarbon) (1.0.9)\n",
            "Requirement already satisfied: sniffio in /usr/local/lib/python3.12/dist-packages (from httpx<0.28.0,>=0.21.3->fief-client[cli]->codecarbon) (1.3.1)\n",
            "Requirement already satisfied: h11>=0.16 in /usr/local/lib/python3.12/dist-packages (from httpcore==1.*->httpx<0.28.0,>=0.21.3->fief-client[cli]->codecarbon) (0.16.0)\n",
            "Requirement already satisfied: cryptography>=3.4 in /usr/local/lib/python3.12/dist-packages (from jwcrypto<2.0.0,>=1.4->fief-client[cli]->codecarbon) (43.0.3)\n",
            "Requirement already satisfied: mdurl~=0.1 in /usr/local/lib/python3.12/dist-packages (from markdown-it-py>=2.2.0->rich->codecarbon) (0.1.2)\n",
            "Requirement already satisfied: wcwidth in /usr/local/lib/python3.12/dist-packages (from prompt_toolkit<4.0,>=2.0->questionary->codecarbon) (0.2.14)\n",
            "Requirement already satisfied: six>=1.5 in /usr/local/lib/python3.12/dist-packages (from python-dateutil>=2.7.0->arrow->codecarbon) (1.17.0)\n",
            "Requirement already satisfied: termcolor<4.0,>=3.1 in /usr/local/lib/python3.12/dist-packages (from yaspin->fief-client[cli]->codecarbon) (3.1.0)\n",
            "Requirement already satisfied: cffi>=1.12 in /usr/local/lib/python3.12/dist-packages (from cryptography>=3.4->jwcrypto<2.0.0,>=1.4->fief-client[cli]->codecarbon) (2.0.0)\n",
            "Requirement already satisfied: pycparser in /usr/local/lib/python3.12/dist-packages (from cffi>=1.12->cryptography>=3.4->jwcrypto<2.0.0,>=1.4->fief-client[cli]->codecarbon) (2.23)\n"
          ]
        },
        {
          "output_type": "stream",
          "name": "stderr",
          "text": [
            "[codecarbon WARNING @ 00:13:45] Multiple instances of codecarbon are allowed to run at the same time.\n"
          ]
        }
      ],
      "id": "S8cwOKKTALlX"
    },
    {
      "cell_type": "code",
      "execution_count": null,
      "id": "8204d6b8-0ba1-4d8c-8d6d-250ac0a001f9",
      "metadata": {
        "colab": {
          "base_uri": "https://localhost:8080/",
          "height": 342
        },
        "id": "8204d6b8-0ba1-4d8c-8d6d-250ac0a001f9",
        "outputId": "4b2ae112-25e9-46e4-d20b-1b4278c03b79"
      },
      "outputs": [
        {
          "output_type": "execute_result",
          "data": {
            "text/plain": [
              "  StateAbbr    PlaceName  PlaceFIPS    TractFIPS        Place_TractID  \\\n",
              "0        CA  Los Angeles     644000   6037206032  0644000-06037206032   \n",
              "1        CA     Pasadena     656000   6037462001  0656000-06037462001   \n",
              "2        CA    Fullerton     628000   6059011504  0628000-06059011504   \n",
              "3        TX     Longview    4843888  48183000401  4843888-48183000401   \n",
              "4        WI      Madison    5548000  55025002200  5548000-55025002200   \n",
              "\n",
              "   Tract_FIPS_full  Health_Pop  Obesity_Pct  Obesity_Count  Diabetes_Pct  ...  \\\n",
              "0       6037206032        5275         29.5         1556.0          15.5  ...   \n",
              "1       6037462001        3974         32.0         1272.0          11.6  ...   \n",
              "2       6059011504        5473         18.7         1023.0           4.6  ...   \n",
              "3      48183000401        3371         33.9         1143.0           9.2  ...   \n",
              "4      55025002200        4254         29.5         1255.0           8.7  ...   \n",
              "\n",
              "   Bachelors_Count  Unemployed_Pct  Unemployed_Count  Race_Total  \\\n",
              "0              309        4.823990               185        5133   \n",
              "1              367        5.752670               167        3893   \n",
              "2              873        6.832522               379        6024   \n",
              "3              201        4.592980               123        3170   \n",
              "4              594        9.886264               339        4030   \n",
              "\n",
              "   Pct_White_Alone  Pct_Black_Alone  Pct_Asian_Alone  Majority_Race_Clean  \\\n",
              "0        58.620690         0.935126        16.637444             Hispanic   \n",
              "1        48.548677        10.608785         9.915232             Hispanic   \n",
              "2        61.636786         1.626826        23.090969                White   \n",
              "3        82.965300         9.589905         3.470032                White   \n",
              "4        73.374690        11.116625         5.831266                White   \n",
              "\n",
              "   Pct_Hispanic  Pct_Other  \n",
              "0     77.089421  23.806741  \n",
              "1     70.459800  30.927305  \n",
              "2     30.378486  13.645418  \n",
              "3      7.350158   3.974763  \n",
              "4      8.263027   9.677419  \n",
              "\n",
              "[5 rows x 50 columns]"
            ],
            "text/html": [
              "\n",
              "  <div id=\"df-27cf3cc4-da85-4a5b-a14e-371dfef02e69\" class=\"colab-df-container\">\n",
              "    <div>\n",
              "<style scoped>\n",
              "    .dataframe tbody tr th:only-of-type {\n",
              "        vertical-align: middle;\n",
              "    }\n",
              "\n",
              "    .dataframe tbody tr th {\n",
              "        vertical-align: top;\n",
              "    }\n",
              "\n",
              "    .dataframe thead th {\n",
              "        text-align: right;\n",
              "    }\n",
              "</style>\n",
              "<table border=\"1\" class=\"dataframe\">\n",
              "  <thead>\n",
              "    <tr style=\"text-align: right;\">\n",
              "      <th></th>\n",
              "      <th>StateAbbr</th>\n",
              "      <th>PlaceName</th>\n",
              "      <th>PlaceFIPS</th>\n",
              "      <th>TractFIPS</th>\n",
              "      <th>Place_TractID</th>\n",
              "      <th>Tract_FIPS_full</th>\n",
              "      <th>Health_Pop</th>\n",
              "      <th>Obesity_Pct</th>\n",
              "      <th>Obesity_Count</th>\n",
              "      <th>Diabetes_Pct</th>\n",
              "      <th>...</th>\n",
              "      <th>Bachelors_Count</th>\n",
              "      <th>Unemployed_Pct</th>\n",
              "      <th>Unemployed_Count</th>\n",
              "      <th>Race_Total</th>\n",
              "      <th>Pct_White_Alone</th>\n",
              "      <th>Pct_Black_Alone</th>\n",
              "      <th>Pct_Asian_Alone</th>\n",
              "      <th>Majority_Race_Clean</th>\n",
              "      <th>Pct_Hispanic</th>\n",
              "      <th>Pct_Other</th>\n",
              "    </tr>\n",
              "  </thead>\n",
              "  <tbody>\n",
              "    <tr>\n",
              "      <th>0</th>\n",
              "      <td>CA</td>\n",
              "      <td>Los Angeles</td>\n",
              "      <td>644000</td>\n",
              "      <td>6037206032</td>\n",
              "      <td>0644000-06037206032</td>\n",
              "      <td>6037206032</td>\n",
              "      <td>5275</td>\n",
              "      <td>29.5</td>\n",
              "      <td>1556.0</td>\n",
              "      <td>15.5</td>\n",
              "      <td>...</td>\n",
              "      <td>309</td>\n",
              "      <td>4.823990</td>\n",
              "      <td>185</td>\n",
              "      <td>5133</td>\n",
              "      <td>58.620690</td>\n",
              "      <td>0.935126</td>\n",
              "      <td>16.637444</td>\n",
              "      <td>Hispanic</td>\n",
              "      <td>77.089421</td>\n",
              "      <td>23.806741</td>\n",
              "    </tr>\n",
              "    <tr>\n",
              "      <th>1</th>\n",
              "      <td>CA</td>\n",
              "      <td>Pasadena</td>\n",
              "      <td>656000</td>\n",
              "      <td>6037462001</td>\n",
              "      <td>0656000-06037462001</td>\n",
              "      <td>6037462001</td>\n",
              "      <td>3974</td>\n",
              "      <td>32.0</td>\n",
              "      <td>1272.0</td>\n",
              "      <td>11.6</td>\n",
              "      <td>...</td>\n",
              "      <td>367</td>\n",
              "      <td>5.752670</td>\n",
              "      <td>167</td>\n",
              "      <td>3893</td>\n",
              "      <td>48.548677</td>\n",
              "      <td>10.608785</td>\n",
              "      <td>9.915232</td>\n",
              "      <td>Hispanic</td>\n",
              "      <td>70.459800</td>\n",
              "      <td>30.927305</td>\n",
              "    </tr>\n",
              "    <tr>\n",
              "      <th>2</th>\n",
              "      <td>CA</td>\n",
              "      <td>Fullerton</td>\n",
              "      <td>628000</td>\n",
              "      <td>6059011504</td>\n",
              "      <td>0628000-06059011504</td>\n",
              "      <td>6059011504</td>\n",
              "      <td>5473</td>\n",
              "      <td>18.7</td>\n",
              "      <td>1023.0</td>\n",
              "      <td>4.6</td>\n",
              "      <td>...</td>\n",
              "      <td>873</td>\n",
              "      <td>6.832522</td>\n",
              "      <td>379</td>\n",
              "      <td>6024</td>\n",
              "      <td>61.636786</td>\n",
              "      <td>1.626826</td>\n",
              "      <td>23.090969</td>\n",
              "      <td>White</td>\n",
              "      <td>30.378486</td>\n",
              "      <td>13.645418</td>\n",
              "    </tr>\n",
              "    <tr>\n",
              "      <th>3</th>\n",
              "      <td>TX</td>\n",
              "      <td>Longview</td>\n",
              "      <td>4843888</td>\n",
              "      <td>48183000401</td>\n",
              "      <td>4843888-48183000401</td>\n",
              "      <td>48183000401</td>\n",
              "      <td>3371</td>\n",
              "      <td>33.9</td>\n",
              "      <td>1143.0</td>\n",
              "      <td>9.2</td>\n",
              "      <td>...</td>\n",
              "      <td>201</td>\n",
              "      <td>4.592980</td>\n",
              "      <td>123</td>\n",
              "      <td>3170</td>\n",
              "      <td>82.965300</td>\n",
              "      <td>9.589905</td>\n",
              "      <td>3.470032</td>\n",
              "      <td>White</td>\n",
              "      <td>7.350158</td>\n",
              "      <td>3.974763</td>\n",
              "    </tr>\n",
              "    <tr>\n",
              "      <th>4</th>\n",
              "      <td>WI</td>\n",
              "      <td>Madison</td>\n",
              "      <td>5548000</td>\n",
              "      <td>55025002200</td>\n",
              "      <td>5548000-55025002200</td>\n",
              "      <td>55025002200</td>\n",
              "      <td>4254</td>\n",
              "      <td>29.5</td>\n",
              "      <td>1255.0</td>\n",
              "      <td>8.7</td>\n",
              "      <td>...</td>\n",
              "      <td>594</td>\n",
              "      <td>9.886264</td>\n",
              "      <td>339</td>\n",
              "      <td>4030</td>\n",
              "      <td>73.374690</td>\n",
              "      <td>11.116625</td>\n",
              "      <td>5.831266</td>\n",
              "      <td>White</td>\n",
              "      <td>8.263027</td>\n",
              "      <td>9.677419</td>\n",
              "    </tr>\n",
              "  </tbody>\n",
              "</table>\n",
              "<p>5 rows × 50 columns</p>\n",
              "</div>\n",
              "    <div class=\"colab-df-buttons\">\n",
              "\n",
              "  <div class=\"colab-df-container\">\n",
              "    <button class=\"colab-df-convert\" onclick=\"convertToInteractive('df-27cf3cc4-da85-4a5b-a14e-371dfef02e69')\"\n",
              "            title=\"Convert this dataframe to an interactive table.\"\n",
              "            style=\"display:none;\">\n",
              "\n",
              "  <svg xmlns=\"http://www.w3.org/2000/svg\" height=\"24px\" viewBox=\"0 -960 960 960\">\n",
              "    <path d=\"M120-120v-720h720v720H120Zm60-500h600v-160H180v160Zm220 220h160v-160H400v160Zm0 220h160v-160H400v160ZM180-400h160v-160H180v160Zm440 0h160v-160H620v160ZM180-180h160v-160H180v160Zm440 0h160v-160H620v160Z\"/>\n",
              "  </svg>\n",
              "    </button>\n",
              "\n",
              "  <style>\n",
              "    .colab-df-container {\n",
              "      display:flex;\n",
              "      gap: 12px;\n",
              "    }\n",
              "\n",
              "    .colab-df-convert {\n",
              "      background-color: #E8F0FE;\n",
              "      border: none;\n",
              "      border-radius: 50%;\n",
              "      cursor: pointer;\n",
              "      display: none;\n",
              "      fill: #1967D2;\n",
              "      height: 32px;\n",
              "      padding: 0 0 0 0;\n",
              "      width: 32px;\n",
              "    }\n",
              "\n",
              "    .colab-df-convert:hover {\n",
              "      background-color: #E2EBFA;\n",
              "      box-shadow: 0px 1px 2px rgba(60, 64, 67, 0.3), 0px 1px 3px 1px rgba(60, 64, 67, 0.15);\n",
              "      fill: #174EA6;\n",
              "    }\n",
              "\n",
              "    .colab-df-buttons div {\n",
              "      margin-bottom: 4px;\n",
              "    }\n",
              "\n",
              "    [theme=dark] .colab-df-convert {\n",
              "      background-color: #3B4455;\n",
              "      fill: #D2E3FC;\n",
              "    }\n",
              "\n",
              "    [theme=dark] .colab-df-convert:hover {\n",
              "      background-color: #434B5C;\n",
              "      box-shadow: 0px 1px 3px 1px rgba(0, 0, 0, 0.15);\n",
              "      filter: drop-shadow(0px 1px 2px rgba(0, 0, 0, 0.3));\n",
              "      fill: #FFFFFF;\n",
              "    }\n",
              "  </style>\n",
              "\n",
              "    <script>\n",
              "      const buttonEl =\n",
              "        document.querySelector('#df-27cf3cc4-da85-4a5b-a14e-371dfef02e69 button.colab-df-convert');\n",
              "      buttonEl.style.display =\n",
              "        google.colab.kernel.accessAllowed ? 'block' : 'none';\n",
              "\n",
              "      async function convertToInteractive(key) {\n",
              "        const element = document.querySelector('#df-27cf3cc4-da85-4a5b-a14e-371dfef02e69');\n",
              "        const dataTable =\n",
              "          await google.colab.kernel.invokeFunction('convertToInteractive',\n",
              "                                                    [key], {});\n",
              "        if (!dataTable) return;\n",
              "\n",
              "        const docLinkHtml = 'Like what you see? Visit the ' +\n",
              "          '<a target=\"_blank\" href=https://colab.research.google.com/notebooks/data_table.ipynb>data table notebook</a>'\n",
              "          + ' to learn more about interactive tables.';\n",
              "        element.innerHTML = '';\n",
              "        dataTable['output_type'] = 'display_data';\n",
              "        await google.colab.output.renderOutput(dataTable, element);\n",
              "        const docLink = document.createElement('div');\n",
              "        docLink.innerHTML = docLinkHtml;\n",
              "        element.appendChild(docLink);\n",
              "      }\n",
              "    </script>\n",
              "  </div>\n",
              "\n",
              "\n",
              "    <div id=\"df-b8f74309-9f1b-46e5-8708-d1a626b6e949\">\n",
              "      <button class=\"colab-df-quickchart\" onclick=\"quickchart('df-b8f74309-9f1b-46e5-8708-d1a626b6e949')\"\n",
              "                title=\"Suggest charts\"\n",
              "                style=\"display:none;\">\n",
              "\n",
              "<svg xmlns=\"http://www.w3.org/2000/svg\" height=\"24px\"viewBox=\"0 0 24 24\"\n",
              "     width=\"24px\">\n",
              "    <g>\n",
              "        <path d=\"M19 3H5c-1.1 0-2 .9-2 2v14c0 1.1.9 2 2 2h14c1.1 0 2-.9 2-2V5c0-1.1-.9-2-2-2zM9 17H7v-7h2v7zm4 0h-2V7h2v10zm4 0h-2v-4h2v4z\"/>\n",
              "    </g>\n",
              "</svg>\n",
              "      </button>\n",
              "\n",
              "<style>\n",
              "  .colab-df-quickchart {\n",
              "      --bg-color: #E8F0FE;\n",
              "      --fill-color: #1967D2;\n",
              "      --hover-bg-color: #E2EBFA;\n",
              "      --hover-fill-color: #174EA6;\n",
              "      --disabled-fill-color: #AAA;\n",
              "      --disabled-bg-color: #DDD;\n",
              "  }\n",
              "\n",
              "  [theme=dark] .colab-df-quickchart {\n",
              "      --bg-color: #3B4455;\n",
              "      --fill-color: #D2E3FC;\n",
              "      --hover-bg-color: #434B5C;\n",
              "      --hover-fill-color: #FFFFFF;\n",
              "      --disabled-bg-color: #3B4455;\n",
              "      --disabled-fill-color: #666;\n",
              "  }\n",
              "\n",
              "  .colab-df-quickchart {\n",
              "    background-color: var(--bg-color);\n",
              "    border: none;\n",
              "    border-radius: 50%;\n",
              "    cursor: pointer;\n",
              "    display: none;\n",
              "    fill: var(--fill-color);\n",
              "    height: 32px;\n",
              "    padding: 0;\n",
              "    width: 32px;\n",
              "  }\n",
              "\n",
              "  .colab-df-quickchart:hover {\n",
              "    background-color: var(--hover-bg-color);\n",
              "    box-shadow: 0 1px 2px rgba(60, 64, 67, 0.3), 0 1px 3px 1px rgba(60, 64, 67, 0.15);\n",
              "    fill: var(--button-hover-fill-color);\n",
              "  }\n",
              "\n",
              "  .colab-df-quickchart-complete:disabled,\n",
              "  .colab-df-quickchart-complete:disabled:hover {\n",
              "    background-color: var(--disabled-bg-color);\n",
              "    fill: var(--disabled-fill-color);\n",
              "    box-shadow: none;\n",
              "  }\n",
              "\n",
              "  .colab-df-spinner {\n",
              "    border: 2px solid var(--fill-color);\n",
              "    border-color: transparent;\n",
              "    border-bottom-color: var(--fill-color);\n",
              "    animation:\n",
              "      spin 1s steps(1) infinite;\n",
              "  }\n",
              "\n",
              "  @keyframes spin {\n",
              "    0% {\n",
              "      border-color: transparent;\n",
              "      border-bottom-color: var(--fill-color);\n",
              "      border-left-color: var(--fill-color);\n",
              "    }\n",
              "    20% {\n",
              "      border-color: transparent;\n",
              "      border-left-color: var(--fill-color);\n",
              "      border-top-color: var(--fill-color);\n",
              "    }\n",
              "    30% {\n",
              "      border-color: transparent;\n",
              "      border-left-color: var(--fill-color);\n",
              "      border-top-color: var(--fill-color);\n",
              "      border-right-color: var(--fill-color);\n",
              "    }\n",
              "    40% {\n",
              "      border-color: transparent;\n",
              "      border-right-color: var(--fill-color);\n",
              "      border-top-color: var(--fill-color);\n",
              "    }\n",
              "    60% {\n",
              "      border-color: transparent;\n",
              "      border-right-color: var(--fill-color);\n",
              "    }\n",
              "    80% {\n",
              "      border-color: transparent;\n",
              "      border-right-color: var(--fill-color);\n",
              "      border-bottom-color: var(--fill-color);\n",
              "    }\n",
              "    90% {\n",
              "      border-color: transparent;\n",
              "      border-bottom-color: var(--fill-color);\n",
              "    }\n",
              "  }\n",
              "</style>\n",
              "\n",
              "      <script>\n",
              "        async function quickchart(key) {\n",
              "          const quickchartButtonEl =\n",
              "            document.querySelector('#' + key + ' button');\n",
              "          quickchartButtonEl.disabled = true;  // To prevent multiple clicks.\n",
              "          quickchartButtonEl.classList.add('colab-df-spinner');\n",
              "          try {\n",
              "            const charts = await google.colab.kernel.invokeFunction(\n",
              "                'suggestCharts', [key], {});\n",
              "          } catch (error) {\n",
              "            console.error('Error during call to suggestCharts:', error);\n",
              "          }\n",
              "          quickchartButtonEl.classList.remove('colab-df-spinner');\n",
              "          quickchartButtonEl.classList.add('colab-df-quickchart-complete');\n",
              "        }\n",
              "        (() => {\n",
              "          let quickchartButtonEl =\n",
              "            document.querySelector('#df-b8f74309-9f1b-46e5-8708-d1a626b6e949 button');\n",
              "          quickchartButtonEl.style.display =\n",
              "            google.colab.kernel.accessAllowed ? 'block' : 'none';\n",
              "        })();\n",
              "      </script>\n",
              "    </div>\n",
              "\n",
              "    </div>\n",
              "  </div>\n"
            ],
            "application/vnd.google.colaboratory.intrinsic+json": {
              "type": "dataframe",
              "variable_name": "df"
            }
          },
          "metadata": {},
          "execution_count": 4
        }
      ],
      "source": [
        "df.head()"
      ]
    },
    {
      "cell_type": "code",
      "execution_count": null,
      "id": "e071476d-f662-450b-b5f2-39775c4d1722",
      "metadata": {
        "colab": {
          "base_uri": "https://localhost:8080/"
        },
        "id": "e071476d-f662-450b-b5f2-39775c4d1722",
        "outputId": "517a546c-ae8a-4272-f1cd-f1792be13acf"
      },
      "outputs": [
        {
          "output_type": "execute_result",
          "data": {
            "text/plain": [
              "Index(['StateAbbr', 'PlaceName', 'PlaceFIPS', 'TractFIPS', 'Place_TractID',\n",
              "       'Tract_FIPS_full', 'Health_Pop', 'Obesity_Pct', 'Obesity_Count',\n",
              "       'Diabetes_Pct', 'Diabetes_Count', 'HighChol_Pct', 'HighChol_Count',\n",
              "       'HighBP_Pct', 'HighBP_Count', 'Stroke_Pct', 'Stroke_Count', 'Sleep_Pct',\n",
              "       'Sleep_Count', 'MentalHealth_Pct', 'MentalHealth_Count', 'Asthma_Pct',\n",
              "       'Asthma_Count', 'HeartDisease_Pct', 'HeartDisease_Count', 'Smoking_Pct',\n",
              "       'Smoking_Count', 'State_FIPS', 'County_FIPS', 'Tract_FIPS',\n",
              "       'State_Name', 'County_Name', 'Tract_Name', 'Median_Income',\n",
              "       'Median_Age', 'Poverty_Pct', 'Poverty_Count', 'HS_Grad_Pct',\n",
              "       'HS_Grad_Count', 'Bachelors_Pct', 'Bachelors_Count', 'Unemployed_Pct',\n",
              "       'Unemployed_Count', 'Race_Total', 'Pct_White_Alone', 'Pct_Black_Alone',\n",
              "       'Pct_Asian_Alone', 'Majority_Race_Clean', 'Pct_Hispanic', 'Pct_Other'],\n",
              "      dtype='object')"
            ]
          },
          "metadata": {},
          "execution_count": 6
        }
      ],
      "source": [
        "df.columns"
      ]
    },
    {
      "cell_type": "markdown",
      "id": "6a54d910-25bc-451b-bbd4-28f54b99ee4a",
      "metadata": {
        "id": "6a54d910-25bc-451b-bbd4-28f54b99ee4a"
      },
      "source": [
        "### Modeling Setup"
      ]
    },
    {
      "cell_type": "code",
      "execution_count": 10,
      "id": "0b30d86c-509b-4e27-8d26-7d49f8b24fec",
      "metadata": {
        "id": "0b30d86c-509b-4e27-8d26-7d49f8b24fec"
      },
      "outputs": [],
      "source": [
        "#create obesity categories\n",
        "df[\"Obesity_Category\"] = pd.qcut(df[\"Obesity_Pct\"], q=3, labels=[\"Low\", \"Medium\", \"High\"])"
      ]
    },
    {
      "cell_type": "code",
      "execution_count": 11,
      "id": "0da09e3e-2336-4ff1-a608-88339c5ae6ad",
      "metadata": {
        "id": "0da09e3e-2336-4ff1-a608-88339c5ae6ad"
      },
      "outputs": [],
      "source": [
        "#define features and target\n",
        "X = df[[\"Median_Income\", \"Median_Age\", \"Poverty_Pct\",\n",
        "        \"HS_Grad_Pct\", \"Bachelors_Pct\", \"Unemployed_Pct\",\n",
        "        \"Pct_White_Alone\", \"Pct_Black_Alone\", \"Pct_Asian_Alone\",\n",
        "        \"Pct_Hispanic\", \"Pct_Other\"]]\n",
        "y = df[\"Obesity_Category\"]"
      ]
    },
    {
      "cell_type": "code",
      "execution_count": 16,
      "id": "d51adc5d-627b-44d0-8352-b3e841f5c2f8",
      "metadata": {
        "id": "d51adc5d-627b-44d0-8352-b3e841f5c2f8"
      },
      "outputs": [],
      "source": [
        "#test and train set\n",
        "X_train, X_test, y_train, y_test = train_test_split(X, y, test_size=0.2, random_state=80, stratify=y)"
      ]
    },
    {
      "cell_type": "code",
      "execution_count": 17,
      "id": "3fe43d41-4ec0-4639-846d-d174ccda4fc6",
      "metadata": {
        "id": "3fe43d41-4ec0-4639-846d-d174ccda4fc6"
      },
      "outputs": [],
      "source": [
        "#scale features to the same units (z-score)\n",
        "scaler = StandardScaler()\n",
        "X_train_scaled = scaler.fit_transform(X_train)\n",
        "X_test_scaled = scaler.transform(X_test)"
      ]
    },
    {
      "cell_type": "markdown",
      "id": "7ab8834e-5cdd-4f55-93c9-8e5bfd49e130",
      "metadata": {
        "id": "7ab8834e-5cdd-4f55-93c9-8e5bfd49e130"
      },
      "source": [
        "### kNN"
      ]
    },
    {
      "cell_type": "code",
      "execution_count": null,
      "id": "ee8703f2-8e51-4969-b7a3-fe43f5abe737",
      "metadata": {
        "id": "ee8703f2-8e51-4969-b7a3-fe43f5abe737"
      },
      "outputs": [],
      "source": []
    },
    {
      "cell_type": "markdown",
      "id": "0403713d-3bec-4c4b-99f7-5a270e508e93",
      "metadata": {
        "id": "0403713d-3bec-4c4b-99f7-5a270e508e93"
      },
      "source": [
        "### Logistic Regression"
      ]
    },
    {
      "cell_type": "code",
      "execution_count": 18,
      "id": "1e5925e4-2051-4766-ab12-df12c3852ee3",
      "metadata": {
        "id": "1e5925e4-2051-4766-ab12-df12c3852ee3",
        "colab": {
          "base_uri": "https://localhost:8080/"
        },
        "outputId": "af84e766-52d1-44dd-82b3-1ae501b02872"
      },
      "outputs": [
        {
          "output_type": "stream",
          "name": "stderr",
          "text": [
            "/usr/local/lib/python3.12/dist-packages/sklearn/linear_model/_logistic.py:1247: FutureWarning: 'multi_class' was deprecated in version 1.5 and will be removed in 1.7. From then on, it will always use 'multinomial'. Leave it to its default value to avoid this warning.\n",
            "  warnings.warn(\n"
          ]
        },
        {
          "output_type": "stream",
          "name": "stdout",
          "text": [
            "Multinomial Logistic Regression — Accuracy: 0.733 | Macro-F1: 0.732\n",
            "\n",
            "Classification report:\n",
            "               precision    recall  f1-score   support\n",
            "\n",
            "        High      0.808     0.814     0.811      1799\n",
            "         Low      0.782     0.776     0.779      1828\n",
            "      Medium      0.607     0.607     0.607      1796\n",
            "\n",
            "    accuracy                          0.733      5423\n",
            "   macro avg      0.732     0.733     0.732      5423\n",
            "weighted avg      0.733     0.733     0.733      5423\n",
            "\n",
            "Confusion matrix (rows=true, cols=pred):\n",
            "              pred_High  pred_Low  pred_Medium\n",
            "true_High         1465        11          323\n",
            "true_Low            28      1418          382\n",
            "true_Medium        321       384         1091\n"
          ]
        }
      ],
      "source": [
        "#MULTI LOGISTIC REGRESSION\n",
        "\n",
        "#train logistic regression model and evaluate it\n",
        "from sklearn.linear_model import LogisticRegression\n",
        "from sklearn.metrics import accuracy_score, f1_score, classification_report, confusion_matrix\n",
        "import pandas as pd\n",
        "\n",
        "# Train\n",
        "logit_multi = LogisticRegression(\n",
        "    multi_class=\"multinomial\",      # softmax\n",
        "    solver=\"lbfgs\",                 # fast & energy-efficient for small/medium data\n",
        "    max_iter=200,                   # usually converges well with scaled inputs\n",
        "    n_jobs=None                     # keep CPU usage lean\n",
        ")\n",
        "logit_multi.fit(X_train_scaled, y_train)\n",
        "\n",
        "# Predict\n",
        "y_pred_multi = logit_multi.predict(X_test_scaled)\n",
        "y_proba_multi = logit_multi.predict_proba(X_test_scaled)\n",
        "\n",
        "# Evaluate\n",
        "acc = accuracy_score(y_test, y_pred_multi)\n",
        "f1_macro = f1_score(y_test, y_pred_multi, average=\"macro\")\n",
        "print(f\"Multinomial Logistic Regression — Accuracy: {acc:.3f} | Macro-F1: {f1_macro:.3f}\\n\")\n",
        "\n",
        "print(\"Classification report:\\n\", classification_report(y_test, y_pred_multi, digits=3))\n",
        "\n",
        "print(\"Confusion matrix (rows=true, cols=pred):\\n\", pd.DataFrame(\n",
        "    confusion_matrix(y_test, y_pred_multi, labels=logit_multi.classes_),\n",
        "    index=[f\"true_{c}\" for c in logit_multi.classes_],\n",
        "    columns=[f\"pred_{c}\" for c in logit_multi.classes_]\n",
        "))"
      ]
    },
    {
      "cell_type": "markdown",
      "source": [
        "**INTERPRETATION**\n",
        "\n",
        "(Correct Predictions)\n",
        "\n",
        "High: 1465 predicted as high that were actually high\n",
        "\n",
        "Low: 1418 predicted as low that were actually low\n",
        "\n",
        "Medium: 1091 predicted as medium that were actually medium\n",
        "\n",
        "(705 total misclassifcations for Medium-Low and Medium-High, reducing accuracy for medium)\n",
        "\n",
        "---\n",
        "\n",
        "The model predicts the correct obesity category for 73.3% of cases. The model also performs roughly equally across low, medium, and high categories\n",
        "\n",
        "---\n",
        "\n",
        "**Based on Class/ Categorical Results**\n",
        "\n",
        "HIGH: the high category performane extremely well, with strong identifcation of high obesity tracts\n",
        "\n",
        "LOW: this was also a good model, whihc for the most part correctly classifies most low obesity areas\n",
        "\n",
        "MEDIUM: Compareed to the other categories (Low and High) this model is notciable weaker and struggled to distinguish medium from the other two extremes.\n",
        "\n",
        "*Overall the model does a decent job at distinguishing between LOW and HIGH but confuses MEDIUM (categorical overlap) potentially a binary logistic regression might be a better model*\n",
        "\n",
        "---\n"
      ],
      "metadata": {
        "id": "IZK0evAh8uGa"
      },
      "id": "IZK0evAh8uGa"
    },
    {
      "cell_type": "code",
      "source": [
        "# DO NOT NEED\n",
        "# BINARY LOGISTIC REGRESSION\n",
        "\n",
        "from sklearn.linear_model import LogisticRegression\n",
        "from sklearn.metrics import roc_auc_score\n",
        "\n",
        "# Recode target: High=1, else=0\n",
        "y_train_high = (y_train == \"High\").astype(int)\n",
        "y_test_high  = (y_test  == \"High\").astype(int)\n",
        "\n",
        "logit_bin = LogisticRegression(\n",
        "    solver=\"liblinear\",   # efficient for binary problems & small data\n",
        "    max_iter=200,\n",
        "    class_weight=\"balanced\"  # robust if class sizes drift\n",
        ")\n",
        "logit_bin.fit(X_train_scaled, y_train_high)\n",
        "\n",
        "y_pred_bin  = logit_bin.predict(X_test_scaled)\n",
        "y_prob_bin  = logit_bin.predict_proba(X_test_scaled)[:, 1]\n",
        "\n",
        "acc_b  = accuracy_score(y_test_high, y_pred_bin)\n",
        "f1_b   = f1_score(y_test_high, y_pred_bin)\n",
        "auc_b  = roc_auc_score(y_test_high, y_prob_bin)\n",
        "\n",
        "print(f\"Binary Logistic Regression (High vs Not-High) — Acc: {acc_b:.3f} | F1: {f1_b:.3f} | ROC-AUC: {auc_b:.3f}\\n\")\n",
        "print(\"Classification report:\\n\", classification_report(y_test_high, y_pred_bin, digits=3, target_names=[\"Not-High\",\"High\"]))\n",
        "\n",
        "print(\"Confusion matrix (rows=true, cols=pred):\\n\", pd.DataFrame(\n",
        "    confusion_matrix(y_test_high, y_pred_bin, labels=[0,1]),\n",
        "    index=[\"true_Not-High\",\"true_High\"],\n",
        "    columns=[\"pred_Not-High\",\"pred_High\"]\n",
        "))\n",
        "\n",
        "# Coefficients with feature names\n",
        "feature_names = list(X.columns) if \"X\" in globals() and hasattr(X, \"columns\") else [f\"f{i}\" for i in range(X_train_scaled.shape[1])]\n",
        "coef_s = pd.Series(logit_bin.coef_.ravel(), index=feature_names).sort_values(key=abs, ascending=False)\n",
        "print(\"\\nTop 15 features by absolute weight (positive => pushes toward 'High'):\\n\")\n",
        "display(coef_s.head(15))\n"
      ],
      "metadata": {
        "colab": {
          "base_uri": "https://localhost:8080/",
          "height": 768
        },
        "id": "_MkeyzgU8Tek",
        "outputId": "8b3f67f3-4f3d-4fa6-c037-02504175a06c"
      },
      "id": "_MkeyzgU8Tek",
      "execution_count": 19,
      "outputs": [
        {
          "output_type": "stream",
          "name": "stdout",
          "text": [
            "Binary Logistic Regression (High vs Not-High) — Acc: 0.865 | F1: 0.811 | ROC-AUC: 0.946\n",
            "\n",
            "Classification report:\n",
            "               precision    recall  f1-score   support\n",
            "\n",
            "    Not-High      0.932     0.861     0.895      3624\n",
            "        High      0.757     0.874     0.811      1799\n",
            "\n",
            "    accuracy                          0.865      5423\n",
            "   macro avg      0.845     0.868     0.853      5423\n",
            "weighted avg      0.874     0.865     0.867      5423\n",
            "\n",
            "Confusion matrix (rows=true, cols=pred):\n",
            "                pred_Not-High  pred_High\n",
            "true_Not-High           3119        505\n",
            "true_High                226       1573\n",
            "\n",
            "Top 15 features by absolute weight (positive => pushes toward 'High'):\n",
            "\n"
          ]
        },
        {
          "output_type": "display_data",
          "data": {
            "text/plain": [
              "Bachelors_Pct     -1.765520\n",
              "Pct_Asian_Alone   -1.438408\n",
              "Poverty_Pct        0.983869\n",
              "Pct_Black_Alone    0.883954\n",
              "Pct_Other         -0.287477\n",
              "Median_Age        -0.198016\n",
              "Pct_White_Alone   -0.147923\n",
              "Median_Income      0.137022\n",
              "Unemployed_Pct    -0.106082\n",
              "HS_Grad_Pct        0.100214\n",
              "Pct_Hispanic       0.047268\n",
              "dtype: float64"
            ],
            "text/html": [
              "<div>\n",
              "<style scoped>\n",
              "    .dataframe tbody tr th:only-of-type {\n",
              "        vertical-align: middle;\n",
              "    }\n",
              "\n",
              "    .dataframe tbody tr th {\n",
              "        vertical-align: top;\n",
              "    }\n",
              "\n",
              "    .dataframe thead th {\n",
              "        text-align: right;\n",
              "    }\n",
              "</style>\n",
              "<table border=\"1\" class=\"dataframe\">\n",
              "  <thead>\n",
              "    <tr style=\"text-align: right;\">\n",
              "      <th></th>\n",
              "      <th>0</th>\n",
              "    </tr>\n",
              "  </thead>\n",
              "  <tbody>\n",
              "    <tr>\n",
              "      <th>Bachelors_Pct</th>\n",
              "      <td>-1.765520</td>\n",
              "    </tr>\n",
              "    <tr>\n",
              "      <th>Pct_Asian_Alone</th>\n",
              "      <td>-1.438408</td>\n",
              "    </tr>\n",
              "    <tr>\n",
              "      <th>Poverty_Pct</th>\n",
              "      <td>0.983869</td>\n",
              "    </tr>\n",
              "    <tr>\n",
              "      <th>Pct_Black_Alone</th>\n",
              "      <td>0.883954</td>\n",
              "    </tr>\n",
              "    <tr>\n",
              "      <th>Pct_Other</th>\n",
              "      <td>-0.287477</td>\n",
              "    </tr>\n",
              "    <tr>\n",
              "      <th>Median_Age</th>\n",
              "      <td>-0.198016</td>\n",
              "    </tr>\n",
              "    <tr>\n",
              "      <th>Pct_White_Alone</th>\n",
              "      <td>-0.147923</td>\n",
              "    </tr>\n",
              "    <tr>\n",
              "      <th>Median_Income</th>\n",
              "      <td>0.137022</td>\n",
              "    </tr>\n",
              "    <tr>\n",
              "      <th>Unemployed_Pct</th>\n",
              "      <td>-0.106082</td>\n",
              "    </tr>\n",
              "    <tr>\n",
              "      <th>HS_Grad_Pct</th>\n",
              "      <td>0.100214</td>\n",
              "    </tr>\n",
              "    <tr>\n",
              "      <th>Pct_Hispanic</th>\n",
              "      <td>0.047268</td>\n",
              "    </tr>\n",
              "  </tbody>\n",
              "</table>\n",
              "</div><br><label><b>dtype:</b> float64</label>"
            ]
          },
          "metadata": {}
        }
      ]
    },
    {
      "cell_type": "markdown",
      "source": [
        "The model correctly classifies about 86.5% of all tracts, an the performance for both classes is balanced and can clearly sepreate High from Not High obesity areas. (Based on accuracy, F1 balance, and ROC-AUC discriminative power)\n",
        "\n",
        "COEFFICENT TABLE INTERPREATTAION: postive is more likely \"High Obesity\"; Negative is more likely \"Not-High\"\n",
        "\n",
        "\n",
        "*Education and Ethnincty being bigger drivers?*"
      ],
      "metadata": {
        "id": "RlezritBDiPu"
      },
      "id": "RlezritBDiPu"
    },
    {
      "cell_type": "code",
      "source": [
        "#DO NOT NEED\n",
        "# --- Feature Importance (absolute coefficient magnitude) ---\n",
        "coef_s = pd.Series(logit_bin.coef_.ravel(), index=feature_names)\n",
        "coef_sorted = coef_s.sort_values(key=abs, ascending=False)\n",
        "\n",
        "plt.figure(figsize=(8,6))\n",
        "sns.barplot(x=coef_sorted.head(10), y=coef_sorted.head(10).index, palette=\"coolwarm\")\n",
        "plt.title(\"Top 10 Feature Importances — Logistic Regression\", fontsize=13)\n",
        "plt.xlabel(\"Coefficient Value (positive ⇒ pushes toward High obesity)\", fontsize=11)\n",
        "plt.ylabel(\"Feature\", fontsize=11)\n",
        "plt.grid(axis=\"x\", alpha=0.3)\n",
        "plt.tight_layout()\n",
        "plt.show()\n"
      ],
      "metadata": {
        "colab": {
          "base_uri": "https://localhost:8080/",
          "height": 251
        },
        "id": "MGwJpUHYFWWg",
        "outputId": "22ff83fd-3b83-4927-c825-3f8c23f6767a"
      },
      "id": "MGwJpUHYFWWg",
      "execution_count": 20,
      "outputs": [
        {
          "output_type": "error",
          "ename": "NameError",
          "evalue": "name 'sns' is not defined",
          "traceback": [
            "\u001b[0;31m---------------------------------------------------------------------------\u001b[0m",
            "\u001b[0;31mNameError\u001b[0m                                 Traceback (most recent call last)",
            "\u001b[0;32m/tmp/ipython-input-517950340.py\u001b[0m in \u001b[0;36m<cell line: 0>\u001b[0;34m()\u001b[0m\n\u001b[1;32m      4\u001b[0m \u001b[0;34m\u001b[0m\u001b[0m\n\u001b[1;32m      5\u001b[0m \u001b[0mplt\u001b[0m\u001b[0;34m.\u001b[0m\u001b[0mfigure\u001b[0m\u001b[0;34m(\u001b[0m\u001b[0mfigsize\u001b[0m\u001b[0;34m=\u001b[0m\u001b[0;34m(\u001b[0m\u001b[0;36m8\u001b[0m\u001b[0;34m,\u001b[0m\u001b[0;36m6\u001b[0m\u001b[0;34m)\u001b[0m\u001b[0;34m)\u001b[0m\u001b[0;34m\u001b[0m\u001b[0;34m\u001b[0m\u001b[0m\n\u001b[0;32m----> 6\u001b[0;31m \u001b[0msns\u001b[0m\u001b[0;34m.\u001b[0m\u001b[0mbarplot\u001b[0m\u001b[0;34m(\u001b[0m\u001b[0mx\u001b[0m\u001b[0;34m=\u001b[0m\u001b[0mcoef_sorted\u001b[0m\u001b[0;34m.\u001b[0m\u001b[0mhead\u001b[0m\u001b[0;34m(\u001b[0m\u001b[0;36m10\u001b[0m\u001b[0;34m)\u001b[0m\u001b[0;34m,\u001b[0m \u001b[0my\u001b[0m\u001b[0;34m=\u001b[0m\u001b[0mcoef_sorted\u001b[0m\u001b[0;34m.\u001b[0m\u001b[0mhead\u001b[0m\u001b[0;34m(\u001b[0m\u001b[0;36m10\u001b[0m\u001b[0;34m)\u001b[0m\u001b[0;34m.\u001b[0m\u001b[0mindex\u001b[0m\u001b[0;34m,\u001b[0m \u001b[0mpalette\u001b[0m\u001b[0;34m=\u001b[0m\u001b[0;34m\"coolwarm\"\u001b[0m\u001b[0;34m)\u001b[0m\u001b[0;34m\u001b[0m\u001b[0;34m\u001b[0m\u001b[0m\n\u001b[0m\u001b[1;32m      7\u001b[0m \u001b[0mplt\u001b[0m\u001b[0;34m.\u001b[0m\u001b[0mtitle\u001b[0m\u001b[0;34m(\u001b[0m\u001b[0;34m\"Top 10 Feature Importances — Logistic Regression\"\u001b[0m\u001b[0;34m,\u001b[0m \u001b[0mfontsize\u001b[0m\u001b[0;34m=\u001b[0m\u001b[0;36m13\u001b[0m\u001b[0;34m)\u001b[0m\u001b[0;34m\u001b[0m\u001b[0;34m\u001b[0m\u001b[0m\n\u001b[1;32m      8\u001b[0m \u001b[0mplt\u001b[0m\u001b[0;34m.\u001b[0m\u001b[0mxlabel\u001b[0m\u001b[0;34m(\u001b[0m\u001b[0;34m\"Coefficient Value (positive ⇒ pushes toward High obesity)\"\u001b[0m\u001b[0;34m,\u001b[0m \u001b[0mfontsize\u001b[0m\u001b[0;34m=\u001b[0m\u001b[0;36m11\u001b[0m\u001b[0;34m)\u001b[0m\u001b[0;34m\u001b[0m\u001b[0;34m\u001b[0m\u001b[0m\n",
            "\u001b[0;31mNameError\u001b[0m: name 'sns' is not defined"
          ]
        },
        {
          "output_type": "display_data",
          "data": {
            "text/plain": [
              "<Figure size 800x600 with 0 Axes>"
            ]
          },
          "metadata": {}
        }
      ]
    },
    {
      "cell_type": "markdown",
      "source": [
        "I don't know if we want to use these its just reiterating the code output but visualizing it. But the coefficent value bar plot is interesting."
      ],
      "metadata": {
        "id": "-T-i9kTOF6fl"
      },
      "id": "-T-i9kTOF6fl"
    },
    {
      "cell_type": "markdown",
      "source": [
        "**HYPERPARAMETERS**"
      ],
      "metadata": {
        "id": "OrY3c9hEl3Gf"
      },
      "id": "OrY3c9hEl3Gf"
    },
    {
      "cell_type": "code",
      "source": [
        "#Multinomial Logisitic Regression\n",
        "logit_multi = LogisticRegression(\n",
        "    multi_class=\"multinomial\",\n",
        "    solver=\"lbfgs\",\n",
        "    C=1.0,          # Inverse regularization strength (default)\n",
        "    penalty=\"l2\",   # L2 regularization prevents overfitting\n",
        "    max_iter=200,   # Enough for convergence\n",
        "    random_state=80\n",
        ")\n"
      ],
      "metadata": {
        "id": "QjcmIlval78S"
      },
      "id": "QjcmIlval78S",
      "execution_count": 21,
      "outputs": []
    },
    {
      "cell_type": "code",
      "source": [
        "#DO NOT NEED\n",
        "# BINARY VISUAL\n",
        "import numpy as np\n",
        "import matplotlib.pyplot as plt\n",
        "from sklearn.metrics import f1_score, accuracy_score\n",
        "\n",
        "# Range of C values (smaller C = stronger regularization)\n",
        "C_values = np.logspace(-2, 1, 10)  # [0.01, 0.02, 0.05, 0.1, 0.2, 0.5, 1, 2, 5, 10]\n",
        "acc_scores, f1_scores = [], []\n",
        "\n",
        "for C in C_values:\n",
        "    temp_model = LogisticRegression(\n",
        "        solver=\"liblinear\",  # or \"lbfgs\" for multinomial\n",
        "        penalty=\"l2\",\n",
        "        C=C,\n",
        "        class_weight=\"balanced\",\n",
        "        max_iter=200,\n",
        "        random_state=80\n",
        "    )\n",
        "    temp_model.fit(X_train_scaled, y_train_high)\n",
        "    y_pred = temp_model.predict(X_test_scaled)\n",
        "    acc_scores.append(accuracy_score(y_test_high, y_pred))\n",
        "    f1_scores.append(f1_score(y_test_high, y_pred))\n",
        "\n",
        "plt.figure(figsize=(7,5))\n",
        "plt.plot(C_values, acc_scores, marker='o', label='Accuracy')\n",
        "plt.plot(C_values, f1_scores, marker='s', label='F1 Score')\n",
        "plt.xscale('log')\n",
        "plt.xlabel(\"C (Inverse Regularization Strength)\")\n",
        "plt.ylabel(\"Performance\")\n",
        "plt.title(\"Effect of Regularization (C) on Model Performance\")\n",
        "plt.legend()\n",
        "plt.grid(True, alpha=0.3)\n",
        "plt.show()\n"
      ],
      "metadata": {
        "colab": {
          "base_uri": "https://localhost:8080/",
          "height": 492
        },
        "id": "4gUrjLWUmvRV",
        "outputId": "d2cf0bc0-fae6-435e-fef7-2e9cd8f1d922"
      },
      "id": "4gUrjLWUmvRV",
      "execution_count": 22,
      "outputs": [
        {
          "output_type": "display_data",
          "data": {
            "text/plain": [
              "<Figure size 700x500 with 1 Axes>"
            ],
            "image/png": "[encoded data removed]"
          },
          "metadata": {}
        }
      ]
    },
    {
      "cell_type": "markdown",
      "source": [
        "The flatness of the curve shows that the model generalizes well and is not highly sensitive to regularization strength."
      ],
      "metadata": {
        "id": "pjI3UtMgnI6c"
      },
      "id": "pjI3UtMgnI6c"
    },
    {
      "cell_type": "code",
      "source": [
        "#DO NOT NEED\n",
        "#MULTINOMIAL\n",
        "import numpy as np\n",
        "import matplotlib.pyplot as plt\n",
        "from sklearn.metrics import f1_score, accuracy_score\n",
        "\n",
        "# Range of C values to test (smaller C = stronger regularization)\n",
        "C_values = np.logspace(-2, 1, 10)\n",
        "acc_scores, f1_scores = [], []\n",
        "\n",
        "for C in C_values:\n",
        "    temp_model = LogisticRegression(\n",
        "        multi_class=\"multinomial\",\n",
        "        solver=\"lbfgs\",\n",
        "        penalty=\"l2\",\n",
        "        C=C,\n",
        "        max_iter=300,\n",
        "        random_state=80\n",
        "    )\n",
        "    temp_model.fit(X_train_scaled, y_train)\n",
        "    y_pred = temp_model.predict(X_test_scaled)\n",
        "    acc_scores.append(accuracy_score(y_test, y_pred))\n",
        "    f1_scores.append(f1_score(y_test, y_pred, average=\"macro\"))\n",
        "\n",
        "plt.figure(figsize=(7,5))\n",
        "plt.plot(C_values, acc_scores, marker='o', label='Accuracy')\n",
        "plt.plot(C_values, f1_scores, marker='s', label='Macro F1 Score')\n",
        "plt.xscale('log')\n",
        "plt.xlabel(\"C (Inverse Regularization Strength)\")\n",
        "plt.ylabel(\"Performance\")\n",
        "plt.title(\"Effect of Regularization (C) — Multinomial Logistic Regression\")\n",
        "plt.legend()\n",
        "plt.grid(True, alpha=0.3)\n",
        "plt.show()\n"
      ],
      "metadata": {
        "colab": {
          "base_uri": "https://localhost:8080/",
          "height": 869
        },
        "id": "bNj23WmXnXBr",
        "outputId": "3de30ef3-3856-4fda-ca2a-9a1703aed59b"
      },
      "id": "bNj23WmXnXBr",
      "execution_count": 23,
      "outputs": [
        {
          "output_type": "stream",
          "name": "stderr",
          "text": [
            "/usr/local/lib/python3.12/dist-packages/sklearn/linear_model/_logistic.py:1247: FutureWarning: 'multi_class' was deprecated in version 1.5 and will be removed in 1.7. From then on, it will always use 'multinomial'. Leave it to its default value to avoid this warning.\n",
            "  warnings.warn(\n",
            "/usr/local/lib/python3.12/dist-packages/sklearn/linear_model/_logistic.py:1247: FutureWarning: 'multi_class' was deprecated in version 1.5 and will be removed in 1.7. From then on, it will always use 'multinomial'. Leave it to its default value to avoid this warning.\n",
            "  warnings.warn(\n",
            "/usr/local/lib/python3.12/dist-packages/sklearn/linear_model/_logistic.py:1247: FutureWarning: 'multi_class' was deprecated in version 1.5 and will be removed in 1.7. From then on, it will always use 'multinomial'. Leave it to its default value to avoid this warning.\n",
            "  warnings.warn(\n",
            "/usr/local/lib/python3.12/dist-packages/sklearn/linear_model/_logistic.py:1247: FutureWarning: 'multi_class' was deprecated in version 1.5 and will be removed in 1.7. From then on, it will always use 'multinomial'. Leave it to its default value to avoid this warning.\n",
            "  warnings.warn(\n",
            "/usr/local/lib/python3.12/dist-packages/sklearn/linear_model/_logistic.py:1247: FutureWarning: 'multi_class' was deprecated in version 1.5 and will be removed in 1.7. From then on, it will always use 'multinomial'. Leave it to its default value to avoid this warning.\n",
            "  warnings.warn(\n",
            "/usr/local/lib/python3.12/dist-packages/sklearn/linear_model/_logistic.py:1247: FutureWarning: 'multi_class' was deprecated in version 1.5 and will be removed in 1.7. From then on, it will always use 'multinomial'. Leave it to its default value to avoid this warning.\n",
            "  warnings.warn(\n",
            "/usr/local/lib/python3.12/dist-packages/sklearn/linear_model/_logistic.py:1247: FutureWarning: 'multi_class' was deprecated in version 1.5 and will be removed in 1.7. From then on, it will always use 'multinomial'. Leave it to its default value to avoid this warning.\n",
            "  warnings.warn(\n",
            "/usr/local/lib/python3.12/dist-packages/sklearn/linear_model/_logistic.py:1247: FutureWarning: 'multi_class' was deprecated in version 1.5 and will be removed in 1.7. From then on, it will always use 'multinomial'. Leave it to its default value to avoid this warning.\n",
            "  warnings.warn(\n",
            "/usr/local/lib/python3.12/dist-packages/sklearn/linear_model/_logistic.py:1247: FutureWarning: 'multi_class' was deprecated in version 1.5 and will be removed in 1.7. From then on, it will always use 'multinomial'. Leave it to its default value to avoid this warning.\n",
            "  warnings.warn(\n",
            "/usr/local/lib/python3.12/dist-packages/sklearn/linear_model/_logistic.py:1247: FutureWarning: 'multi_class' was deprecated in version 1.5 and will be removed in 1.7. From then on, it will always use 'multinomial'. Leave it to its default value to avoid this warning.\n",
            "  warnings.warn(\n"
          ]
        },
        {
          "output_type": "display_data",
          "data": {
            "text/plain": [
              "<Figure size 700x500 with 1 Axes>"
            ],
            "image/png": "[encoded data removed]"
          },
          "metadata": {}
        }
      ]
    },
    {
      "cell_type": "markdown",
      "source": [
        "the multinomial logistic regression generalizes well and is not sensitive to small hyperparameter changes."
      ],
      "metadata": {
        "id": "cSoEDR1OpIe5"
      },
      "id": "cSoEDR1OpIe5"
    },
    {
      "cell_type": "markdown",
      "source": [
        "## **NEW CODE FOR AUC**"
      ],
      "metadata": {
        "id": "miA5ZVEwN3oB"
      },
      "id": "miA5ZVEwN3oB"
    },
    {
      "cell_type": "code",
      "source": [
        "import numpy as np\n",
        "import pandas as pd\n",
        "\n",
        "from sklearn.model_selection import GroupShuffleSplit\n",
        "from sklearn.preprocessing import StandardScaler, LabelEncoder\n",
        "from sklearn.linear_model import LogisticRegression\n",
        "from sklearn.metrics import roc_auc_score\n",
        "\n",
        "# ---- 0) Identify county/group column ----\n",
        "county_id_col = next((c for c in [\n",
        "    \"county_fips\",\"FIPS\",\"fips\",\"County_FIPS\",\n",
        "    \"County\",\"county\",\"County_Name\",\"county_name\"\n",
        "] if c in df.columns), None)\n",
        "assert county_id_col is not None, \"Couldn't find a county ID column. Set `county_id_col` to the right column name.\"\n",
        "\n",
        "# ---- 1) Features/target ----\n",
        "# Use the same feature list you trained with:\n",
        "features = [\n",
        "    \"Median_Income\",\"Median_Age\",\"Poverty_Pct\",\"HS_Grad_Pct\",\"Bachelors_Pct\",\n",
        "    \"Unemployed_Pct\",\"Pct_White_Alone\",\"Pct_Black_Alone\",\"Pct_Asian_Alone\",\n",
        "    \"Pct_Hispanic\",\"Pct_Other\"\n",
        "]\n",
        "X = df[features].copy()\n",
        "y = df[\"Obesity_Category\"].copy()  # Low / Medium / High\n",
        "groups = df[county_id_col].values\n",
        "\n",
        "# Encode y for sklearn metrics that need numeric labels (we’ll still keep class names)\n",
        "le = LabelEncoder()\n",
        "y_enc = le.fit_transform(y)  # {Low, Medium, High} -> {0,1,2}\n",
        "\n",
        "# ---- 2) Group (county) split to avoid leakage ----\n",
        "gss = GroupShuffleSplit(n_splits=1, test_size=0.2, random_state=80)\n",
        "train_idx, test_idx = next(gss.split(X, y_enc, groups=groups))\n",
        "\n",
        "X_train, X_test = X.iloc[train_idx], X.iloc[test_idx]\n",
        "y_train, y_test = y_enc[train_idx], y_enc[test_idx]\n",
        "\n",
        "# ---- 3) Scale on train only ----\n",
        "scaler = StandardScaler().fit(X_train)\n",
        "X_train_s = scaler.transform(X_train)\n",
        "X_test_s  = scaler.transform(X_test)\n",
        "\n",
        "# ---- 4) Train multinomial logistic regression ----\n",
        "logit_multi = LogisticRegression(\n",
        "    multi_class=\"multinomial\",\n",
        "    solver=\"lbfgs\",\n",
        "    penalty=\"l2\",\n",
        "    C=0.1,            # moderate regularization; adjust if you like\n",
        "    max_iter=300,\n",
        "    random_state=80\n",
        ")\n",
        "logit_multi.fit(X_train_s, y_train)\n",
        "\n",
        "# ---- 5) Predict class probabilities (needed for AUC & ranking) ----\n",
        "proba_test = logit_multi.predict_proba(X_test_s)  # shape: [n_samples, 3]\n",
        "class_names = list(le.classes_)                   # e.g., [\"High\",\"Low\",\"Medium\"] depending on original order\n"
      ],
      "metadata": {
        "id": "vvIJQGfeiioZ",
        "colab": {
          "base_uri": "https://localhost:8080/"
        },
        "outputId": "b46fd372-9472-4b67-9503-a10ab005e2d7"
      },
      "id": "vvIJQGfeiioZ",
      "execution_count": 24,
      "outputs": [
        {
          "output_type": "stream",
          "name": "stderr",
          "text": [
            "/usr/local/lib/python3.12/dist-packages/sklearn/linear_model/_logistic.py:1247: FutureWarning: 'multi_class' was deprecated in version 1.5 and will be removed in 1.7. From then on, it will always use 'multinomial'. Leave it to its default value to avoid this warning.\n",
            "  warnings.warn(\n"
          ]
        }
      ]
    },
    {
      "cell_type": "code",
      "source": [
        "# AUC (One-vs-Rest) macro & micro — threshold-free ranking metric\n",
        "auc_ovr_macro = roc_auc_score(y_test, proba_test, multi_class=\"ovr\", average=\"macro\")\n",
        "auc_ovr_micro = roc_auc_score(y_test, proba_test, multi_class=\"ovr\", average=\"micro\")\n",
        "\n",
        "# Per-class AUCs (OvR) to see which class ranks best\n",
        "per_class_aucs = {}\n",
        "for k, cname in enumerate(class_names):\n",
        "    # Binary ground-truth for class k vs rest\n",
        "    y_true_k = (y_test == k).astype(int)\n",
        "    y_score_k = proba_test[:, k]\n",
        "    per_class_aucs[cname] = roc_auc_score(y_true_k, y_score_k)\n",
        "\n",
        "print(f\"Multiclass ROC-AUC (OvR, macro): {auc_ovr_macro:.3f}\")\n",
        "print(f\"Multiclass ROC-AUC (OvR, micro): {auc_ovr_micro:.3f}\")\n",
        "print(\"Per-class AUC (OvR):\", {k: round(v,3) for k,v in per_class_aucs.items()})\n"
      ],
      "metadata": {
        "colab": {
          "base_uri": "https://localhost:8080/"
        },
        "id": "GQFMowe46E24",
        "outputId": "be4db59f-c472-49cd-f907-d3b55382d15a"
      },
      "id": "GQFMowe46E24",
      "execution_count": 25,
      "outputs": [
        {
          "output_type": "stream",
          "name": "stdout",
          "text": [
            "Multiclass ROC-AUC (OvR, macro): 0.907\n",
            "Multiclass ROC-AUC (OvR, micro): 0.917\n",
            "Per-class AUC (OvR): {'High': np.float64(0.962), 'Low': np.float64(0.934), 'Medium': np.float64(0.825)}\n"
          ]
        }
      ]
    },
    {
      "cell_type": "code",
      "source": [
        "# Choose the \"High\" class index\n",
        "try:\n",
        "    high_idx = class_names.index(\"High\")\n",
        "except ValueError:\n",
        "    # If your label names differ, set high_idx manually (0/1/2)\n",
        "    high_idx = 0\n",
        "\n",
        "y_test_labels = le.inverse_transform(y_test)  # back to strings for readability\n",
        "high_scores = proba_test[:, high_idx]\n",
        "\n",
        "# Rank counties by predicted \"High\" probability (descending)\n",
        "rank_idx = np.argsort(-high_scores)\n",
        "y_ranked = y_test_labels[rank_idx]\n",
        "scores_ranked = high_scores[rank_idx]\n",
        "\n",
        "# Helper: top-k capture of true Highs\n",
        "def top_k_capture(y_ranked, label=\"High\", frac=0.10):\n",
        "    k = max(1, int(len(y_ranked) * frac))\n",
        "    top_k = y_ranked[:k]\n",
        "    return (top_k == label).mean(), k\n",
        "\n",
        "for frac in [0.05, 0.10, 0.20]:\n",
        "    capture_rate, k = top_k_capture(y_ranked, label=\"High\", frac=frac)\n",
        "    print(f\"Top {int(frac*100)}% (k={k}) capture rate of true 'High': {capture_rate:.3f}\")\n",
        "\n",
        "# Optional: decile lift table (what share of actual Highs fall in each probability decile)\n",
        "deciles = pd.qcut(scores_ranked, q=10, labels=False, duplicates=\"drop\")\n",
        "decile_df = pd.DataFrame({\n",
        "    \"decile\": deciles,\n",
        "    \"is_high\": (y_ranked == \"High\").astype(int)\n",
        "})\n",
        "lift_table = decile_df.groupby(\"decile\")[\"is_high\"].agg([\"mean\",\"count\"]).sort_index(ascending=False)\n",
        "lift_table.rename(columns={\"mean\":\"pct_high_in_bin\",\"count\":\"n\"}, inplace=True)\n",
        "print(\"\\nDecile lift (highest probs at top):\\n\", lift_table)\n"
      ],
      "metadata": {
        "colab": {
          "base_uri": "https://localhost:8080/"
        },
        "id": "FtSk0QKd6MQa",
        "outputId": "57f2fe60-e3bb-4471-eb42-72f6b407b663"
      },
      "id": "FtSk0QKd6MQa",
      "execution_count": 26,
      "outputs": [
        {
          "output_type": "stream",
          "name": "stdout",
          "text": [
            "Top 5% (k=363) capture rate of true 'High': 1.000\n",
            "Top 10% (k=727) capture rate of true 'High': 0.996\n",
            "Top 20% (k=1455) capture rate of true 'High': 0.973\n",
            "\n",
            "Decile lift (highest probs at top):\n",
            "         pct_high_in_bin    n\n",
            "decile                      \n",
            "9              0.995879  728\n",
            "8              0.949176  728\n",
            "7              0.728022  728\n",
            "6              0.407967  728\n",
            "5              0.191197  727\n",
            "4              0.089286  728\n",
            "3              0.015110  728\n",
            "2              0.001374  728\n",
            "1              0.002747  728\n",
            "0              0.000000  728\n"
          ]
        }
      ]
    },
    {
      "cell_type": "code",
      "source": [
        "import numpy as np\n",
        "import matplotlib.pyplot as plt\n",
        "from sklearn.metrics import roc_auc_score\n",
        "from sklearn.linear_model import LogisticRegression\n",
        "from sklearn.preprocessing import LabelEncoder\n",
        "from sklearn.preprocessing import StandardScaler\n",
        "from sklearn.model_selection import train_test_split\n",
        "\n",
        "# Encode y if needed (Low/Medium/High → 0/1/2)\n",
        "le = LabelEncoder()\n",
        "y_enc = le.fit_transform(y)\n",
        "\n",
        "# Split (80/20 stratified)\n",
        "X_train, X_test, y_train, y_test = train_test_split(\n",
        "    X, y_enc, test_size=0.2, stratify=y_enc, random_state=80\n",
        ")\n",
        "\n",
        "# Scale\n",
        "scaler = StandardScaler()\n",
        "X_train_s = scaler.fit_transform(X_train)\n",
        "X_test_s  = scaler.transform(X_test)\n",
        "\n",
        "# Range of C values (inverse regularization)\n",
        "C_values = np.logspace(-2, 1, 10)\n",
        "auc_scores = []\n",
        "\n",
        "for C in C_values:\n",
        "    model = LogisticRegression(\n",
        "        multi_class=\"multinomial\",\n",
        "        solver=\"lbfgs\",\n",
        "        penalty=\"l2\",\n",
        "        C=C,\n",
        "        max_iter=300,\n",
        "        random_state=80\n",
        "    )\n",
        "    model.fit(X_train_s, y_train)\n",
        "    y_proba = model.predict_proba(X_test_s)\n",
        "    auc = roc_auc_score(y_test, y_proba, multi_class=\"ovr\", average=\"macro\")\n",
        "    auc_scores.append(auc)\n",
        "\n",
        "# Plot\n",
        "plt.figure(figsize=(7,5))\n",
        "plt.plot(C_values, auc_scores, marker='o', color='teal', linewidth=2)\n",
        "plt.xscale('log')\n",
        "plt.xlabel(\"C (Inverse Regularization Strength)\", fontsize=11)\n",
        "plt.ylabel(\"Macro AUC (OvR)\", fontsize=11)\n",
        "plt.title(\"Effect of Regularization on Model AUC — Multinomial Logistic Regression\", fontsize=13)\n",
        "plt.grid(True, alpha=0.3)\n",
        "plt.show()\n"
      ],
      "metadata": {
        "colab": {
          "base_uri": "https://localhost:8080/",
          "height": 870
        },
        "id": "_D_CU4NsCIJS",
        "outputId": "5f3b877b-5701-4033-fb30-5b7560ab7bd2"
      },
      "id": "_D_CU4NsCIJS",
      "execution_count": 27,
      "outputs": [
        {
          "output_type": "stream",
          "name": "stderr",
          "text": [
            "/usr/local/lib/python3.12/dist-packages/sklearn/linear_model/_logistic.py:1247: FutureWarning: 'multi_class' was deprecated in version 1.5 and will be removed in 1.7. From then on, it will always use 'multinomial'. Leave it to its default value to avoid this warning.\n",
            "  warnings.warn(\n",
            "/usr/local/lib/python3.12/dist-packages/sklearn/linear_model/_logistic.py:1247: FutureWarning: 'multi_class' was deprecated in version 1.5 and will be removed in 1.7. From then on, it will always use 'multinomial'. Leave it to its default value to avoid this warning.\n",
            "  warnings.warn(\n",
            "/usr/local/lib/python3.12/dist-packages/sklearn/linear_model/_logistic.py:1247: FutureWarning: 'multi_class' was deprecated in version 1.5 and will be removed in 1.7. From then on, it will always use 'multinomial'. Leave it to its default value to avoid this warning.\n",
            "  warnings.warn(\n",
            "/usr/local/lib/python3.12/dist-packages/sklearn/linear_model/_logistic.py:1247: FutureWarning: 'multi_class' was deprecated in version 1.5 and will be removed in 1.7. From then on, it will always use 'multinomial'. Leave it to its default value to avoid this warning.\n",
            "  warnings.warn(\n",
            "/usr/local/lib/python3.12/dist-packages/sklearn/linear_model/_logistic.py:1247: FutureWarning: 'multi_class' was deprecated in version 1.5 and will be removed in 1.7. From then on, it will always use 'multinomial'. Leave it to its default value to avoid this warning.\n",
            "  warnings.warn(\n",
            "/usr/local/lib/python3.12/dist-packages/sklearn/linear_model/_logistic.py:1247: FutureWarning: 'multi_class' was deprecated in version 1.5 and will be removed in 1.7. From then on, it will always use 'multinomial'. Leave it to its default value to avoid this warning.\n",
            "  warnings.warn(\n",
            "/usr/local/lib/python3.12/dist-packages/sklearn/linear_model/_logistic.py:1247: FutureWarning: 'multi_class' was deprecated in version 1.5 and will be removed in 1.7. From then on, it will always use 'multinomial'. Leave it to its default value to avoid this warning.\n",
            "  warnings.warn(\n",
            "/usr/local/lib/python3.12/dist-packages/sklearn/linear_model/_logistic.py:1247: FutureWarning: 'multi_class' was deprecated in version 1.5 and will be removed in 1.7. From then on, it will always use 'multinomial'. Leave it to its default value to avoid this warning.\n",
            "  warnings.warn(\n",
            "/usr/local/lib/python3.12/dist-packages/sklearn/linear_model/_logistic.py:1247: FutureWarning: 'multi_class' was deprecated in version 1.5 and will be removed in 1.7. From then on, it will always use 'multinomial'. Leave it to its default value to avoid this warning.\n",
            "  warnings.warn(\n",
            "/usr/local/lib/python3.12/dist-packages/sklearn/linear_model/_logistic.py:1247: FutureWarning: 'multi_class' was deprecated in version 1.5 and will be removed in 1.7. From then on, it will always use 'multinomial'. Leave it to its default value to avoid this warning.\n",
            "  warnings.warn(\n"
          ]
        },
        {
          "output_type": "display_data",
          "data": {
            "text/plain": [
              "<Figure size 700x500 with 1 Axes>"
            ],
            "image/png": "[encoded data removed]"
          },
          "metadata": {}
        }
      ]
    },
    {
      "cell_type": "code",
      "source": [
        "_ = total_tracker.stop()\n",
        "total_data = total_tracker.final_emissions_data\n",
        "\n",
        "\n",
        "print(\"\\n=== Prediction (per 1,000,000 examples) ===\")\n",
        "print(f\"Energy consumed: {total_data.energy_consumed:.6f} kWh\")\n",
        "print(f\"CO2 emissions:  {total_data.emissions:.6f} kg CO2eq\")\n",
        "\n"
      ],
      "metadata": {
        "colab": {
          "base_uri": "https://localhost:8080/"
        },
        "id": "_TO9NBdwAU25",
        "outputId": "c4997b81-a89a-4918-f800-04f0d50526ee"
      },
      "id": "_TO9NBdwAU25",
      "execution_count": 2,
      "outputs": [
        {
          "output_type": "stream",
          "name": "stdout",
          "text": [
            "\n",
            "=== Prediction (per 1,000,000 examples) ===\n",
            "Energy consumed: 0.000687 kWh\n",
            "CO2 emissions:  0.000311 kg CO2eq\n"
          ]
        }
      ]
    }
  ],
  "metadata": {
    "kernelspec": {
      "display_name": "Python [conda env:base] *",
      "language": "python",
      "name": "conda-base-py"
    },
    "language_info": {
      "codemirror_mode": {
        "name": "ipython",
        "version": 3
      },
      "file_extension": ".py",
      "mimetype": "text/x-python",
      "name": "python",
      "nbconvert_exporter": "python",
      "pygments_lexer": "ipython3",
      "version": "3.12.7"
    },
    "colab": {
      "provenance": []
    }
  },
  "nbformat": 4,
  "nbformat_minor": 5
}