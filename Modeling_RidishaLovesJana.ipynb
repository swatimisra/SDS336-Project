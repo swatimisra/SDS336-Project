{
 "cells": [
  {
   "cell_type": "markdown",
   "id": "b5f9c593",
   "metadata": {},
   "source": [
    "#### Load in Data\n"
   ]
  },
  {
   "cell_type": "code",
   "execution_count": 4,
   "id": "665d528d",
   "metadata": {},
   "outputs": [],
   "source": [
    "import pandas as pd\n",
    "import numpy as np\n",
    "import matplotlib.pyplot as plt\n",
    "from sklearn.model_selection import train_test_split, KFold, GridSearchCV\n",
    "from sklearn.pipeline import Pipeline\n",
    "from sklearn.preprocessing import StandardScaler\n",
    "from sklearn.linear_model import Lasso\n",
    "from sklearn.ensemble import RandomForestRegressor\n",
    "from sklearn.metrics import mean_squared_error, mean_absolute_error, r2_score\n",
    "from sklearn.inspection import permutation_importance\n",
    "RANDOM_STATE = 42\n",
    "np.random.seed(RANDOM_STATE)\n",
    "\n",
    "df = pd.read_csv(\"merged_health_census_clean.csv\")\n",
    "X = df[['Sleep_Pct', 'Obesity_Pct', 'Asthma_Pct', 'Smoking_Pct',\n",
    "        'HeartDisease_Pct', 'HighBP_Pct', 'HighChol_Pct']]\n",
    "y = df['MentalHealth_Pct']\n",
    "\n"
   ]
  },
  {
   "cell_type": "markdown",
   "id": "cad121a1",
   "metadata": {},
   "source": [
    "### Evaluation & Validation --> Data Split & CRoss Validation \n",
    "Creating a 80/20 train test split and 5 fold cross validation on training data to tune hyper paramters without leakage. CV helps with not dealing with overfittingo n training data.\n",
    "\n",
    "What is Cross Validation? --> repeats training/testing process many times on differnet parts of datat \n",
    "10 Fold Cross Validation \n",
    "1. You split your training data into 5 roughly equal parts (“folds”).\n",
    "2. You train your model on 4 of the folds.\n",
    "3. You validate it on the 5th fold (the one left out).\n",
    "4. You repeat this process 5 times, each time leaving out a different fold.\n",
    "5. Finally, you average the 5 validation scores (like RMSEs).\n",
    "6. That average is your cross-validated performance estimate."
   ]
  },
  {
   "cell_type": "code",
   "execution_count": 9,
   "id": "ed873327",
   "metadata": {},
   "outputs": [],
   "source": [
    "\n",
    "X_train, X_test, y_train, y_test = train_test_split(\n",
    "    X, y, test_size=0.20, random_state=RANDOM_STATE\n",
    ")\n",
    "\n",
    "cv = KFold(n_splits=5, shuffle=True, random_state=RANDOM_STATE)\n"
   ]
  },
  {
   "cell_type": "markdown",
   "id": "2f8eb8ee",
   "metadata": {},
   "source": [
    "### Hyperparameters --> dials & knobs before training \n",
    "--> Lasso : Alpha (how strongly you penalize large coefficients)\n",
    "--> Randomforest: n_estimators (how many trees to grow), max_depth (how deep each tree can go), min_samples_leaf (minimum # of data pts per leaf), max_featyres (how many features tree can look at)\n",
    "\n",
    "### Loss Function --> minimize loss, how wrong prediction ares \n",
    "- We are using RMSE \n",
    "\n",
    "GridSearchCV = “try every combination of hyperparameters with cross-validation,\n",
    "then pick the best one.”\n",
    "\n",
    "1. Split the data into folds (like you saw in A3).\n",
    "2. Train/test the model on each fold for every combination of hyperparameters.\n",
    "3. Calculate the average RMSE across folds.\n",
    "4. Pick the settings that produced the lowest RMSE.\n",
    "5. Refit the best model on all training data."
   ]
  },
  {
   "cell_type": "markdown",
   "id": "947ada1d",
   "metadata": {},
   "source": [
    "### Lasso Regression Tuning --> Find ALpha with lowest RMSE "
   ]
  },
  {
   "cell_type": "code",
   "execution_count": 10,
   "id": "fd3bcfab",
   "metadata": {},
   "outputs": [
    {
     "name": "stdout",
     "output_type": "stream",
     "text": [
      "Best alpha for Lasso: {'model__alpha': 0.001}\n"
     ]
    }
   ],
   "source": [
    "from sklearn.linear_model import Lasso\n",
    "from sklearn.pipeline import Pipeline\n",
    "from sklearn.preprocessing import StandardScaler\n",
    "from sklearn.model_selection import GridSearchCV\n",
    "\n",
    "# Build pipeline\n",
    "pipe_lasso = Pipeline([\n",
    "    ('scaler', StandardScaler()),  # 1scales predictors\n",
    "    ('model', Lasso(max_iter=10000, random_state=RANDOM_STATE))  #  fits model\n",
    "])\n",
    "\n",
    "# Define grid of alpha values to test (logspace from 0.001 to 10)\n",
    "grid_lasso = {'model__alpha': np.logspace(-3, 1, 15)}\n",
    "\n",
    "# Run grid search with 10-fold CV\n",
    "gs_lasso = GridSearchCV(\n",
    "    pipe_lasso,\n",
    "    grid_lasso,\n",
    "    cv=cv,  # ← 10-fold CV object\n",
    "    scoring='neg_root_mean_squared_error',  # ← minimize RMSE\n",
    "    n_jobs=-1  # run in parallel for speed\n",
    ")\n",
    "\n",
    "gs_lasso.fit(X_train, y_train)\n",
    "best_lasso = gs_lasso.best_estimator_\n",
    "print(\"Best alpha for Lasso:\", gs_lasso.best_params_)\n"
   ]
  },
  {
   "cell_type": "markdown",
   "id": "b1cd92f7",
   "metadata": {},
   "source": [
    "### Random Forest Tuning - best combo of parameters w/ lowest RMSE "
   ]
  },
  {
   "cell_type": "code",
   "execution_count": 11,
   "id": "6217333c",
   "metadata": {},
   "outputs": [
    {
     "name": "stdout",
     "output_type": "stream",
     "text": [
      "Best Random Forest params: {'model__max_depth': None, 'model__max_features': 0.5, 'model__min_samples_leaf': 1, 'model__n_estimators': 100}\n"
     ]
    }
   ],
   "source": [
    "from sklearn.ensemble import RandomForestRegressor\n",
    "\n",
    "pipe_rf = Pipeline([\n",
    "    ('model', RandomForestRegressor(random_state=RANDOM_STATE))\n",
    "])\n",
    "\n",
    "# Grid of hyperparameters to try\n",
    "grid_rf = {\n",
    "    'model__n_estimators': [100],  # number of trees (takes super long w longer ones)\n",
    "    'model__max_depth': [None, 6, 10, 16],  # tree depth\n",
    "    'model__min_samples_leaf': [1, 2, 5],  # leaf size\n",
    "    'model__max_features': ['sqrt', 0.5, 1.0]  # number of features per tree\n",
    "}\n",
    "\n",
    "gs_rf = GridSearchCV(\n",
    "    pipe_rf,\n",
    "    grid_rf,\n",
    "    cv=cv,\n",
    "    scoring='neg_root_mean_squared_error',\n",
    "    n_jobs=-1\n",
    ")\n",
    "gs_rf.fit(X_train, y_train)\n",
    "best_rf = gs_rf.best_estimator_\n",
    "print(\"Best Random Forest params:\", gs_rf.best_params_)"
   ]
  },
  {
   "cell_type": "markdown",
   "id": "bfe429a3",
   "metadata": {},
   "source": [
    "### Test Metrics and 95% CI "
   ]
  },
  {
   "cell_type": "code",
   "execution_count": 12,
   "id": "bd25b329",
   "metadata": {},
   "outputs": [
    {
     "name": "stdout",
     "output_type": "stream",
     "text": [
      "Lasso  → RMSE: 1.217 (95% CI 1.189–1.249), MAE: 0.962, R²: 0.870\n",
      "RF     → RMSE: 0.910 (95% CI 0.885–0.936), MAE: 0.661, R²: 0.927\n"
     ]
    }
   ],
   "source": [
    "from sklearn.metrics import mean_squared_error, mean_absolute_error, r2_score\n",
    "import numpy as np\n",
    "\n",
    "def evaluate(model, X_test, y_test):\n",
    "    y_pred = model.predict(X_test)\n",
    "    rmse = mean_squared_error(y_test, y_pred, squared=False)\n",
    "    mae  = mean_absolute_error(y_test, y_pred)\n",
    "    r2   = r2_score(y_test, y_pred)\n",
    "    return y_pred, rmse, mae, r2\n",
    "\n",
    "# evaluate both\n",
    "yhat_lasso, lasso_rmse, lasso_mae, lasso_r2 = evaluate(best_lasso, X_test, y_test)\n",
    "yhat_rf,    rf_rmse,    rf_mae,    rf_r2    = evaluate(best_rf,    X_test, y_test)\n",
    "\n",
    "# bootstrap CI for RMSE (communicates uncertainty)\n",
    "def bootstrap_rmse_ci(y_true, y_pred, B=1000, seed=7):\n",
    "    rng = np.random.default_rng(seed)\n",
    "    idx = np.arange(len(y_true))\n",
    "    rmses = []\n",
    "    for _ in range(B):\n",
    "        b = rng.choice(idx, size=len(idx), replace=True)\n",
    "        rmses.append(mean_squared_error(y_true.iloc[b], y_pred[b], squared=False))\n",
    "    lo, hi = np.percentile(rmses, [2.5, 97.5])\n",
    "    return (lo, hi)\n",
    "\n",
    "lasso_ci = bootstrap_rmse_ci(y_test, yhat_lasso)\n",
    "rf_ci    = bootstrap_rmse_ci(y_test, yhat_rf)\n",
    "\n",
    "print(f\"Lasso  → RMSE: {lasso_rmse:.3f} (95% CI {lasso_ci[0]:.3f}–{lasso_ci[1]:.3f}), \"\n",
    "      f\"MAE: {lasso_mae:.3f}, R²: {lasso_r2:.3f}\")\n",
    "print(f\"RF     → RMSE: {rf_rmse:.3f} (95% CI {rf_ci[0]:.3f}–{rf_ci[1]:.3f}), \"\n",
    "      f\"MAE: {rf_mae:.3f}, R²: {rf_r2:.3f}\")\n"
   ]
  },
  {
   "cell_type": "markdown",
   "id": "fcfac01c",
   "metadata": {},
   "source": [
    "Random Forest clearly outperformed Lasso:\n",
    "- RF had lower RMSE (0.91 vs 1.22) and higher R² (0.93 vs 0.87),\n",
    "  with non-overlapping 95% CIs → performance difference is real.\n",
    "Lasso is still simpler and interpretable, but RF gives better predictions.\n"
   ]
  },
  {
   "cell_type": "markdown",
   "id": "25a4115b",
   "metadata": {},
   "source": [
    "### Assumptions for Lasso (diagnostics) --> Residuals"
   ]
  },
  {
   "cell_type": "code",
   "execution_count": 13,
   "id": "9cbb8dc7",
   "metadata": {},
   "outputs": [
    {
     "data": {
      "image/png": "[encoded data removed]",
      "text/plain": [
       "<Figure size 640x480 with 1 Axes>"
      ]
     },
     "metadata": {},
     "output_type": "display_data"
    }
   ],
   "source": [
    "import matplotlib.pyplot as plt\n",
    "\n",
    "res = y_test - yhat_lasso\n",
    "plt.scatter(yhat_lasso, res, s=12)\n",
    "plt.axhline(0, ls='--')\n",
    "plt.xlabel('Predicted MentalHealth_Pct')\n",
    "plt.ylabel('Residual')\n",
    "plt.title('Lasso: Residuals vs Fitted')\n",
    "plt.show()\n"
   ]
  },
  {
   "cell_type": "markdown",
   "id": "8dcbb5c3",
   "metadata": {},
   "source": [
    "🧠 After tuning (1st image, with best α = 0.001)\n",
    "\n",
    "The residuals are tighter and more evenly spread around 0.\n",
    "\n",
    "No obvious curved pattern → linearity assumption holds.\n",
    "\n",
    "This means the model fits the data better without overfitting — consistent with your improved RMSE (1.22 → 0.91 gap vs. RF)."
   ]
  },
  {
   "cell_type": "markdown",
   "id": "f25292ed",
   "metadata": {},
   "source": [
    "### Lasso Coefficient Table "
   ]
  },
  {
   "cell_type": "code",
   "execution_count": 14,
   "id": "bdc47e3c",
   "metadata": {},
   "outputs": [
    {
     "data": {
      "text/html": [
       "<div>\n",
       "<style scoped>\n",
       "    .dataframe tbody tr th:only-of-type {\n",
       "        vertical-align: middle;\n",
       "    }\n",
       "\n",
       "    .dataframe tbody tr th {\n",
       "        vertical-align: top;\n",
       "    }\n",
       "\n",
       "    .dataframe thead th {\n",
       "        text-align: right;\n",
       "    }\n",
       "</style>\n",
       "<table border=\"1\" class=\"dataframe\">\n",
       "  <thead>\n",
       "    <tr style=\"text-align: right;\">\n",
       "      <th></th>\n",
       "      <th>feature</th>\n",
       "      <th>coef</th>\n",
       "    </tr>\n",
       "  </thead>\n",
       "  <tbody>\n",
       "    <tr>\n",
       "      <th>3</th>\n",
       "      <td>Smoking_Pct</td>\n",
       "      <td>1.633677</td>\n",
       "    </tr>\n",
       "    <tr>\n",
       "      <th>4</th>\n",
       "      <td>HeartDisease_Pct</td>\n",
       "      <td>1.304837</td>\n",
       "    </tr>\n",
       "    <tr>\n",
       "      <th>1</th>\n",
       "      <td>Obesity_Pct</td>\n",
       "      <td>1.080049</td>\n",
       "    </tr>\n",
       "    <tr>\n",
       "      <th>0</th>\n",
       "      <td>Sleep_Pct</td>\n",
       "      <td>0.844344</td>\n",
       "    </tr>\n",
       "    <tr>\n",
       "      <th>2</th>\n",
       "      <td>Asthma_Pct</td>\n",
       "      <td>0.583541</td>\n",
       "    </tr>\n",
       "    <tr>\n",
       "      <th>6</th>\n",
       "      <td>HighChol_Pct</td>\n",
       "      <td>-0.176796</td>\n",
       "    </tr>\n",
       "    <tr>\n",
       "      <th>5</th>\n",
       "      <td>HighBP_Pct</td>\n",
       "      <td>-2.021687</td>\n",
       "    </tr>\n",
       "  </tbody>\n",
       "</table>\n",
       "</div>"
      ],
      "text/plain": [
       "            feature      coef\n",
       "3       Smoking_Pct  1.633677\n",
       "4  HeartDisease_Pct  1.304837\n",
       "1       Obesity_Pct  1.080049\n",
       "0         Sleep_Pct  0.844344\n",
       "2        Asthma_Pct  0.583541\n",
       "6      HighChol_Pct -0.176796\n",
       "5        HighBP_Pct -2.021687"
      ]
     },
     "execution_count": 14,
     "metadata": {},
     "output_type": "execute_result"
    }
   ],
   "source": [
    "# grab standardized coefficients (because we scaled in the pipeline)\n",
    "lasso_model = best_lasso.named_steps['model']\n",
    "coef_table = pd.DataFrame({\n",
    "    'feature': X.columns,\n",
    "    'coef': lasso_model.coef_\n",
    "}).sort_values(by='coef', ascending=False)\n",
    "coef_table\n"
   ]
  },
  {
   "cell_type": "markdown",
   "id": "5c7e3eae",
   "metadata": {},
   "source": [
    "These coefficients come from the tuned Lasso (α = 0.001). \n",
    "Tuning controlled how much the model shrinks weights — too high α would zero them out (underfitting), too low would overfit. \n",
    "After tuning, key factors like Smoking, HeartDisease, and Obesity show strong positive effects, while HighBP has a negative one. \n",
    "This balance of meaningful, non-zero coefficients confirms that tuning improved both fit and interpretability.\n"
   ]
  },
  {
   "cell_type": "markdown",
   "id": "ac0e230d",
   "metadata": {},
   "source": [
    "### Diagnostics RF --> Perumation Importance "
   ]
  },
  {
   "cell_type": "code",
   "execution_count": 15,
   "id": "377bbb83",
   "metadata": {},
   "outputs": [
    {
     "data": {
      "image/png": "[encoded data removed]",
      "text/plain": [
       "<Figure size 640x480 with 1 Axes>"
      ]
     },
     "metadata": {},
     "output_type": "display_data"
    },
    {
     "data": {
      "text/plain": [
       "Smoking_Pct         0.722692\n",
       "HighBP_Pct          0.132758\n",
       "Asthma_Pct          0.120998\n",
       "Sleep_Pct           0.101590\n",
       "Obesity_Pct         0.078584\n",
       "HeartDisease_Pct    0.021408\n",
       "HighChol_Pct        0.021037\n",
       "dtype: float64"
      ]
     },
     "execution_count": 15,
     "metadata": {},
     "output_type": "execute_result"
    }
   ],
   "source": [
    "from sklearn.inspection import permutation_importance\n",
    "import pandas as pd\n",
    "\n",
    "perm = permutation_importance(best_rf, X_test, y_test, n_repeats=15, random_state=42)\n",
    "imp = pd.Series(perm.importances_mean, index=X.columns).sort_values()\n",
    "imp.plot(kind='barh')\n",
    "plt.xlabel('Decrease in Model Score')\n",
    "plt.title('Random Forest: Permutation Importance')\n",
    "plt.show()\n",
    "\n",
    "imp.sort_values(ascending=False)\n"
   ]
  }
 ],
 "metadata": {
  "kernelspec": {
   "display_name": "base",
   "language": "python",
   "name": "python3"
  },
  "language_info": {
   "codemirror_mode": {
    "name": "ipython",
    "version": 3
   },
   "file_extension": ".py",
   "mimetype": "text/x-python",
   "name": "python",
   "nbconvert_exporter": "python",
   "pygments_lexer": "ipython3",
   "version": "3.10.10"
  }
 },
 "nbformat": 4,
 "nbformat_minor": 5
}
