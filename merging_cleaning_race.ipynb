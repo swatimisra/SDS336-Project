{
 "cells": [
  {
   "cell_type": "markdown",
   "id": "dfdd1e17-891e-4376-a56d-acadf960418c",
   "metadata": {},
   "source": [
    "# Merging Census and Health Data\n",
    "Health data is saved as \"health.csv\" so change that if you have it labeled as something else.\n",
    "\n",
    "To change variables extracted in census data, change codes under the \"variables of interest section\" and update the change name section.\n",
    "\n",
    "To change variables extracted in census data, change \"columns to keep\" section."
   ]
  },
  {
   "cell_type": "code",
   "execution_count": 1,
   "id": "7cbbbe00-f8d9-47ca-b98d-41ef1777e66b",
   "metadata": {},
   "outputs": [
    {
     "name": "stdout",
     "output_type": "stream",
     "text": [
      "Defaulting to user installation because normal site-packages is not writeable\n",
      "Requirement already satisfied: censusdata in /Users/janak/Library/Python/3.9/lib/python/site-packages (1.15.post1)\n",
      "Requirement already satisfied: pandas in /Users/janak/Library/Python/3.9/lib/python/site-packages (from censusdata) (2.3.2)\n",
      "Requirement already satisfied: requests in /Users/janak/Library/Python/3.9/lib/python/site-packages (from censusdata) (2.32.5)\n",
      "Requirement already satisfied: numpy>=1.22.4 in /Users/janak/Library/Python/3.9/lib/python/site-packages (from pandas->censusdata) (2.0.2)\n",
      "Requirement already satisfied: python-dateutil>=2.8.2 in /Users/janak/Library/Python/3.9/lib/python/site-packages (from pandas->censusdata) (2.9.0.post0)\n",
      "Requirement already satisfied: pytz>=2020.1 in /Users/janak/Library/Python/3.9/lib/python/site-packages (from pandas->censusdata) (2025.2)\n",
      "Requirement already satisfied: tzdata>=2022.7 in /Users/janak/Library/Python/3.9/lib/python/site-packages (from pandas->censusdata) (2025.2)\n",
      "Requirement already satisfied: six>=1.5 in /Library/Developer/CommandLineTools/Library/Frameworks/Python3.framework/Versions/3.9/lib/python3.9/site-packages (from python-dateutil>=2.8.2->pandas->censusdata) (1.15.0)\n",
      "Requirement already satisfied: charset_normalizer<4,>=2 in /Users/janak/Library/Python/3.9/lib/python/site-packages (from requests->censusdata) (3.4.3)\n",
      "Requirement already satisfied: idna<4,>=2.5 in /Users/janak/Library/Python/3.9/lib/python/site-packages (from requests->censusdata) (3.10)\n",
      "Requirement already satisfied: urllib3<3,>=1.21.1 in /Users/janak/Library/Python/3.9/lib/python/site-packages (from requests->censusdata) (2.5.0)\n",
      "Requirement already satisfied: certifi>=2017.4.17 in /Users/janak/Library/Python/3.9/lib/python/site-packages (from requests->censusdata) (2025.8.3)\n"
     ]
    },
    {
     "name": "stderr",
     "output_type": "stream",
     "text": [
      "/Users/janak/Library/Python/3.9/lib/python/site-packages/urllib3/__init__.py:35: NotOpenSSLWarning: urllib3 v2 only supports OpenSSL 1.1.1+, currently the 'ssl' module is compiled with 'LibreSSL 2.8.3'. See: https://github.com/urllib3/urllib3/issues/3020\n",
      "  warnings.warn(\n"
     ]
    }
   ],
   "source": [
    "!pip install censusdata\n",
    "import pandas as pd\n",
    "import censusdata"
   ]
  },
  {
   "cell_type": "markdown",
   "id": "60e21786-9bd1-449d-9a96-0c8a7e694c0f",
   "metadata": {},
   "source": [
    "## Census Data"
   ]
  },
  {
   "cell_type": "code",
   "execution_count": null,
   "id": "ea9b1a99-8b2c-422c-a4c6-99a9e6428423",
   "metadata": {},
   "outputs": [
    {
     "name": "stdout",
     "output_type": "stream",
     "text": [
      "Downloading data for state FIPS: 01\n",
      "Downloading data for state FIPS: 02\n",
      "Downloading data for state FIPS: 04\n",
      "Downloading data for state FIPS: 05\n",
      "Downloading data for state FIPS: 06\n",
      "Downloading data for state FIPS: 08\n",
      "Downloading data for state FIPS: 09\n",
      "Downloading data for state FIPS: 10\n",
      "Downloading data for state FIPS: 11\n",
      "Downloading data for state FIPS: 12\n",
      "Downloading data for state FIPS: 13\n",
      "Downloading data for state FIPS: 15\n",
      "Downloading data for state FIPS: 16\n",
      "Downloading data for state FIPS: 17\n",
      "Downloading data for state FIPS: 18\n",
      "Downloading data for state FIPS: 19\n",
      "Downloading data for state FIPS: 20\n",
      "Downloading data for state FIPS: 21\n",
      "Downloading data for state FIPS: 22\n",
      "Downloading data for state FIPS: 23\n",
      "Downloading data for state FIPS: 24\n",
      "Downloading data for state FIPS: 25\n",
      "Downloading data for state FIPS: 26\n",
      "Downloading data for state FIPS: 27\n",
      "Downloading data for state FIPS: 28\n",
      "Downloading data for state FIPS: 29\n",
      "Downloading data for state FIPS: 30\n",
      "Downloading data for state FIPS: 31\n",
      "Downloading data for state FIPS: 32\n",
      "Downloading data for state FIPS: 33\n",
      "Downloading data for state FIPS: 34\n",
      "Downloading data for state FIPS: 35\n",
      "Downloading data for state FIPS: 36\n",
      "Downloading data for state FIPS: 37\n",
      "Downloading data for state FIPS: 38\n",
      "Downloading data for state FIPS: 39\n",
      "Downloading data for state FIPS: 40\n",
      "Downloading data for state FIPS: 41\n",
      "Downloading data for state FIPS: 42\n",
      "Downloading data for state FIPS: 44\n",
      "Downloading data for state FIPS: 45\n",
      "Downloading data for state FIPS: 46\n",
      "Downloading data for state FIPS: 47\n",
      "Downloading data for state FIPS: 48\n",
      "Downloading data for state FIPS: 49\n",
      "Downloading data for state FIPS: 50\n",
      "Downloading data for state FIPS: 51\n",
      "Downloading data for state FIPS: 53\n",
      "Downloading data for state FIPS: 54\n",
      "Downloading data for state FIPS: 55\n",
      "Downloading data for state FIPS: 56\n",
      "Race variables added. Example rows:\n",
      "  Tract_FIPS_full  Race_Total  Pct_White_Alone  Pct_Black_Alone  \\\n",
      "0     01103005109        4792        64.232053        28.338898   \n",
      "1     01103005106        5739        80.989719        13.922286   \n",
      "2     01103005107        4883        92.197420         2.170797   \n",
      "3     01103005108        3787        76.894640        18.061790   \n",
      "4     01103005701        2784        97.557471         0.000000   \n",
      "\n",
      "   Pct_AIAN_Alone  Pct_Asian_Alone  Pct_NHPI_Alone  Pct_Other_Alone  \\\n",
      "0        3.025876         0.000000             0.0         0.000000   \n",
      "1        0.000000         1.254574             0.0         0.000000   \n",
      "2        0.000000         2.396068             0.0         0.163834   \n",
      "3        0.396092         0.000000             0.0         0.000000   \n",
      "4        1.400862         0.000000             0.0         0.000000   \n",
      "\n",
      "   Pct_TwoPlus  \n",
      "0     4.403172  \n",
      "1     3.833420  \n",
      "2     3.071882  \n",
      "3     4.647478  \n",
      "4     1.041667  \n",
      "ACS tract-level data ready with full 11-digit FIPS!\n"
     ]
    },
    {
     "name": "stderr",
     "output_type": "stream",
     "text": [
      "/var/folders/kt/_bzbz3vd5qbcfjnt5vssmqxh0000gn/T/ipykernel_59855/2095683370.py:133: FutureWarning: The behavior of DataFrame.idxmax with all-NA values, or any-NA and skipna=False, is deprecated. In a future version this will raise ValueError\n",
      "  census_df['Majority_Race'] = census_df[race_pct_cols].idxmax(axis=1).str.replace('Pct_','').str.replace('_Alone','')\n"
     ]
    }
   ],
   "source": [
    "# --- Variables of interest ---\n",
    "variables = [\n",
    "    'B19013_001E',  # Median income\n",
    "    'B01002_001E',  # Median age\n",
    "    'B17001_002E',  # Poverty\n",
    "    'B17001_001E',  # Poverty population\n",
    "    'B15003_017E',  # HS grad\n",
    "    'B15003_022E',  # Bachelor's degree\n",
    "    'B15003_001E',  # Education population\n",
    "    'B23025_005E',  # Unemployed\n",
    "    'B23025_001E',   # Unemployed population\n",
    "        # --- RACE (B02001) ---\n",
    "    'B02001_001E',  # Total\n",
    "    'B02001_002E',  # White alone\n",
    "    'B02001_003E',  # Black or African American alone\n",
    "    'B02001_004E',  # American Indian/Alaska Native alone\n",
    "    'B02001_005E',  # Asian alone\n",
    "    'B02001_006E',  # NH/Other Pacific Islander alone\n",
    "    'B02001_007E',  # Some other race alone\n",
    "    'B02001_008E',  # Two or more races\n",
    "    'B02001_009E',  # Two races incl. Some other race\n",
    "    'B02001_010E',  # Two races excl. Some other race, and 3+ races\n",
    "        # Hispanic \n",
    "    'B03002_001E',  # Hispanic Total\n",
    "    'B03002_012E'   # Hispanic or Latino\n",
    "]\n",
    "\n",
    "\n",
    "# --- Valid state FIPS codes (50 states + DC) ---\n",
    "valid_states = [\n",
    "    '01','02','04','05','06','08','09','10','11','12','13','15','16','17','18','19',\n",
    "    '20','21','22','23','24','25','26','27','28','29','30','31','32','33','34','35',\n",
    "    '36','37','38','39','40','41','42','44','45','46','47','48','49','50','51','53',\n",
    "    '54','55','56'\n",
    "]\n",
    "\n",
    "# --- Function to parse censusgeo objects ---\n",
    "def split_geo(cgeo):\n",
    "    codes = dict(cgeo.geo)\n",
    "    name_parts = cgeo.name.split(\", \")\n",
    "    tract_name = name_parts[0]\n",
    "    county_name = name_parts[1]\n",
    "    state_name = name_parts[2]\n",
    "    return pd.Series([\n",
    "        codes.get('state'), codes.get('county'), codes.get('tract'),\n",
    "        state_name, county_name, tract_name\n",
    "    ])\n",
    "\n",
    "# --- Download and process data for all states ---\n",
    "all_data = []\n",
    "\n",
    "for state in valid_states:\n",
    "    print(f\"Downloading data for state FIPS: {state}\")\n",
    "    data = censusdata.download(\n",
    "        'acs5', 2015,\n",
    "        censusdata.censusgeo([('state', state), ('county', '*'), ('tract', '*')]),\n",
    "        variables\n",
    "    )\n",
    "    \n",
    "    # Extract geo info\n",
    "    geo_cols = data.index.to_series().apply(split_geo)\n",
    "    geo_cols.columns = [\n",
    "        'State_FIPS', 'County_FIPS', 'Tract_FIPS',\n",
    "        'State_Name', 'County_Name', 'Tract_Name'\n",
    "    ]\n",
    "    \n",
    "    # Combine geo info with data\n",
    "    data_clean = pd.concat([geo_cols, data], axis=1).reset_index(drop=True)\n",
    "    all_data.append(data_clean)\n",
    "\n",
    "# --- Combine all states ---\n",
    "census_df = pd.concat(all_data, ignore_index=True)\n",
    "\n",
    "# --- Create 11-digit tract FIPS ---\n",
    "census_df[\"Tract_FIPS_full\"] = (\n",
    "    census_df[\"State_FIPS\"].astype(str).str.zfill(2) +\n",
    "    census_df[\"County_FIPS\"].astype(str).str.zfill(3) +\n",
    "    census_df[\"Tract_FIPS\"].astype(str).str.zfill(6)\n",
    ")\n",
    "\n",
    "#rename variables\n",
    "census_df = census_df.rename(columns={\n",
    "    'B19013_001E': 'Median_Income',\n",
    "    'B01002_001E': 'Median_Age',\n",
    "    'B17001_002E': 'Poverty_Count',\n",
    "    'B17001_001E': 'Poverty_Pop',\n",
    "    'B15003_017E': 'HS_Grad_Count',\n",
    "    'B15003_022E': 'Bachelors_Count',\n",
    "    'B15003_001E': 'Education_Pop',\n",
    "    'B23025_005E': 'Unemployed_Count',\n",
    "    'B23025_001E': 'Unemployed_Pop',\n",
    "    'B02001_001E': 'Race_Total',\n",
    "    'B02001_002E': 'White_Alone',\n",
    "    'B02001_003E': 'Black_Alone',\n",
    "    'B02001_004E': 'AIAN_Alone',\n",
    "    'B02001_005E': 'Asian_Alone',\n",
    "    'B02001_006E': 'NHPI_Alone',\n",
    "    'B02001_007E': 'Other_Alone',\n",
    "    'B02001_008E': 'TwoPlus',\n",
    "    'B02001_009E': 'Two_incl_Other',\n",
    "    'B02001_010E': 'Two_excl_Other_or_3plus',\n",
    "    'B03002_001E': 'Hispanic_Total',\n",
    "    'B03002_012E': 'Hispanic_Any'\n",
    "})\n",
    "\n",
    "import numpy as np\n",
    "\n",
    "race_num_cols = [\n",
    "    'White_Alone','Black_Alone','AIAN_Alone','Asian_Alone',\n",
    "    'NHPI_Alone','Other_Alone','TwoPlus'\n",
    "]\n",
    "\n",
    "# Convert all race counts and totals to numeric\n",
    "for c in race_num_cols:\n",
    "    census_df[c] = pd.to_numeric(census_df[c], errors='coerce')\n",
    "\n",
    "race_total = pd.to_numeric(census_df['Race_Total'], errors='coerce')\n",
    "\n",
    "# Replace 0 totals with NaN to avoid divide-by-zero\n",
    "den = race_total.replace(0, np.nan)\n",
    "\n",
    "# Compute percentages\n",
    "for c in race_num_cols:\n",
    "    census_df[f'Pct_{c}'] = 100.0 * census_df[c] / den\n",
    "\n",
    "# (Optional) A single “majority race” label per tract\n",
    "race_pct_cols = [\n",
    "    'Pct_White_Alone','Pct_Black_Alone','Pct_AIAN_Alone','Pct_Asian_Alone','Pct_NHPI_Alone','Pct_Other_Alone','Pct_TwoPlus'\n",
    "]\n",
    "# Rename columns above already match this list; if not, adjust names accordingly.\n",
    "\n",
    "census_df['Majority_Race'] = census_df[race_pct_cols].idxmax(axis=1).str.replace('Pct_','').str.replace('_Alone','')\n",
    "\n",
    "print(\"Race variables added. Example rows:\")\n",
    "print(census_df[['Tract_FIPS_full','Race_Total'] + race_pct_cols].head())\n",
    "\n",
    "\n",
    "print(\"ACS tract-level data ready with full 11-digit FIPS!\")\n"
   ]
  },
  {
   "cell_type": "code",
   "execution_count": 4,
   "id": "3ac13ee2",
   "metadata": {},
   "outputs": [
    {
     "name": "stdout",
     "output_type": "stream",
     "text": [
      "Majority_Race_Clean\n",
      "White       59371\n",
      "Black        7047\n",
      "Hispanic     4581\n",
      "Asian        1066\n",
      "Other         991\n",
      "Name: count, dtype: int64\n"
     ]
    }
   ],
   "source": [
    "# --- % Hispanic (from B03002 you already pulled) ---\n",
    "census_df['Hispanic_Total'] = pd.to_numeric(census_df['Hispanic_Total'], errors='coerce')\n",
    "census_df['Hispanic_Any']   = pd.to_numeric(census_df['Hispanic_Any'], errors='coerce')\n",
    "den_h = census_df['Hispanic_Total'].replace(0, np.nan)\n",
    "census_df['Pct_Hispanic'] = 100.0 * census_df['Hispanic_Any'] / den_h\n",
    "\n",
    "# --- Build \"Other\" share and 5-bucket majority label ---\n",
    "# ensure all % columns are numeric\n",
    "for c in ['Pct_White_Alone','Pct_Black_Alone','Pct_Asian_Alone',\n",
    "          'Pct_AIAN_Alone','Pct_NHPI_Alone','Pct_Other_Alone','Pct_TwoPlus','Pct_Hispanic']:\n",
    "    census_df[c] = pd.to_numeric(census_df[c], errors='coerce')\n",
    "\n",
    "# Other = AIAN + NHPI + Other_Alone + TwoPlus\n",
    "census_df['Pct_Other'] = (\n",
    "    census_df[['Pct_AIAN_Alone','Pct_NHPI_Alone','Pct_Other_Alone','Pct_TwoPlus']]\n",
    "    .fillna(0).sum(axis=1)\n",
    ")\n",
    "\n",
    "# pick the max across White, Black, Asian, Hispanic, Other\n",
    "share_table = pd.DataFrame({\n",
    "    'White':    census_df['Pct_White_Alone'],\n",
    "    'Black':    census_df['Pct_Black_Alone'],\n",
    "    'Asian':    census_df['Pct_Asian_Alone'],\n",
    "    'Hispanic': census_df['Pct_Hispanic'],\n",
    "    'Other':    census_df['Pct_Other'],\n",
    "})\n",
    "census_df['Majority_Race_Clean'] = share_table.idxmax(axis=1)\n",
    "\n",
    "# sanity check\n",
    "print(census_df['Majority_Race_Clean'].value_counts(dropna=False).head())\n"
   ]
  },
  {
   "cell_type": "code",
   "execution_count": 5,
   "id": "3633f652-cf79-432b-ba39-71095fae1df2",
   "metadata": {},
   "outputs": [
    {
     "data": {
      "application/vnd.microsoft.datawrangler.viewer.v0+json": {
       "columns": [
        {
         "name": "index",
         "rawType": "int64",
         "type": "integer"
        },
        {
         "name": "State_FIPS",
         "rawType": "object",
         "type": "string"
        },
        {
         "name": "County_FIPS",
         "rawType": "object",
         "type": "string"
        },
        {
         "name": "Tract_FIPS",
         "rawType": "object",
         "type": "string"
        },
        {
         "name": "State_Name",
         "rawType": "object",
         "type": "string"
        },
        {
         "name": "County_Name",
         "rawType": "object",
         "type": "string"
        },
        {
         "name": "Tract_Name",
         "rawType": "object",
         "type": "string"
        },
        {
         "name": "Median_Income",
         "rawType": "float64",
         "type": "float"
        },
        {
         "name": "Median_Age",
         "rawType": "float64",
         "type": "float"
        },
        {
         "name": "Poverty_Count",
         "rawType": "int64",
         "type": "integer"
        },
        {
         "name": "Poverty_Pop",
         "rawType": "int64",
         "type": "integer"
        },
        {
         "name": "HS_Grad_Count",
         "rawType": "int64",
         "type": "integer"
        },
        {
         "name": "Bachelors_Count",
         "rawType": "int64",
         "type": "integer"
        },
        {
         "name": "Education_Pop",
         "rawType": "int64",
         "type": "integer"
        },
        {
         "name": "Unemployed_Count",
         "rawType": "int64",
         "type": "integer"
        },
        {
         "name": "Unemployed_Pop",
         "rawType": "int64",
         "type": "integer"
        },
        {
         "name": "Race_Total",
         "rawType": "int64",
         "type": "integer"
        },
        {
         "name": "White_Alone",
         "rawType": "int64",
         "type": "integer"
        },
        {
         "name": "Black_Alone",
         "rawType": "int64",
         "type": "integer"
        },
        {
         "name": "AIAN_Alone",
         "rawType": "int64",
         "type": "integer"
        },
        {
         "name": "Asian_Alone",
         "rawType": "int64",
         "type": "integer"
        },
        {
         "name": "NHPI_Alone",
         "rawType": "int64",
         "type": "integer"
        },
        {
         "name": "Other_Alone",
         "rawType": "int64",
         "type": "integer"
        },
        {
         "name": "TwoPlus",
         "rawType": "int64",
         "type": "integer"
        },
        {
         "name": "Two_incl_Other",
         "rawType": "int64",
         "type": "integer"
        },
        {
         "name": "Two_excl_Other_or_3plus",
         "rawType": "int64",
         "type": "integer"
        },
        {
         "name": "Hispanic_Total",
         "rawType": "int64",
         "type": "integer"
        },
        {
         "name": "Hispanic_Any",
         "rawType": "int64",
         "type": "integer"
        },
        {
         "name": "Tract_FIPS_full",
         "rawType": "object",
         "type": "string"
        },
        {
         "name": "Pct_White_Alone",
         "rawType": "float64",
         "type": "float"
        },
        {
         "name": "Pct_Black_Alone",
         "rawType": "float64",
         "type": "float"
        },
        {
         "name": "Pct_AIAN_Alone",
         "rawType": "float64",
         "type": "float"
        },
        {
         "name": "Pct_Asian_Alone",
         "rawType": "float64",
         "type": "float"
        },
        {
         "name": "Pct_NHPI_Alone",
         "rawType": "float64",
         "type": "float"
        },
        {
         "name": "Pct_Other_Alone",
         "rawType": "float64",
         "type": "float"
        },
        {
         "name": "Pct_TwoPlus",
         "rawType": "float64",
         "type": "float"
        },
        {
         "name": "Majority_Race",
         "rawType": "object",
         "type": "string"
        },
        {
         "name": "Pct_Hispanic",
         "rawType": "float64",
         "type": "float"
        },
        {
         "name": "Majority_Race_Clean",
         "rawType": "object",
         "type": "string"
        },
        {
         "name": "Pct_Other",
         "rawType": "float64",
         "type": "float"
        }
       ],
       "ref": "c4ff58af-a255-4bd2-b4cd-939a25f8438b",
       "rows": [
        [
         "0",
         "01",
         "103",
         "005109",
         "Alabama",
         "Morgan County",
         "Census Tract 51.09",
         "29644.0",
         "29.6",
         "1476",
         "4792",
         "695",
         "290",
         "2710",
         "303",
         "3424",
         "4792",
         "3078",
         "1358",
         "145",
         "0",
         "0",
         "0",
         "211",
         "19",
         "192",
         "4792",
         "1006",
         "01103005109",
         "64.23205342237061",
         "28.33889816360601",
         "3.0258764607679467",
         "0.0",
         "0.0",
         "0.0",
         "4.403171953255426",
         "White",
         "20.993322203672786",
         "White",
         "7.429048414023373"
        ],
        [
         "1",
         "01",
         "103",
         "005106",
         "Alabama",
         "Morgan County",
         "Census Tract 51.06",
         "35864.0",
         "43.3",
         "1186",
         "5723",
         "899",
         "924",
         "4064",
         "293",
         "4796",
         "5739",
         "4648",
         "799",
         "0",
         "72",
         "0",
         "0",
         "220",
         "0",
         "220",
         "5739",
         "60",
         "01103005106",
         "80.98971946332114",
         "13.922286112563164",
         "0.0",
         "1.2545739675901726",
         "0.0",
         "0.0",
         "3.833420456525527",
         "White",
         "1.0454783063251438",
         "White",
         "3.833420456525527"
        ],
        [
         "2",
         "01",
         "103",
         "005107",
         "Alabama",
         "Morgan County",
         "Census Tract 51.07",
         "66739.0",
         "43.5",
         "137",
         "4853",
         "632",
         "805",
         "3382",
         "126",
         "4032",
         "4883",
         "4502",
         "106",
         "0",
         "117",
         "0",
         "8",
         "150",
         "0",
         "150",
         "4883",
         "95",
         "01103005107",
         "92.19741961908663",
         "2.17079664140897",
         "0.0",
         "2.396067990989146",
         "0.0",
         "0.16383370878558262",
         "3.071882039729674",
         "White",
         "1.9455252918287937",
         "White",
         "3.235715748515257"
        ],
        [
         "3",
         "01",
         "103",
         "005108",
         "Alabama",
         "Morgan County",
         "Census Tract 51.08",
         "64632.0",
         "45.8",
         "566",
         "3787",
         "589",
         "535",
         "2769",
         "166",
         "3110",
         "3787",
         "2912",
         "684",
         "15",
         "0",
         "0",
         "0",
         "176",
         "0",
         "176",
         "3787",
         "122",
         "01103005108",
         "76.89463955637709",
         "18.061790335357802",
         "0.39609189331925004",
         "0.0",
         "0.0",
         "0.0",
         "4.647478214945868",
         "White",
         "3.221547398996567",
         "White",
         "5.043570108265118"
        ],
        [
         "4",
         "01",
         "103",
         "005701",
         "Alabama",
         "Morgan County",
         "Census Tract 57.01",
         "46306.0",
         "38.4",
         "571",
         "2784",
         "295",
         "205",
         "1783",
         "52",
         "2022",
         "2784",
         "2716",
         "0",
         "39",
         "0",
         "0",
         "0",
         "29",
         "0",
         "29",
         "2784",
         "0",
         "01103005701",
         "97.55747126436782",
         "0.0",
         "1.4008620689655173",
         "0.0",
         "0.0",
         "0.0",
         "1.0416666666666667",
         "White",
         "0.0",
         "White",
         "2.442528735632184"
        ]
       ],
       "shape": {
        "columns": 39,
        "rows": 5
       }
      },
      "text/html": [
       "<div>\n",
       "<style scoped>\n",
       "    .dataframe tbody tr th:only-of-type {\n",
       "        vertical-align: middle;\n",
       "    }\n",
       "\n",
       "    .dataframe tbody tr th {\n",
       "        vertical-align: top;\n",
       "    }\n",
       "\n",
       "    .dataframe thead th {\n",
       "        text-align: right;\n",
       "    }\n",
       "</style>\n",
       "<table border=\"1\" class=\"dataframe\">\n",
       "  <thead>\n",
       "    <tr style=\"text-align: right;\">\n",
       "      <th></th>\n",
       "      <th>State_FIPS</th>\n",
       "      <th>County_FIPS</th>\n",
       "      <th>Tract_FIPS</th>\n",
       "      <th>State_Name</th>\n",
       "      <th>County_Name</th>\n",
       "      <th>Tract_Name</th>\n",
       "      <th>Median_Income</th>\n",
       "      <th>Median_Age</th>\n",
       "      <th>Poverty_Count</th>\n",
       "      <th>Poverty_Pop</th>\n",
       "      <th>...</th>\n",
       "      <th>Pct_Black_Alone</th>\n",
       "      <th>Pct_AIAN_Alone</th>\n",
       "      <th>Pct_Asian_Alone</th>\n",
       "      <th>Pct_NHPI_Alone</th>\n",
       "      <th>Pct_Other_Alone</th>\n",
       "      <th>Pct_TwoPlus</th>\n",
       "      <th>Majority_Race</th>\n",
       "      <th>Pct_Hispanic</th>\n",
       "      <th>Majority_Race_Clean</th>\n",
       "      <th>Pct_Other</th>\n",
       "    </tr>\n",
       "  </thead>\n",
       "  <tbody>\n",
       "    <tr>\n",
       "      <th>0</th>\n",
       "      <td>01</td>\n",
       "      <td>103</td>\n",
       "      <td>005109</td>\n",
       "      <td>Alabama</td>\n",
       "      <td>Morgan County</td>\n",
       "      <td>Census Tract 51.09</td>\n",
       "      <td>29644.0</td>\n",
       "      <td>29.6</td>\n",
       "      <td>1476</td>\n",
       "      <td>4792</td>\n",
       "      <td>...</td>\n",
       "      <td>28.338898</td>\n",
       "      <td>3.025876</td>\n",
       "      <td>0.000000</td>\n",
       "      <td>0.0</td>\n",
       "      <td>0.000000</td>\n",
       "      <td>4.403172</td>\n",
       "      <td>White</td>\n",
       "      <td>20.993322</td>\n",
       "      <td>White</td>\n",
       "      <td>7.429048</td>\n",
       "    </tr>\n",
       "    <tr>\n",
       "      <th>1</th>\n",
       "      <td>01</td>\n",
       "      <td>103</td>\n",
       "      <td>005106</td>\n",
       "      <td>Alabama</td>\n",
       "      <td>Morgan County</td>\n",
       "      <td>Census Tract 51.06</td>\n",
       "      <td>35864.0</td>\n",
       "      <td>43.3</td>\n",
       "      <td>1186</td>\n",
       "      <td>5723</td>\n",
       "      <td>...</td>\n",
       "      <td>13.922286</td>\n",
       "      <td>0.000000</td>\n",
       "      <td>1.254574</td>\n",
       "      <td>0.0</td>\n",
       "      <td>0.000000</td>\n",
       "      <td>3.833420</td>\n",
       "      <td>White</td>\n",
       "      <td>1.045478</td>\n",
       "      <td>White</td>\n",
       "      <td>3.833420</td>\n",
       "    </tr>\n",
       "    <tr>\n",
       "      <th>2</th>\n",
       "      <td>01</td>\n",
       "      <td>103</td>\n",
       "      <td>005107</td>\n",
       "      <td>Alabama</td>\n",
       "      <td>Morgan County</td>\n",
       "      <td>Census Tract 51.07</td>\n",
       "      <td>66739.0</td>\n",
       "      <td>43.5</td>\n",
       "      <td>137</td>\n",
       "      <td>4853</td>\n",
       "      <td>...</td>\n",
       "      <td>2.170797</td>\n",
       "      <td>0.000000</td>\n",
       "      <td>2.396068</td>\n",
       "      <td>0.0</td>\n",
       "      <td>0.163834</td>\n",
       "      <td>3.071882</td>\n",
       "      <td>White</td>\n",
       "      <td>1.945525</td>\n",
       "      <td>White</td>\n",
       "      <td>3.235716</td>\n",
       "    </tr>\n",
       "    <tr>\n",
       "      <th>3</th>\n",
       "      <td>01</td>\n",
       "      <td>103</td>\n",
       "      <td>005108</td>\n",
       "      <td>Alabama</td>\n",
       "      <td>Morgan County</td>\n",
       "      <td>Census Tract 51.08</td>\n",
       "      <td>64632.0</td>\n",
       "      <td>45.8</td>\n",
       "      <td>566</td>\n",
       "      <td>3787</td>\n",
       "      <td>...</td>\n",
       "      <td>18.061790</td>\n",
       "      <td>0.396092</td>\n",
       "      <td>0.000000</td>\n",
       "      <td>0.0</td>\n",
       "      <td>0.000000</td>\n",
       "      <td>4.647478</td>\n",
       "      <td>White</td>\n",
       "      <td>3.221547</td>\n",
       "      <td>White</td>\n",
       "      <td>5.043570</td>\n",
       "    </tr>\n",
       "    <tr>\n",
       "      <th>4</th>\n",
       "      <td>01</td>\n",
       "      <td>103</td>\n",
       "      <td>005701</td>\n",
       "      <td>Alabama</td>\n",
       "      <td>Morgan County</td>\n",
       "      <td>Census Tract 57.01</td>\n",
       "      <td>46306.0</td>\n",
       "      <td>38.4</td>\n",
       "      <td>571</td>\n",
       "      <td>2784</td>\n",
       "      <td>...</td>\n",
       "      <td>0.000000</td>\n",
       "      <td>1.400862</td>\n",
       "      <td>0.000000</td>\n",
       "      <td>0.0</td>\n",
       "      <td>0.000000</td>\n",
       "      <td>1.041667</td>\n",
       "      <td>White</td>\n",
       "      <td>0.000000</td>\n",
       "      <td>White</td>\n",
       "      <td>2.442529</td>\n",
       "    </tr>\n",
       "  </tbody>\n",
       "</table>\n",
       "<p>5 rows × 39 columns</p>\n",
       "</div>"
      ],
      "text/plain": [
       "  State_FIPS County_FIPS Tract_FIPS State_Name    County_Name  \\\n",
       "0         01         103     005109    Alabama  Morgan County   \n",
       "1         01         103     005106    Alabama  Morgan County   \n",
       "2         01         103     005107    Alabama  Morgan County   \n",
       "3         01         103     005108    Alabama  Morgan County   \n",
       "4         01         103     005701    Alabama  Morgan County   \n",
       "\n",
       "           Tract_Name  Median_Income  Median_Age  Poverty_Count  Poverty_Pop  \\\n",
       "0  Census Tract 51.09        29644.0        29.6           1476         4792   \n",
       "1  Census Tract 51.06        35864.0        43.3           1186         5723   \n",
       "2  Census Tract 51.07        66739.0        43.5            137         4853   \n",
       "3  Census Tract 51.08        64632.0        45.8            566         3787   \n",
       "4  Census Tract 57.01        46306.0        38.4            571         2784   \n",
       "\n",
       "   ...  Pct_Black_Alone  Pct_AIAN_Alone  Pct_Asian_Alone  Pct_NHPI_Alone  \\\n",
       "0  ...        28.338898        3.025876         0.000000             0.0   \n",
       "1  ...        13.922286        0.000000         1.254574             0.0   \n",
       "2  ...         2.170797        0.000000         2.396068             0.0   \n",
       "3  ...        18.061790        0.396092         0.000000             0.0   \n",
       "4  ...         0.000000        1.400862         0.000000             0.0   \n",
       "\n",
       "   Pct_Other_Alone  Pct_TwoPlus  Majority_Race  Pct_Hispanic  \\\n",
       "0         0.000000     4.403172          White     20.993322   \n",
       "1         0.000000     3.833420          White      1.045478   \n",
       "2         0.163834     3.071882          White      1.945525   \n",
       "3         0.000000     4.647478          White      3.221547   \n",
       "4         0.000000     1.041667          White      0.000000   \n",
       "\n",
       "   Majority_Race_Clean  Pct_Other  \n",
       "0                White   7.429048  \n",
       "1                White   3.833420  \n",
       "2                White   3.235716  \n",
       "3                White   5.043570  \n",
       "4                White   2.442529  \n",
       "\n",
       "[5 rows x 39 columns]"
      ]
     },
     "execution_count": 5,
     "metadata": {},
     "output_type": "execute_result"
    }
   ],
   "source": [
    "census_df.head()"
   ]
  },
  {
   "cell_type": "code",
   "execution_count": 6,
   "id": "ba46e306-bb49-43bc-a04f-4bb17afb5e27",
   "metadata": {},
   "outputs": [
    {
     "data": {
      "text/plain": [
       "Index(['State_FIPS', 'County_FIPS', 'Tract_FIPS', 'State_Name', 'County_Name',\n",
       "       'Tract_Name', 'Median_Income', 'Median_Age', 'Poverty_Count',\n",
       "       'Poverty_Pop', 'HS_Grad_Count', 'Bachelors_Count', 'Education_Pop',\n",
       "       'Unemployed_Count', 'Unemployed_Pop', 'Race_Total', 'White_Alone',\n",
       "       'Black_Alone', 'AIAN_Alone', 'Asian_Alone', 'NHPI_Alone', 'Other_Alone',\n",
       "       'TwoPlus', 'Two_incl_Other', 'Two_excl_Other_or_3plus',\n",
       "       'Hispanic_Total', 'Hispanic_Any', 'Tract_FIPS_full', 'Pct_White_Alone',\n",
       "       'Pct_Black_Alone', 'Pct_AIAN_Alone', 'Pct_Asian_Alone',\n",
       "       'Pct_NHPI_Alone', 'Pct_Other_Alone', 'Pct_TwoPlus', 'Majority_Race',\n",
       "       'Pct_Hispanic', 'Majority_Race_Clean', 'Pct_Other'],\n",
       "      dtype='object')"
      ]
     },
     "execution_count": 6,
     "metadata": {},
     "output_type": "execute_result"
    }
   ],
   "source": [
    "census_df.columns"
   ]
  },
  {
   "cell_type": "markdown",
   "id": "44f640bd-5394-4ef3-95e8-068a08222f92",
   "metadata": {},
   "source": [
    "## Health Data"
   ]
  },
  {
   "cell_type": "code",
   "execution_count": 7,
   "id": "53b1b8ae-e117-4105-9006-dc5a431cd5b2",
   "metadata": {},
   "outputs": [],
   "source": [
    "health_df = pd.read_csv(\"health.csv\")"
   ]
  },
  {
   "cell_type": "code",
   "execution_count": 8,
   "id": "89248d18-f826-4e69-b12c-a595673e1b65",
   "metadata": {},
   "outputs": [
    {
     "data": {
      "application/vnd.microsoft.datawrangler.viewer.v0+json": {
       "columns": [
        {
         "name": "index",
         "rawType": "int64",
         "type": "integer"
        },
        {
         "name": "StateAbbr",
         "rawType": "object",
         "type": "string"
        },
        {
         "name": "PlaceName",
         "rawType": "object",
         "type": "string"
        },
        {
         "name": "PlaceFIPS",
         "rawType": "int64",
         "type": "integer"
        },
        {
         "name": "TractFIPS",
         "rawType": "int64",
         "type": "integer"
        },
        {
         "name": "Place_TractID",
         "rawType": "object",
         "type": "string"
        },
        {
         "name": "Population2010",
         "rawType": "int64",
         "type": "integer"
        },
        {
         "name": "ACCESS2_CrudePrev",
         "rawType": "float64",
         "type": "float"
        },
        {
         "name": "ACCESS2_Crude95CI",
         "rawType": "object",
         "type": "string"
        },
        {
         "name": "ARTHRITIS_CrudePrev",
         "rawType": "float64",
         "type": "float"
        },
        {
         "name": "ARTHRITIS_Crude95CI",
         "rawType": "object",
         "type": "string"
        },
        {
         "name": "BINGE_CrudePrev",
         "rawType": "float64",
         "type": "float"
        },
        {
         "name": "BINGE_Crude95CI",
         "rawType": "object",
         "type": "string"
        },
        {
         "name": "BPHIGH_CrudePrev",
         "rawType": "float64",
         "type": "float"
        },
        {
         "name": "BPHIGH_Crude95CI",
         "rawType": "object",
         "type": "string"
        },
        {
         "name": "BPMED_CrudePrev",
         "rawType": "float64",
         "type": "float"
        },
        {
         "name": "BPMED_Crude95CI",
         "rawType": "object",
         "type": "string"
        },
        {
         "name": "CANCER_CrudePrev",
         "rawType": "float64",
         "type": "float"
        },
        {
         "name": "CANCER_Crude95CI",
         "rawType": "object",
         "type": "string"
        },
        {
         "name": "CASTHMA_CrudePrev",
         "rawType": "float64",
         "type": "float"
        },
        {
         "name": "CASTHMA_Crude95CI",
         "rawType": "object",
         "type": "string"
        },
        {
         "name": "CHD_CrudePrev",
         "rawType": "float64",
         "type": "float"
        },
        {
         "name": "CHD_Crude95CI",
         "rawType": "object",
         "type": "string"
        },
        {
         "name": "CHECKUP_CrudePrev",
         "rawType": "float64",
         "type": "float"
        },
        {
         "name": "CHECKUP_Crude95CI",
         "rawType": "object",
         "type": "string"
        },
        {
         "name": "CHOLSCREEN_CrudePrev",
         "rawType": "float64",
         "type": "float"
        },
        {
         "name": "CHOLSCREEN_Crude95CI",
         "rawType": "object",
         "type": "string"
        },
        {
         "name": "COLON_SCREEN_CrudePrev",
         "rawType": "float64",
         "type": "float"
        },
        {
         "name": "COLON_SCREEN_Crude95CI",
         "rawType": "object",
         "type": "string"
        },
        {
         "name": "COPD_CrudePrev",
         "rawType": "float64",
         "type": "float"
        },
        {
         "name": "COPD_Crude95CI",
         "rawType": "object",
         "type": "string"
        },
        {
         "name": "COREM_CrudePrev",
         "rawType": "float64",
         "type": "float"
        },
        {
         "name": "COREM_Crude95CI",
         "rawType": "object",
         "type": "string"
        },
        {
         "name": "COREW_CrudePrev",
         "rawType": "float64",
         "type": "float"
        },
        {
         "name": "COREW_Crude95CI",
         "rawType": "object",
         "type": "string"
        },
        {
         "name": "CSMOKING_CrudePrev",
         "rawType": "float64",
         "type": "float"
        },
        {
         "name": "CSMOKING_Crude95CI",
         "rawType": "object",
         "type": "string"
        },
        {
         "name": "DENTAL_CrudePrev",
         "rawType": "float64",
         "type": "float"
        },
        {
         "name": "DENTAL_Crude95CI",
         "rawType": "object",
         "type": "string"
        },
        {
         "name": "DIABETES_CrudePrev",
         "rawType": "float64",
         "type": "float"
        },
        {
         "name": "DIABETES_Crude95CI",
         "rawType": "object",
         "type": "string"
        },
        {
         "name": "HIGHCHOL_CrudePrev",
         "rawType": "float64",
         "type": "float"
        },
        {
         "name": "HIGHCHOL_Crude95CI",
         "rawType": "object",
         "type": "string"
        },
        {
         "name": "KIDNEY_CrudePrev",
         "rawType": "float64",
         "type": "float"
        },
        {
         "name": "KIDNEY_Crude95CI",
         "rawType": "object",
         "type": "string"
        },
        {
         "name": "LPA_CrudePrev",
         "rawType": "float64",
         "type": "float"
        },
        {
         "name": "LPA_Crude95CI",
         "rawType": "object",
         "type": "string"
        },
        {
         "name": "MAMMOUSE_CrudePrev",
         "rawType": "float64",
         "type": "float"
        },
        {
         "name": "MAMMOUSE_Crude95CI",
         "rawType": "object",
         "type": "string"
        },
        {
         "name": "MHLTH_CrudePrev",
         "rawType": "float64",
         "type": "float"
        },
        {
         "name": "MHLTH_Crude95CI",
         "rawType": "object",
         "type": "string"
        },
        {
         "name": "OBESITY_CrudePrev",
         "rawType": "float64",
         "type": "float"
        },
        {
         "name": "OBESITY_Crude95CI",
         "rawType": "object",
         "type": "string"
        },
        {
         "name": "PAPTEST_CrudePrev",
         "rawType": "float64",
         "type": "float"
        },
        {
         "name": "PAPTEST_Crude95CI",
         "rawType": "object",
         "type": "string"
        },
        {
         "name": "PHLTH_CrudePrev",
         "rawType": "float64",
         "type": "float"
        },
        {
         "name": "PHLTH_Crude95CI",
         "rawType": "object",
         "type": "string"
        },
        {
         "name": "SLEEP_CrudePrev",
         "rawType": "float64",
         "type": "float"
        },
        {
         "name": "SLEEP_Crude95CI",
         "rawType": "object",
         "type": "string"
        },
        {
         "name": "STROKE_CrudePrev",
         "rawType": "float64",
         "type": "float"
        },
        {
         "name": "STROKE_Crude95CI",
         "rawType": "object",
         "type": "string"
        },
        {
         "name": "TEETHLOST_CrudePrev",
         "rawType": "float64",
         "type": "float"
        },
        {
         "name": "TEETHLOST_Crude95CI",
         "rawType": "object",
         "type": "string"
        },
        {
         "name": "Geolocation",
         "rawType": "object",
         "type": "string"
        }
       ],
       "ref": "72207e14-1cdb-4295-8b04-dac9da7091fd",
       "rows": [
        [
         "0",
         "CA",
         "Los Angeles",
         "644000",
         "6037206032",
         "0644000-06037206032",
         "5275",
         "28.0",
         "(22.7, 33.2)",
         "19.9",
         "(18.8, 20.9)",
         "13.0",
         "(12.3, 13.7)",
         "31.7",
         "(30.6, 32.9)",
         "70.0",
         "(68.6, 71.4)",
         "4.5",
         "( 4.2,  4.7)",
         "8.5",
         "( 7.7,  9.3)",
         "6.9",
         "( 6.2,  7.6)",
         "63.8",
         "(62.5, 65.1)",
         "66.0",
         "(63.0, 69.0)",
         "48.6",
         "(44.5, 53.0)",
         "6.5",
         "( 5.6,  7.3)",
         "18.2",
         "(14.5, 22.6)",
         "22.1",
         "(18.4, 26.5)",
         "15.6",
         "(12.8, 18.1)",
         "43.6",
         "(38.7, 49.0)",
         "15.5",
         "(14.4, 16.4)",
         "38.3",
         "(36.8, 39.9)",
         "4.1",
         "( 3.8,  4.4)",
         "33.3",
         "(29.7, 36.5)",
         "77.6",
         "(74.5, 80.5)",
         "15.0",
         "(13.1, 16.7)",
         "29.5",
         "(28.1, 30.8)",
         "83.7",
         "(81.5, 86.0)",
         "17.3",
         "(15.3, 19.2)",
         "38.9",
         "(37.2, 40.4)",
         "4.0",
         "( 3.5,  4.5)",
         "18.8",
         "(12.6, 25.6)",
         "POINT (-118.224698433 34.0470512474)"
        ],
        [
         "1",
         "CA",
         "Pasadena",
         "656000",
         "6037462001",
         "0656000-06037462001",
         "3974",
         "23.3",
         "(19.2, 27.8)",
         "16.7",
         "(16.0, 17.5)",
         "16.3",
         "(15.6, 16.9)",
         "27.1",
         "(26.1, 28.0)",
         "63.7",
         "(62.4, 65.0)",
         "3.6",
         "( 3.4,  3.7)",
         "9.4",
         "( 8.8, 10.1)",
         "4.8",
         "( 4.5,  5.2)",
         "62.2",
         "(61.0, 63.3)",
         "65.7",
         "(62.8, 68.4)",
         "52.5",
         "(49.0, 56.0)",
         "6.0",
         "( 5.3,  6.6)",
         "19.4",
         "(16.7, 22.9)",
         "25.7",
         "(22.2, 29.5)",
         "17.8",
         "(15.6, 20.0)",
         "47.6",
         "(43.4, 51.9)",
         "11.6",
         "(10.9, 12.2)",
         "31.8",
         "(30.6, 33.1)",
         "3.2",
         "( 3.0,  3.4)",
         "27.0",
         "(24.4, 29.6)",
         "80.2",
         "(77.4, 82.7)",
         "15.7",
         "(14.2, 17.3)",
         "32.0",
         "(30.8, 33.1)",
         "85.8",
         "(84.1, 87.5)",
         "15.3",
         "(13.9, 16.8)",
         "40.2",
         "(38.8, 41.5)",
         "3.2",
         "( 2.9,  3.5)",
         "18.1",
         "(13.7, 22.8)",
         "POINT (-118.143832177 34.1633689905)"
        ],
        [
         "2",
         "CA",
         "Fullerton",
         "628000",
         "6059011504",
         "0628000-06059011504",
         "5473",
         "11.7",
         "( 9.6, 14.5)",
         "8.3",
         "( 7.9,  8.7)",
         "18.6",
         "(17.8, 19.5)",
         "13.6",
         "(13.0, 14.2)",
         "49.5",
         "(48.0, 51.0)",
         "2.0",
         "( 2.0,  2.1)",
         "9.2",
         "( 8.6, 10.1)",
         "2.1",
         "( 2.0,  2.3)",
         "59.3",
         "(58.1, 60.5)",
         "54.5",
         "(51.0, 57.4)",
         "59.5",
         "(56.9, 62.2)",
         "3.4",
         "( 3.0,  3.9)",
         "34.6",
         "(29.8, 38.9)",
         "27.5",
         "(23.9, 31.1)",
         "13.3",
         "(11.1, 15.8)",
         "61.3",
         "(57.0, 65.4)",
         "4.6",
         "( 4.4,  4.9)",
         "21.1",
         "(20.2, 22.2)",
         "1.6",
         "( 1.5,  1.7)",
         "16.1",
         "(14.2, 18.4)",
         "81.0",
         "(78.9, 82.9)",
         "14.1",
         "(12.4, 16.1)",
         "18.7",
         "(17.6, 19.8)",
         "78.2",
         "(75.4, 80.9)",
         "8.5",
         "( 7.7,  9.5)",
         "33.4",
         "(31.6, 35.1)",
         "1.2",
         "( 1.1,  1.3)",
         "11.9",
         "( 8.8, 16.0)",
         "POINT (-117.883112998 33.8820402343)"
        ],
        [
         "3",
         "TX",
         "Longview",
         "4843888",
         "48183000401",
         "4843888-48183000401",
         "3371",
         "19.3",
         "(16.8, 21.9)",
         "21.1",
         "(20.2, 21.9)",
         "20.9",
         "(20.1, 21.8)",
         "28.4",
         "(27.4, 29.3)",
         "72.4",
         "(71.3, 73.5)",
         "5.2",
         "( 5.0,  5.5)",
         "9.3",
         "( 8.8,  9.9)",
         "5.4",
         "( 5.0,  5.8)",
         "66.6",
         "(65.5, 67.6)",
         "68.9",
         "(66.7, 71.0)",
         "60.7",
         "(56.9, 64.2)",
         "6.1",
         "( 5.5,  6.7)",
         "35.6",
         "(28.9, 43.1)",
         "30.5",
         "(25.3, 36.0)",
         "20.5",
         "(18.0, 22.7)",
         "58.0",
         "(54.8, 61.3)",
         "9.2",
         "( 8.7,  9.7)",
         "33.9",
         "(32.8, 35.1)",
         "2.5",
         "( 2.4,  2.7)",
         "25.1",
         "(23.0, 27.2)",
         "74.3",
         "(70.7, 77.7)",
         "13.5",
         "(12.4, 14.7)",
         "33.9",
         "(32.4, 35.2)",
         "79.3",
         "(76.5, 81.9)",
         "11.8",
         "(10.8, 12.8)",
         "34.9",
         "(33.4, 36.3)",
         "2.7",
         "( 2.5,  3.0)",
         "15.1",
         "(10.8, 20.4)",
         "POINT (-94.7523262965 32.5544549842)"
        ],
        [
         "4",
         "WI",
         "Madison",
         "5548000",
         "55025002200",
         "5548000-55025002200",
         "4254",
         "10.5",
         "( 8.7, 12.6)",
         "23.3",
         "(21.9, 24.6)",
         "25.0",
         "(24.2, 25.8)",
         "27.9",
         "(26.6, 29.2)",
         "74.6",
         "(73.5, 75.8)",
         "6.8",
         "( 6.5,  7.1)",
         "9.2",
         "( 8.7, 10.0)",
         "6.0",
         "( 5.3,  6.7)",
         "70.0",
         "(69.0, 70.9)",
         "76.0",
         "(73.8, 78.0)",
         "70.8",
         "(66.5, 74.6)",
         "5.7",
         "( 4.8,  6.7)",
         "29.7",
         "(23.7, 36.3)",
         "31.6",
         "(26.1, 37.4)",
         "16.6",
         "(14.0, 19.4)",
         "72.1",
         "(68.7, 75.5)",
         "8.7",
         "( 7.9,  9.4)",
         "34.6",
         "(33.3, 35.9)",
         "2.7",
         "( 2.5,  2.9)",
         "18.5",
         "(16.1, 20.7)",
         "80.9",
         "(77.4, 84.2)",
         "11.8",
         "(10.5, 13.1)",
         "29.5",
         "(28.0, 30.9)",
         "85.8",
         "(83.4, 88.0)",
         "11.3",
         "( 9.8, 12.7)",
         "30.8",
         "(29.3, 32.2)",
         "2.9",
         "( 2.5,  3.3)",
         "12.9",
         "( 7.6, 19.8)",
         "POINT (-89.3623704161 43.1211036947)"
        ]
       ],
       "shape": {
        "columns": 63,
        "rows": 5
       }
      },
      "text/html": [
       "<div>\n",
       "<style scoped>\n",
       "    .dataframe tbody tr th:only-of-type {\n",
       "        vertical-align: middle;\n",
       "    }\n",
       "\n",
       "    .dataframe tbody tr th {\n",
       "        vertical-align: top;\n",
       "    }\n",
       "\n",
       "    .dataframe thead th {\n",
       "        text-align: right;\n",
       "    }\n",
       "</style>\n",
       "<table border=\"1\" class=\"dataframe\">\n",
       "  <thead>\n",
       "    <tr style=\"text-align: right;\">\n",
       "      <th></th>\n",
       "      <th>StateAbbr</th>\n",
       "      <th>PlaceName</th>\n",
       "      <th>PlaceFIPS</th>\n",
       "      <th>TractFIPS</th>\n",
       "      <th>Place_TractID</th>\n",
       "      <th>Population2010</th>\n",
       "      <th>ACCESS2_CrudePrev</th>\n",
       "      <th>ACCESS2_Crude95CI</th>\n",
       "      <th>ARTHRITIS_CrudePrev</th>\n",
       "      <th>ARTHRITIS_Crude95CI</th>\n",
       "      <th>...</th>\n",
       "      <th>PAPTEST_Crude95CI</th>\n",
       "      <th>PHLTH_CrudePrev</th>\n",
       "      <th>PHLTH_Crude95CI</th>\n",
       "      <th>SLEEP_CrudePrev</th>\n",
       "      <th>SLEEP_Crude95CI</th>\n",
       "      <th>STROKE_CrudePrev</th>\n",
       "      <th>STROKE_Crude95CI</th>\n",
       "      <th>TEETHLOST_CrudePrev</th>\n",
       "      <th>TEETHLOST_Crude95CI</th>\n",
       "      <th>Geolocation</th>\n",
       "    </tr>\n",
       "  </thead>\n",
       "  <tbody>\n",
       "    <tr>\n",
       "      <th>0</th>\n",
       "      <td>CA</td>\n",
       "      <td>Los Angeles</td>\n",
       "      <td>644000</td>\n",
       "      <td>6037206032</td>\n",
       "      <td>0644000-06037206032</td>\n",
       "      <td>5275</td>\n",
       "      <td>28.0</td>\n",
       "      <td>(22.7, 33.2)</td>\n",
       "      <td>19.9</td>\n",
       "      <td>(18.8, 20.9)</td>\n",
       "      <td>...</td>\n",
       "      <td>(81.5, 86.0)</td>\n",
       "      <td>17.3</td>\n",
       "      <td>(15.3, 19.2)</td>\n",
       "      <td>38.9</td>\n",
       "      <td>(37.2, 40.4)</td>\n",
       "      <td>4.0</td>\n",
       "      <td>( 3.5,  4.5)</td>\n",
       "      <td>18.8</td>\n",
       "      <td>(12.6, 25.6)</td>\n",
       "      <td>POINT (-118.224698433 34.0470512474)</td>\n",
       "    </tr>\n",
       "    <tr>\n",
       "      <th>1</th>\n",
       "      <td>CA</td>\n",
       "      <td>Pasadena</td>\n",
       "      <td>656000</td>\n",
       "      <td>6037462001</td>\n",
       "      <td>0656000-06037462001</td>\n",
       "      <td>3974</td>\n",
       "      <td>23.3</td>\n",
       "      <td>(19.2, 27.8)</td>\n",
       "      <td>16.7</td>\n",
       "      <td>(16.0, 17.5)</td>\n",
       "      <td>...</td>\n",
       "      <td>(84.1, 87.5)</td>\n",
       "      <td>15.3</td>\n",
       "      <td>(13.9, 16.8)</td>\n",
       "      <td>40.2</td>\n",
       "      <td>(38.8, 41.5)</td>\n",
       "      <td>3.2</td>\n",
       "      <td>( 2.9,  3.5)</td>\n",
       "      <td>18.1</td>\n",
       "      <td>(13.7, 22.8)</td>\n",
       "      <td>POINT (-118.143832177 34.1633689905)</td>\n",
       "    </tr>\n",
       "    <tr>\n",
       "      <th>2</th>\n",
       "      <td>CA</td>\n",
       "      <td>Fullerton</td>\n",
       "      <td>628000</td>\n",
       "      <td>6059011504</td>\n",
       "      <td>0628000-06059011504</td>\n",
       "      <td>5473</td>\n",
       "      <td>11.7</td>\n",
       "      <td>( 9.6, 14.5)</td>\n",
       "      <td>8.3</td>\n",
       "      <td>( 7.9,  8.7)</td>\n",
       "      <td>...</td>\n",
       "      <td>(75.4, 80.9)</td>\n",
       "      <td>8.5</td>\n",
       "      <td>( 7.7,  9.5)</td>\n",
       "      <td>33.4</td>\n",
       "      <td>(31.6, 35.1)</td>\n",
       "      <td>1.2</td>\n",
       "      <td>( 1.1,  1.3)</td>\n",
       "      <td>11.9</td>\n",
       "      <td>( 8.8, 16.0)</td>\n",
       "      <td>POINT (-117.883112998 33.8820402343)</td>\n",
       "    </tr>\n",
       "    <tr>\n",
       "      <th>3</th>\n",
       "      <td>TX</td>\n",
       "      <td>Longview</td>\n",
       "      <td>4843888</td>\n",
       "      <td>48183000401</td>\n",
       "      <td>4843888-48183000401</td>\n",
       "      <td>3371</td>\n",
       "      <td>19.3</td>\n",
       "      <td>(16.8, 21.9)</td>\n",
       "      <td>21.1</td>\n",
       "      <td>(20.2, 21.9)</td>\n",
       "      <td>...</td>\n",
       "      <td>(76.5, 81.9)</td>\n",
       "      <td>11.8</td>\n",
       "      <td>(10.8, 12.8)</td>\n",
       "      <td>34.9</td>\n",
       "      <td>(33.4, 36.3)</td>\n",
       "      <td>2.7</td>\n",
       "      <td>( 2.5,  3.0)</td>\n",
       "      <td>15.1</td>\n",
       "      <td>(10.8, 20.4)</td>\n",
       "      <td>POINT (-94.7523262965 32.5544549842)</td>\n",
       "    </tr>\n",
       "    <tr>\n",
       "      <th>4</th>\n",
       "      <td>WI</td>\n",
       "      <td>Madison</td>\n",
       "      <td>5548000</td>\n",
       "      <td>55025002200</td>\n",
       "      <td>5548000-55025002200</td>\n",
       "      <td>4254</td>\n",
       "      <td>10.5</td>\n",
       "      <td>( 8.7, 12.6)</td>\n",
       "      <td>23.3</td>\n",
       "      <td>(21.9, 24.6)</td>\n",
       "      <td>...</td>\n",
       "      <td>(83.4, 88.0)</td>\n",
       "      <td>11.3</td>\n",
       "      <td>( 9.8, 12.7)</td>\n",
       "      <td>30.8</td>\n",
       "      <td>(29.3, 32.2)</td>\n",
       "      <td>2.9</td>\n",
       "      <td>( 2.5,  3.3)</td>\n",
       "      <td>12.9</td>\n",
       "      <td>( 7.6, 19.8)</td>\n",
       "      <td>POINT (-89.3623704161 43.1211036947)</td>\n",
       "    </tr>\n",
       "  </tbody>\n",
       "</table>\n",
       "<p>5 rows × 63 columns</p>\n",
       "</div>"
      ],
      "text/plain": [
       "  StateAbbr    PlaceName  PlaceFIPS    TractFIPS        Place_TractID  \\\n",
       "0        CA  Los Angeles     644000   6037206032  0644000-06037206032   \n",
       "1        CA     Pasadena     656000   6037462001  0656000-06037462001   \n",
       "2        CA    Fullerton     628000   6059011504  0628000-06059011504   \n",
       "3        TX     Longview    4843888  48183000401  4843888-48183000401   \n",
       "4        WI      Madison    5548000  55025002200  5548000-55025002200   \n",
       "\n",
       "   Population2010  ACCESS2_CrudePrev ACCESS2_Crude95CI  ARTHRITIS_CrudePrev  \\\n",
       "0            5275               28.0      (22.7, 33.2)                 19.9   \n",
       "1            3974               23.3      (19.2, 27.8)                 16.7   \n",
       "2            5473               11.7      ( 9.6, 14.5)                  8.3   \n",
       "3            3371               19.3      (16.8, 21.9)                 21.1   \n",
       "4            4254               10.5      ( 8.7, 12.6)                 23.3   \n",
       "\n",
       "  ARTHRITIS_Crude95CI  ...  PAPTEST_Crude95CI PHLTH_CrudePrev  \\\n",
       "0        (18.8, 20.9)  ...       (81.5, 86.0)            17.3   \n",
       "1        (16.0, 17.5)  ...       (84.1, 87.5)            15.3   \n",
       "2        ( 7.9,  8.7)  ...       (75.4, 80.9)             8.5   \n",
       "3        (20.2, 21.9)  ...       (76.5, 81.9)            11.8   \n",
       "4        (21.9, 24.6)  ...       (83.4, 88.0)            11.3   \n",
       "\n",
       "   PHLTH_Crude95CI SLEEP_CrudePrev  SLEEP_Crude95CI STROKE_CrudePrev  \\\n",
       "0     (15.3, 19.2)            38.9     (37.2, 40.4)              4.0   \n",
       "1     (13.9, 16.8)            40.2     (38.8, 41.5)              3.2   \n",
       "2     ( 7.7,  9.5)            33.4     (31.6, 35.1)              1.2   \n",
       "3     (10.8, 12.8)            34.9     (33.4, 36.3)              2.7   \n",
       "4     ( 9.8, 12.7)            30.8     (29.3, 32.2)              2.9   \n",
       "\n",
       "   STROKE_Crude95CI TEETHLOST_CrudePrev  TEETHLOST_Crude95CI  \\\n",
       "0      ( 3.5,  4.5)                18.8         (12.6, 25.6)   \n",
       "1      ( 2.9,  3.5)                18.1         (13.7, 22.8)   \n",
       "2      ( 1.1,  1.3)                11.9         ( 8.8, 16.0)   \n",
       "3      ( 2.5,  3.0)                15.1         (10.8, 20.4)   \n",
       "4      ( 2.5,  3.3)                12.9         ( 7.6, 19.8)   \n",
       "\n",
       "                            Geolocation  \n",
       "0  POINT (-118.224698433 34.0470512474)  \n",
       "1  POINT (-118.143832177 34.1633689905)  \n",
       "2  POINT (-117.883112998 33.8820402343)  \n",
       "3  POINT (-94.7523262965 32.5544549842)  \n",
       "4  POINT (-89.3623704161 43.1211036947)  \n",
       "\n",
       "[5 rows x 63 columns]"
      ]
     },
     "execution_count": 8,
     "metadata": {},
     "output_type": "execute_result"
    }
   ],
   "source": [
    "health_df.head()"
   ]
  },
  {
   "cell_type": "code",
   "execution_count": 9,
   "id": "22c55603-8f9a-4438-a54d-22dba2a854b6",
   "metadata": {},
   "outputs": [],
   "source": [
    "#extract the 11-digit tract FIPS after the dash\n",
    "health_df[\"Tract_FIPS_full\"] = health_df[\"Place_TractID\"].str.split(\"-\").str[-1]"
   ]
  },
  {
   "cell_type": "code",
   "execution_count": 10,
   "id": "e5b24e90-457f-4b0d-b5b1-e7c77360e10c",
   "metadata": {},
   "outputs": [
    {
     "data": {
      "application/vnd.microsoft.datawrangler.viewer.v0+json": {
       "columns": [
        {
         "name": "index",
         "rawType": "int64",
         "type": "integer"
        },
        {
         "name": "StateAbbr",
         "rawType": "object",
         "type": "string"
        },
        {
         "name": "PlaceName",
         "rawType": "object",
         "type": "string"
        },
        {
         "name": "PlaceFIPS",
         "rawType": "int64",
         "type": "integer"
        },
        {
         "name": "TractFIPS",
         "rawType": "int64",
         "type": "integer"
        },
        {
         "name": "Place_TractID",
         "rawType": "object",
         "type": "string"
        },
        {
         "name": "Population2010",
         "rawType": "int64",
         "type": "integer"
        },
        {
         "name": "ACCESS2_CrudePrev",
         "rawType": "float64",
         "type": "float"
        },
        {
         "name": "ACCESS2_Crude95CI",
         "rawType": "object",
         "type": "string"
        },
        {
         "name": "ARTHRITIS_CrudePrev",
         "rawType": "float64",
         "type": "float"
        },
        {
         "name": "ARTHRITIS_Crude95CI",
         "rawType": "object",
         "type": "string"
        },
        {
         "name": "BINGE_CrudePrev",
         "rawType": "float64",
         "type": "float"
        },
        {
         "name": "BINGE_Crude95CI",
         "rawType": "object",
         "type": "string"
        },
        {
         "name": "BPHIGH_CrudePrev",
         "rawType": "float64",
         "type": "float"
        },
        {
         "name": "BPHIGH_Crude95CI",
         "rawType": "object",
         "type": "string"
        },
        {
         "name": "BPMED_CrudePrev",
         "rawType": "float64",
         "type": "float"
        },
        {
         "name": "BPMED_Crude95CI",
         "rawType": "object",
         "type": "string"
        },
        {
         "name": "CANCER_CrudePrev",
         "rawType": "float64",
         "type": "float"
        },
        {
         "name": "CANCER_Crude95CI",
         "rawType": "object",
         "type": "string"
        },
        {
         "name": "CASTHMA_CrudePrev",
         "rawType": "float64",
         "type": "float"
        },
        {
         "name": "CASTHMA_Crude95CI",
         "rawType": "object",
         "type": "string"
        },
        {
         "name": "CHD_CrudePrev",
         "rawType": "float64",
         "type": "float"
        },
        {
         "name": "CHD_Crude95CI",
         "rawType": "object",
         "type": "string"
        },
        {
         "name": "CHECKUP_CrudePrev",
         "rawType": "float64",
         "type": "float"
        },
        {
         "name": "CHECKUP_Crude95CI",
         "rawType": "object",
         "type": "string"
        },
        {
         "name": "CHOLSCREEN_CrudePrev",
         "rawType": "float64",
         "type": "float"
        },
        {
         "name": "CHOLSCREEN_Crude95CI",
         "rawType": "object",
         "type": "string"
        },
        {
         "name": "COLON_SCREEN_CrudePrev",
         "rawType": "float64",
         "type": "float"
        },
        {
         "name": "COLON_SCREEN_Crude95CI",
         "rawType": "object",
         "type": "string"
        },
        {
         "name": "COPD_CrudePrev",
         "rawType": "float64",
         "type": "float"
        },
        {
         "name": "COPD_Crude95CI",
         "rawType": "object",
         "type": "string"
        },
        {
         "name": "COREM_CrudePrev",
         "rawType": "float64",
         "type": "float"
        },
        {
         "name": "COREM_Crude95CI",
         "rawType": "object",
         "type": "string"
        },
        {
         "name": "COREW_CrudePrev",
         "rawType": "float64",
         "type": "float"
        },
        {
         "name": "COREW_Crude95CI",
         "rawType": "object",
         "type": "string"
        },
        {
         "name": "CSMOKING_CrudePrev",
         "rawType": "float64",
         "type": "float"
        },
        {
         "name": "CSMOKING_Crude95CI",
         "rawType": "object",
         "type": "string"
        },
        {
         "name": "DENTAL_CrudePrev",
         "rawType": "float64",
         "type": "float"
        },
        {
         "name": "DENTAL_Crude95CI",
         "rawType": "object",
         "type": "string"
        },
        {
         "name": "DIABETES_CrudePrev",
         "rawType": "float64",
         "type": "float"
        },
        {
         "name": "DIABETES_Crude95CI",
         "rawType": "object",
         "type": "string"
        },
        {
         "name": "HIGHCHOL_CrudePrev",
         "rawType": "float64",
         "type": "float"
        },
        {
         "name": "HIGHCHOL_Crude95CI",
         "rawType": "object",
         "type": "string"
        },
        {
         "name": "KIDNEY_CrudePrev",
         "rawType": "float64",
         "type": "float"
        },
        {
         "name": "KIDNEY_Crude95CI",
         "rawType": "object",
         "type": "string"
        },
        {
         "name": "LPA_CrudePrev",
         "rawType": "float64",
         "type": "float"
        },
        {
         "name": "LPA_Crude95CI",
         "rawType": "object",
         "type": "string"
        },
        {
         "name": "MAMMOUSE_CrudePrev",
         "rawType": "float64",
         "type": "float"
        },
        {
         "name": "MAMMOUSE_Crude95CI",
         "rawType": "object",
         "type": "string"
        },
        {
         "name": "MHLTH_CrudePrev",
         "rawType": "float64",
         "type": "float"
        },
        {
         "name": "MHLTH_Crude95CI",
         "rawType": "object",
         "type": "string"
        },
        {
         "name": "OBESITY_CrudePrev",
         "rawType": "float64",
         "type": "float"
        },
        {
         "name": "OBESITY_Crude95CI",
         "rawType": "object",
         "type": "string"
        },
        {
         "name": "PAPTEST_CrudePrev",
         "rawType": "float64",
         "type": "float"
        },
        {
         "name": "PAPTEST_Crude95CI",
         "rawType": "object",
         "type": "string"
        },
        {
         "name": "PHLTH_CrudePrev",
         "rawType": "float64",
         "type": "float"
        },
        {
         "name": "PHLTH_Crude95CI",
         "rawType": "object",
         "type": "string"
        },
        {
         "name": "SLEEP_CrudePrev",
         "rawType": "float64",
         "type": "float"
        },
        {
         "name": "SLEEP_Crude95CI",
         "rawType": "object",
         "type": "string"
        },
        {
         "name": "STROKE_CrudePrev",
         "rawType": "float64",
         "type": "float"
        },
        {
         "name": "STROKE_Crude95CI",
         "rawType": "object",
         "type": "string"
        },
        {
         "name": "TEETHLOST_CrudePrev",
         "rawType": "float64",
         "type": "float"
        },
        {
         "name": "TEETHLOST_Crude95CI",
         "rawType": "object",
         "type": "string"
        },
        {
         "name": "Geolocation",
         "rawType": "object",
         "type": "string"
        },
        {
         "name": "Tract_FIPS_full",
         "rawType": "object",
         "type": "string"
        }
       ],
       "ref": "dc2cd53e-144e-4812-9385-c1dc92ed7bd8",
       "rows": [
        [
         "0",
         "CA",
         "Los Angeles",
         "644000",
         "6037206032",
         "0644000-06037206032",
         "5275",
         "28.0",
         "(22.7, 33.2)",
         "19.9",
         "(18.8, 20.9)",
         "13.0",
         "(12.3, 13.7)",
         "31.7",
         "(30.6, 32.9)",
         "70.0",
         "(68.6, 71.4)",
         "4.5",
         "( 4.2,  4.7)",
         "8.5",
         "( 7.7,  9.3)",
         "6.9",
         "( 6.2,  7.6)",
         "63.8",
         "(62.5, 65.1)",
         "66.0",
         "(63.0, 69.0)",
         "48.6",
         "(44.5, 53.0)",
         "6.5",
         "( 5.6,  7.3)",
         "18.2",
         "(14.5, 22.6)",
         "22.1",
         "(18.4, 26.5)",
         "15.6",
         "(12.8, 18.1)",
         "43.6",
         "(38.7, 49.0)",
         "15.5",
         "(14.4, 16.4)",
         "38.3",
         "(36.8, 39.9)",
         "4.1",
         "( 3.8,  4.4)",
         "33.3",
         "(29.7, 36.5)",
         "77.6",
         "(74.5, 80.5)",
         "15.0",
         "(13.1, 16.7)",
         "29.5",
         "(28.1, 30.8)",
         "83.7",
         "(81.5, 86.0)",
         "17.3",
         "(15.3, 19.2)",
         "38.9",
         "(37.2, 40.4)",
         "4.0",
         "( 3.5,  4.5)",
         "18.8",
         "(12.6, 25.6)",
         "POINT (-118.224698433 34.0470512474)",
         "06037206032"
        ],
        [
         "1",
         "CA",
         "Pasadena",
         "656000",
         "6037462001",
         "0656000-06037462001",
         "3974",
         "23.3",
         "(19.2, 27.8)",
         "16.7",
         "(16.0, 17.5)",
         "16.3",
         "(15.6, 16.9)",
         "27.1",
         "(26.1, 28.0)",
         "63.7",
         "(62.4, 65.0)",
         "3.6",
         "( 3.4,  3.7)",
         "9.4",
         "( 8.8, 10.1)",
         "4.8",
         "( 4.5,  5.2)",
         "62.2",
         "(61.0, 63.3)",
         "65.7",
         "(62.8, 68.4)",
         "52.5",
         "(49.0, 56.0)",
         "6.0",
         "( 5.3,  6.6)",
         "19.4",
         "(16.7, 22.9)",
         "25.7",
         "(22.2, 29.5)",
         "17.8",
         "(15.6, 20.0)",
         "47.6",
         "(43.4, 51.9)",
         "11.6",
         "(10.9, 12.2)",
         "31.8",
         "(30.6, 33.1)",
         "3.2",
         "( 3.0,  3.4)",
         "27.0",
         "(24.4, 29.6)",
         "80.2",
         "(77.4, 82.7)",
         "15.7",
         "(14.2, 17.3)",
         "32.0",
         "(30.8, 33.1)",
         "85.8",
         "(84.1, 87.5)",
         "15.3",
         "(13.9, 16.8)",
         "40.2",
         "(38.8, 41.5)",
         "3.2",
         "( 2.9,  3.5)",
         "18.1",
         "(13.7, 22.8)",
         "POINT (-118.143832177 34.1633689905)",
         "06037462001"
        ],
        [
         "2",
         "CA",
         "Fullerton",
         "628000",
         "6059011504",
         "0628000-06059011504",
         "5473",
         "11.7",
         "( 9.6, 14.5)",
         "8.3",
         "( 7.9,  8.7)",
         "18.6",
         "(17.8, 19.5)",
         "13.6",
         "(13.0, 14.2)",
         "49.5",
         "(48.0, 51.0)",
         "2.0",
         "( 2.0,  2.1)",
         "9.2",
         "( 8.6, 10.1)",
         "2.1",
         "( 2.0,  2.3)",
         "59.3",
         "(58.1, 60.5)",
         "54.5",
         "(51.0, 57.4)",
         "59.5",
         "(56.9, 62.2)",
         "3.4",
         "( 3.0,  3.9)",
         "34.6",
         "(29.8, 38.9)",
         "27.5",
         "(23.9, 31.1)",
         "13.3",
         "(11.1, 15.8)",
         "61.3",
         "(57.0, 65.4)",
         "4.6",
         "( 4.4,  4.9)",
         "21.1",
         "(20.2, 22.2)",
         "1.6",
         "( 1.5,  1.7)",
         "16.1",
         "(14.2, 18.4)",
         "81.0",
         "(78.9, 82.9)",
         "14.1",
         "(12.4, 16.1)",
         "18.7",
         "(17.6, 19.8)",
         "78.2",
         "(75.4, 80.9)",
         "8.5",
         "( 7.7,  9.5)",
         "33.4",
         "(31.6, 35.1)",
         "1.2",
         "( 1.1,  1.3)",
         "11.9",
         "( 8.8, 16.0)",
         "POINT (-117.883112998 33.8820402343)",
         "06059011504"
        ],
        [
         "3",
         "TX",
         "Longview",
         "4843888",
         "48183000401",
         "4843888-48183000401",
         "3371",
         "19.3",
         "(16.8, 21.9)",
         "21.1",
         "(20.2, 21.9)",
         "20.9",
         "(20.1, 21.8)",
         "28.4",
         "(27.4, 29.3)",
         "72.4",
         "(71.3, 73.5)",
         "5.2",
         "( 5.0,  5.5)",
         "9.3",
         "( 8.8,  9.9)",
         "5.4",
         "( 5.0,  5.8)",
         "66.6",
         "(65.5, 67.6)",
         "68.9",
         "(66.7, 71.0)",
         "60.7",
         "(56.9, 64.2)",
         "6.1",
         "( 5.5,  6.7)",
         "35.6",
         "(28.9, 43.1)",
         "30.5",
         "(25.3, 36.0)",
         "20.5",
         "(18.0, 22.7)",
         "58.0",
         "(54.8, 61.3)",
         "9.2",
         "( 8.7,  9.7)",
         "33.9",
         "(32.8, 35.1)",
         "2.5",
         "( 2.4,  2.7)",
         "25.1",
         "(23.0, 27.2)",
         "74.3",
         "(70.7, 77.7)",
         "13.5",
         "(12.4, 14.7)",
         "33.9",
         "(32.4, 35.2)",
         "79.3",
         "(76.5, 81.9)",
         "11.8",
         "(10.8, 12.8)",
         "34.9",
         "(33.4, 36.3)",
         "2.7",
         "( 2.5,  3.0)",
         "15.1",
         "(10.8, 20.4)",
         "POINT (-94.7523262965 32.5544549842)",
         "48183000401"
        ],
        [
         "4",
         "WI",
         "Madison",
         "5548000",
         "55025002200",
         "5548000-55025002200",
         "4254",
         "10.5",
         "( 8.7, 12.6)",
         "23.3",
         "(21.9, 24.6)",
         "25.0",
         "(24.2, 25.8)",
         "27.9",
         "(26.6, 29.2)",
         "74.6",
         "(73.5, 75.8)",
         "6.8",
         "( 6.5,  7.1)",
         "9.2",
         "( 8.7, 10.0)",
         "6.0",
         "( 5.3,  6.7)",
         "70.0",
         "(69.0, 70.9)",
         "76.0",
         "(73.8, 78.0)",
         "70.8",
         "(66.5, 74.6)",
         "5.7",
         "( 4.8,  6.7)",
         "29.7",
         "(23.7, 36.3)",
         "31.6",
         "(26.1, 37.4)",
         "16.6",
         "(14.0, 19.4)",
         "72.1",
         "(68.7, 75.5)",
         "8.7",
         "( 7.9,  9.4)",
         "34.6",
         "(33.3, 35.9)",
         "2.7",
         "( 2.5,  2.9)",
         "18.5",
         "(16.1, 20.7)",
         "80.9",
         "(77.4, 84.2)",
         "11.8",
         "(10.5, 13.1)",
         "29.5",
         "(28.0, 30.9)",
         "85.8",
         "(83.4, 88.0)",
         "11.3",
         "( 9.8, 12.7)",
         "30.8",
         "(29.3, 32.2)",
         "2.9",
         "( 2.5,  3.3)",
         "12.9",
         "( 7.6, 19.8)",
         "POINT (-89.3623704161 43.1211036947)",
         "55025002200"
        ]
       ],
       "shape": {
        "columns": 64,
        "rows": 5
       }
      },
      "text/html": [
       "<div>\n",
       "<style scoped>\n",
       "    .dataframe tbody tr th:only-of-type {\n",
       "        vertical-align: middle;\n",
       "    }\n",
       "\n",
       "    .dataframe tbody tr th {\n",
       "        vertical-align: top;\n",
       "    }\n",
       "\n",
       "    .dataframe thead th {\n",
       "        text-align: right;\n",
       "    }\n",
       "</style>\n",
       "<table border=\"1\" class=\"dataframe\">\n",
       "  <thead>\n",
       "    <tr style=\"text-align: right;\">\n",
       "      <th></th>\n",
       "      <th>StateAbbr</th>\n",
       "      <th>PlaceName</th>\n",
       "      <th>PlaceFIPS</th>\n",
       "      <th>TractFIPS</th>\n",
       "      <th>Place_TractID</th>\n",
       "      <th>Population2010</th>\n",
       "      <th>ACCESS2_CrudePrev</th>\n",
       "      <th>ACCESS2_Crude95CI</th>\n",
       "      <th>ARTHRITIS_CrudePrev</th>\n",
       "      <th>ARTHRITIS_Crude95CI</th>\n",
       "      <th>...</th>\n",
       "      <th>PHLTH_CrudePrev</th>\n",
       "      <th>PHLTH_Crude95CI</th>\n",
       "      <th>SLEEP_CrudePrev</th>\n",
       "      <th>SLEEP_Crude95CI</th>\n",
       "      <th>STROKE_CrudePrev</th>\n",
       "      <th>STROKE_Crude95CI</th>\n",
       "      <th>TEETHLOST_CrudePrev</th>\n",
       "      <th>TEETHLOST_Crude95CI</th>\n",
       "      <th>Geolocation</th>\n",
       "      <th>Tract_FIPS_full</th>\n",
       "    </tr>\n",
       "  </thead>\n",
       "  <tbody>\n",
       "    <tr>\n",
       "      <th>0</th>\n",
       "      <td>CA</td>\n",
       "      <td>Los Angeles</td>\n",
       "      <td>644000</td>\n",
       "      <td>6037206032</td>\n",
       "      <td>0644000-06037206032</td>\n",
       "      <td>5275</td>\n",
       "      <td>28.0</td>\n",
       "      <td>(22.7, 33.2)</td>\n",
       "      <td>19.9</td>\n",
       "      <td>(18.8, 20.9)</td>\n",
       "      <td>...</td>\n",
       "      <td>17.3</td>\n",
       "      <td>(15.3, 19.2)</td>\n",
       "      <td>38.9</td>\n",
       "      <td>(37.2, 40.4)</td>\n",
       "      <td>4.0</td>\n",
       "      <td>( 3.5,  4.5)</td>\n",
       "      <td>18.8</td>\n",
       "      <td>(12.6, 25.6)</td>\n",
       "      <td>POINT (-118.224698433 34.0470512474)</td>\n",
       "      <td>06037206032</td>\n",
       "    </tr>\n",
       "    <tr>\n",
       "      <th>1</th>\n",
       "      <td>CA</td>\n",
       "      <td>Pasadena</td>\n",
       "      <td>656000</td>\n",
       "      <td>6037462001</td>\n",
       "      <td>0656000-06037462001</td>\n",
       "      <td>3974</td>\n",
       "      <td>23.3</td>\n",
       "      <td>(19.2, 27.8)</td>\n",
       "      <td>16.7</td>\n",
       "      <td>(16.0, 17.5)</td>\n",
       "      <td>...</td>\n",
       "      <td>15.3</td>\n",
       "      <td>(13.9, 16.8)</td>\n",
       "      <td>40.2</td>\n",
       "      <td>(38.8, 41.5)</td>\n",
       "      <td>3.2</td>\n",
       "      <td>( 2.9,  3.5)</td>\n",
       "      <td>18.1</td>\n",
       "      <td>(13.7, 22.8)</td>\n",
       "      <td>POINT (-118.143832177 34.1633689905)</td>\n",
       "      <td>06037462001</td>\n",
       "    </tr>\n",
       "    <tr>\n",
       "      <th>2</th>\n",
       "      <td>CA</td>\n",
       "      <td>Fullerton</td>\n",
       "      <td>628000</td>\n",
       "      <td>6059011504</td>\n",
       "      <td>0628000-06059011504</td>\n",
       "      <td>5473</td>\n",
       "      <td>11.7</td>\n",
       "      <td>( 9.6, 14.5)</td>\n",
       "      <td>8.3</td>\n",
       "      <td>( 7.9,  8.7)</td>\n",
       "      <td>...</td>\n",
       "      <td>8.5</td>\n",
       "      <td>( 7.7,  9.5)</td>\n",
       "      <td>33.4</td>\n",
       "      <td>(31.6, 35.1)</td>\n",
       "      <td>1.2</td>\n",
       "      <td>( 1.1,  1.3)</td>\n",
       "      <td>11.9</td>\n",
       "      <td>( 8.8, 16.0)</td>\n",
       "      <td>POINT (-117.883112998 33.8820402343)</td>\n",
       "      <td>06059011504</td>\n",
       "    </tr>\n",
       "    <tr>\n",
       "      <th>3</th>\n",
       "      <td>TX</td>\n",
       "      <td>Longview</td>\n",
       "      <td>4843888</td>\n",
       "      <td>48183000401</td>\n",
       "      <td>4843888-48183000401</td>\n",
       "      <td>3371</td>\n",
       "      <td>19.3</td>\n",
       "      <td>(16.8, 21.9)</td>\n",
       "      <td>21.1</td>\n",
       "      <td>(20.2, 21.9)</td>\n",
       "      <td>...</td>\n",
       "      <td>11.8</td>\n",
       "      <td>(10.8, 12.8)</td>\n",
       "      <td>34.9</td>\n",
       "      <td>(33.4, 36.3)</td>\n",
       "      <td>2.7</td>\n",
       "      <td>( 2.5,  3.0)</td>\n",
       "      <td>15.1</td>\n",
       "      <td>(10.8, 20.4)</td>\n",
       "      <td>POINT (-94.7523262965 32.5544549842)</td>\n",
       "      <td>48183000401</td>\n",
       "    </tr>\n",
       "    <tr>\n",
       "      <th>4</th>\n",
       "      <td>WI</td>\n",
       "      <td>Madison</td>\n",
       "      <td>5548000</td>\n",
       "      <td>55025002200</td>\n",
       "      <td>5548000-55025002200</td>\n",
       "      <td>4254</td>\n",
       "      <td>10.5</td>\n",
       "      <td>( 8.7, 12.6)</td>\n",
       "      <td>23.3</td>\n",
       "      <td>(21.9, 24.6)</td>\n",
       "      <td>...</td>\n",
       "      <td>11.3</td>\n",
       "      <td>( 9.8, 12.7)</td>\n",
       "      <td>30.8</td>\n",
       "      <td>(29.3, 32.2)</td>\n",
       "      <td>2.9</td>\n",
       "      <td>( 2.5,  3.3)</td>\n",
       "      <td>12.9</td>\n",
       "      <td>( 7.6, 19.8)</td>\n",
       "      <td>POINT (-89.3623704161 43.1211036947)</td>\n",
       "      <td>55025002200</td>\n",
       "    </tr>\n",
       "  </tbody>\n",
       "</table>\n",
       "<p>5 rows × 64 columns</p>\n",
       "</div>"
      ],
      "text/plain": [
       "  StateAbbr    PlaceName  PlaceFIPS    TractFIPS        Place_TractID  \\\n",
       "0        CA  Los Angeles     644000   6037206032  0644000-06037206032   \n",
       "1        CA     Pasadena     656000   6037462001  0656000-06037462001   \n",
       "2        CA    Fullerton     628000   6059011504  0628000-06059011504   \n",
       "3        TX     Longview    4843888  48183000401  4843888-48183000401   \n",
       "4        WI      Madison    5548000  55025002200  5548000-55025002200   \n",
       "\n",
       "   Population2010  ACCESS2_CrudePrev ACCESS2_Crude95CI  ARTHRITIS_CrudePrev  \\\n",
       "0            5275               28.0      (22.7, 33.2)                 19.9   \n",
       "1            3974               23.3      (19.2, 27.8)                 16.7   \n",
       "2            5473               11.7      ( 9.6, 14.5)                  8.3   \n",
       "3            3371               19.3      (16.8, 21.9)                 21.1   \n",
       "4            4254               10.5      ( 8.7, 12.6)                 23.3   \n",
       "\n",
       "  ARTHRITIS_Crude95CI  ...  PHLTH_CrudePrev PHLTH_Crude95CI  SLEEP_CrudePrev  \\\n",
       "0        (18.8, 20.9)  ...             17.3    (15.3, 19.2)             38.9   \n",
       "1        (16.0, 17.5)  ...             15.3    (13.9, 16.8)             40.2   \n",
       "2        ( 7.9,  8.7)  ...              8.5    ( 7.7,  9.5)             33.4   \n",
       "3        (20.2, 21.9)  ...             11.8    (10.8, 12.8)             34.9   \n",
       "4        (21.9, 24.6)  ...             11.3    ( 9.8, 12.7)             30.8   \n",
       "\n",
       "  SLEEP_Crude95CI  STROKE_CrudePrev STROKE_Crude95CI  TEETHLOST_CrudePrev  \\\n",
       "0    (37.2, 40.4)               4.0     ( 3.5,  4.5)                 18.8   \n",
       "1    (38.8, 41.5)               3.2     ( 2.9,  3.5)                 18.1   \n",
       "2    (31.6, 35.1)               1.2     ( 1.1,  1.3)                 11.9   \n",
       "3    (33.4, 36.3)               2.7     ( 2.5,  3.0)                 15.1   \n",
       "4    (29.3, 32.2)               2.9     ( 2.5,  3.3)                 12.9   \n",
       "\n",
       "  TEETHLOST_Crude95CI                           Geolocation Tract_FIPS_full  \n",
       "0        (12.6, 25.6)  POINT (-118.224698433 34.0470512474)     06037206032  \n",
       "1        (13.7, 22.8)  POINT (-118.143832177 34.1633689905)     06037462001  \n",
       "2        ( 8.8, 16.0)  POINT (-117.883112998 33.8820402343)     06059011504  \n",
       "3        (10.8, 20.4)  POINT (-94.7523262965 32.5544549842)     48183000401  \n",
       "4        ( 7.6, 19.8)  POINT (-89.3623704161 43.1211036947)     55025002200  \n",
       "\n",
       "[5 rows x 64 columns]"
      ]
     },
     "execution_count": 10,
     "metadata": {},
     "output_type": "execute_result"
    }
   ],
   "source": [
    "health_df.head()"
   ]
  },
  {
   "cell_type": "code",
   "execution_count": 11,
   "id": "59b80753-8223-4786-906c-40ea36d94c1c",
   "metadata": {},
   "outputs": [
    {
     "data": {
      "text/plain": [
       "Index(['StateAbbr', 'PlaceName', 'PlaceFIPS', 'TractFIPS', 'Place_TractID',\n",
       "       'Population2010', 'ACCESS2_CrudePrev', 'ACCESS2_Crude95CI',\n",
       "       'ARTHRITIS_CrudePrev', 'ARTHRITIS_Crude95CI', 'BINGE_CrudePrev',\n",
       "       'BINGE_Crude95CI', 'BPHIGH_CrudePrev', 'BPHIGH_Crude95CI',\n",
       "       'BPMED_CrudePrev', 'BPMED_Crude95CI', 'CANCER_CrudePrev',\n",
       "       'CANCER_Crude95CI', 'CASTHMA_CrudePrev', 'CASTHMA_Crude95CI',\n",
       "       'CHD_CrudePrev', 'CHD_Crude95CI', 'CHECKUP_CrudePrev',\n",
       "       'CHECKUP_Crude95CI', 'CHOLSCREEN_CrudePrev', 'CHOLSCREEN_Crude95CI',\n",
       "       'COLON_SCREEN_CrudePrev', 'COLON_SCREEN_Crude95CI', 'COPD_CrudePrev',\n",
       "       'COPD_Crude95CI', 'COREM_CrudePrev', 'COREM_Crude95CI',\n",
       "       'COREW_CrudePrev', 'COREW_Crude95CI', 'CSMOKING_CrudePrev',\n",
       "       'CSMOKING_Crude95CI', 'DENTAL_CrudePrev', 'DENTAL_Crude95CI',\n",
       "       'DIABETES_CrudePrev', 'DIABETES_Crude95CI', 'HIGHCHOL_CrudePrev',\n",
       "       'HIGHCHOL_Crude95CI', 'KIDNEY_CrudePrev', 'KIDNEY_Crude95CI',\n",
       "       'LPA_CrudePrev', 'LPA_Crude95CI', 'MAMMOUSE_CrudePrev',\n",
       "       'MAMMOUSE_Crude95CI', 'MHLTH_CrudePrev', 'MHLTH_Crude95CI',\n",
       "       'OBESITY_CrudePrev', 'OBESITY_Crude95CI', 'PAPTEST_CrudePrev',\n",
       "       'PAPTEST_Crude95CI', 'PHLTH_CrudePrev', 'PHLTH_Crude95CI',\n",
       "       'SLEEP_CrudePrev', 'SLEEP_Crude95CI', 'STROKE_CrudePrev',\n",
       "       'STROKE_Crude95CI', 'TEETHLOST_CrudePrev', 'TEETHLOST_Crude95CI',\n",
       "       'Geolocation', 'Tract_FIPS_full'],\n",
       "      dtype='object')"
      ]
     },
     "execution_count": 11,
     "metadata": {},
     "output_type": "execute_result"
    }
   ],
   "source": [
    "health_df.columns"
   ]
  },
  {
   "cell_type": "code",
   "execution_count": 12,
   "id": "f7573b01-2d2e-435e-9155-52d97e929ac0",
   "metadata": {},
   "outputs": [],
   "source": [
    "#filter for columns we want\n",
    "columns_to_keep = [\n",
    "    \"StateAbbr\",\n",
    "    \"PlaceName\",\n",
    "    \"PlaceFIPS\",\n",
    "    \"TractFIPS\",\n",
    "    \"Place_TractID\",\n",
    "    \"Tract_FIPS_full\",\n",
    "    \"Population2010\",\n",
    "    \"OBESITY_CrudePrev\",\n",
    "    \"DIABETES_CrudePrev\",\n",
    "    \"HIGHCHOL_CrudePrev\",\n",
    "    \"BPHIGH_CrudePrev\",\n",
    "    \"STROKE_CrudePrev\",\n",
    "    \"SLEEP_CrudePrev\",\n",
    "    \"MHLTH_CrudePrev\",\n",
    "    \"CASTHMA_CrudePrev\",\n",
    "    \"CHD_CrudePrev\",\n",
    "    \"CSMOKING_CrudePrev\"\n",
    "]\n",
    "\n",
    "# Filter merged dataframe\n",
    "health_filtered = health_df[columns_to_keep]"
   ]
  },
  {
   "cell_type": "markdown",
   "id": "02beae47-6683-44cd-a6a1-7785b0904fb2",
   "metadata": {},
   "source": [
    "## Merge"
   ]
  },
  {
   "cell_type": "code",
   "execution_count": 13,
   "id": "dcec3ac9-4a96-4e4d-8da2-b839ba40a134",
   "metadata": {},
   "outputs": [],
   "source": [
    "merged_df = health_filtered.merge(census_df, on=\"Tract_FIPS_full\", how=\"inner\")"
   ]
  },
  {
   "cell_type": "code",
   "execution_count": 14,
   "id": "154c7b5e-7067-4e32-a2e2-717cb74b548a",
   "metadata": {},
   "outputs": [
    {
     "data": {
      "text/plain": [
       "Index(['StateAbbr', 'PlaceName', 'PlaceFIPS', 'TractFIPS', 'Place_TractID',\n",
       "       'Tract_FIPS_full', 'Population2010', 'OBESITY_CrudePrev',\n",
       "       'DIABETES_CrudePrev', 'HIGHCHOL_CrudePrev', 'BPHIGH_CrudePrev',\n",
       "       'STROKE_CrudePrev', 'SLEEP_CrudePrev', 'MHLTH_CrudePrev',\n",
       "       'CASTHMA_CrudePrev', 'CHD_CrudePrev', 'CSMOKING_CrudePrev',\n",
       "       'State_FIPS', 'County_FIPS', 'Tract_FIPS', 'State_Name', 'County_Name',\n",
       "       'Tract_Name', 'Median_Income', 'Median_Age', 'Poverty_Count',\n",
       "       'Poverty_Pop', 'HS_Grad_Count', 'Bachelors_Count', 'Education_Pop',\n",
       "       'Unemployed_Count', 'Unemployed_Pop', 'Race_Total', 'White_Alone',\n",
       "       'Black_Alone', 'AIAN_Alone', 'Asian_Alone', 'NHPI_Alone', 'Other_Alone',\n",
       "       'TwoPlus', 'Two_incl_Other', 'Two_excl_Other_or_3plus',\n",
       "       'Hispanic_Total', 'Hispanic_Any', 'Pct_White_Alone', 'Pct_Black_Alone',\n",
       "       'Pct_AIAN_Alone', 'Pct_Asian_Alone', 'Pct_NHPI_Alone',\n",
       "       'Pct_Other_Alone', 'Pct_TwoPlus', 'Majority_Race', 'Pct_Hispanic',\n",
       "       'Majority_Race_Clean', 'Pct_Other'],\n",
       "      dtype='object')"
      ]
     },
     "execution_count": 14,
     "metadata": {},
     "output_type": "execute_result"
    }
   ],
   "source": [
    "merged_df.columns"
   ]
  },
  {
   "cell_type": "code",
   "execution_count": 15,
   "id": "125fbc38-98fe-47b4-9f21-def125d91111",
   "metadata": {},
   "outputs": [
    {
     "data": {
      "application/vnd.microsoft.datawrangler.viewer.v0+json": {
       "columns": [
        {
         "name": "index",
         "rawType": "int64",
         "type": "integer"
        },
        {
         "name": "StateAbbr",
         "rawType": "object",
         "type": "string"
        },
        {
         "name": "PlaceName",
         "rawType": "object",
         "type": "string"
        },
        {
         "name": "PlaceFIPS",
         "rawType": "int64",
         "type": "integer"
        },
        {
         "name": "TractFIPS",
         "rawType": "int64",
         "type": "integer"
        },
        {
         "name": "Place_TractID",
         "rawType": "object",
         "type": "string"
        },
        {
         "name": "Tract_FIPS_full",
         "rawType": "object",
         "type": "string"
        },
        {
         "name": "Population2010",
         "rawType": "int64",
         "type": "integer"
        },
        {
         "name": "OBESITY_CrudePrev",
         "rawType": "float64",
         "type": "float"
        },
        {
         "name": "DIABETES_CrudePrev",
         "rawType": "float64",
         "type": "float"
        },
        {
         "name": "HIGHCHOL_CrudePrev",
         "rawType": "float64",
         "type": "float"
        },
        {
         "name": "BPHIGH_CrudePrev",
         "rawType": "float64",
         "type": "float"
        },
        {
         "name": "STROKE_CrudePrev",
         "rawType": "float64",
         "type": "float"
        },
        {
         "name": "SLEEP_CrudePrev",
         "rawType": "float64",
         "type": "float"
        },
        {
         "name": "MHLTH_CrudePrev",
         "rawType": "float64",
         "type": "float"
        },
        {
         "name": "CASTHMA_CrudePrev",
         "rawType": "float64",
         "type": "float"
        },
        {
         "name": "CHD_CrudePrev",
         "rawType": "float64",
         "type": "float"
        },
        {
         "name": "CSMOKING_CrudePrev",
         "rawType": "float64",
         "type": "float"
        },
        {
         "name": "State_FIPS",
         "rawType": "object",
         "type": "string"
        },
        {
         "name": "County_FIPS",
         "rawType": "object",
         "type": "string"
        },
        {
         "name": "Tract_FIPS",
         "rawType": "object",
         "type": "string"
        },
        {
         "name": "State_Name",
         "rawType": "object",
         "type": "string"
        },
        {
         "name": "County_Name",
         "rawType": "object",
         "type": "string"
        },
        {
         "name": "Tract_Name",
         "rawType": "object",
         "type": "string"
        },
        {
         "name": "Median_Income",
         "rawType": "float64",
         "type": "float"
        },
        {
         "name": "Median_Age",
         "rawType": "float64",
         "type": "float"
        },
        {
         "name": "Poverty_Count",
         "rawType": "int64",
         "type": "integer"
        },
        {
         "name": "Poverty_Pop",
         "rawType": "int64",
         "type": "integer"
        },
        {
         "name": "HS_Grad_Count",
         "rawType": "int64",
         "type": "integer"
        },
        {
         "name": "Bachelors_Count",
         "rawType": "int64",
         "type": "integer"
        },
        {
         "name": "Education_Pop",
         "rawType": "int64",
         "type": "integer"
        },
        {
         "name": "Unemployed_Count",
         "rawType": "int64",
         "type": "integer"
        },
        {
         "name": "Unemployed_Pop",
         "rawType": "int64",
         "type": "integer"
        },
        {
         "name": "Race_Total",
         "rawType": "int64",
         "type": "integer"
        },
        {
         "name": "White_Alone",
         "rawType": "int64",
         "type": "integer"
        },
        {
         "name": "Black_Alone",
         "rawType": "int64",
         "type": "integer"
        },
        {
         "name": "AIAN_Alone",
         "rawType": "int64",
         "type": "integer"
        },
        {
         "name": "Asian_Alone",
         "rawType": "int64",
         "type": "integer"
        },
        {
         "name": "NHPI_Alone",
         "rawType": "int64",
         "type": "integer"
        },
        {
         "name": "Other_Alone",
         "rawType": "int64",
         "type": "integer"
        },
        {
         "name": "TwoPlus",
         "rawType": "int64",
         "type": "integer"
        },
        {
         "name": "Two_incl_Other",
         "rawType": "int64",
         "type": "integer"
        },
        {
         "name": "Two_excl_Other_or_3plus",
         "rawType": "int64",
         "type": "integer"
        },
        {
         "name": "Hispanic_Total",
         "rawType": "int64",
         "type": "integer"
        },
        {
         "name": "Hispanic_Any",
         "rawType": "int64",
         "type": "integer"
        },
        {
         "name": "Pct_White_Alone",
         "rawType": "float64",
         "type": "float"
        },
        {
         "name": "Pct_Black_Alone",
         "rawType": "float64",
         "type": "float"
        },
        {
         "name": "Pct_AIAN_Alone",
         "rawType": "float64",
         "type": "float"
        },
        {
         "name": "Pct_Asian_Alone",
         "rawType": "float64",
         "type": "float"
        },
        {
         "name": "Pct_NHPI_Alone",
         "rawType": "float64",
         "type": "float"
        },
        {
         "name": "Pct_Other_Alone",
         "rawType": "float64",
         "type": "float"
        },
        {
         "name": "Pct_TwoPlus",
         "rawType": "float64",
         "type": "float"
        },
        {
         "name": "Majority_Race",
         "rawType": "object",
         "type": "string"
        },
        {
         "name": "Pct_Hispanic",
         "rawType": "float64",
         "type": "float"
        },
        {
         "name": "Majority_Race_Clean",
         "rawType": "object",
         "type": "string"
        },
        {
         "name": "Pct_Other",
         "rawType": "float64",
         "type": "float"
        }
       ],
       "ref": "bf1f1b46-743a-4466-b881-b7cef9e2e14e",
       "rows": [
        [
         "0",
         "CA",
         "Los Angeles",
         "644000",
         "6037206032",
         "0644000-06037206032",
         "06037206032",
         "5275",
         "29.5",
         "15.5",
         "38.3",
         "31.7",
         "4.0",
         "38.9",
         "15.0",
         "8.5",
         "6.9",
         "15.6",
         "06",
         "037",
         "206032",
         "California",
         "Los Angeles County",
         "Census Tract 2060.32",
         "26094.0",
         "29.5",
         "1829",
         "5104",
         "675",
         "309",
         "2920",
         "185",
         "3835",
         "5133",
         "3009",
         "48",
         "53",
         "854",
         "24",
         "1086",
         "59",
         "27",
         "32",
         "5133",
         "3957",
         "58.62068965517241",
         "0.9351256575102279",
         "1.0325345801675434",
         "16.63744398986947",
         "0.46756282875511396",
         "21.157218001168907",
         "1.1494252873563218",
         "White",
         "77.08942139099942",
         "Hispanic",
         "23.806740697447886"
        ],
        [
         "1",
         "CA",
         "Pasadena",
         "656000",
         "6037462001",
         "0656000-06037462001",
         "06037462001",
         "3974",
         "32.0",
         "11.6",
         "31.8",
         "27.1",
         "3.2",
         "40.2",
         "15.7",
         "9.4",
         "4.8",
         "17.8",
         "06",
         "037",
         "462001",
         "California",
         "Los Angeles County",
         "Census Tract 4620.01",
         "40192.0",
         "29.4",
         "947",
         "3893",
         "475",
         "367",
         "2419",
         "167",
         "2903",
         "3893",
         "1890",
         "413",
         "0",
         "386",
         "0",
         "1061",
         "143",
         "53",
         "90",
         "3893",
         "2743",
         "48.548677112766505",
         "10.608784998715644",
         "0.0",
         "9.915232468533265",
         "0.0",
         "27.25404572309273",
         "3.6732596968918574",
         "White",
         "70.45979964038017",
         "Hispanic",
         "30.927305419984588"
        ],
        [
         "2",
         "CA",
         "Fullerton",
         "628000",
         "6059011504",
         "0628000-06059011504",
         "06059011504",
         "5473",
         "18.7",
         "4.6",
         "21.1",
         "13.6",
         "1.2",
         "33.4",
         "14.1",
         "9.2",
         "2.1",
         "13.3",
         "06",
         "059",
         "011504",
         "California",
         "Orange County",
         "Census Tract 115.04",
         "31793.0",
         "22.8",
         "1740",
         "4768",
         "225",
         "873",
         "2481",
         "379",
         "5547",
         "6024",
         "3713",
         "98",
         "22",
         "1391",
         "0",
         "509",
         "291",
         "50",
         "241",
         "6024",
         "1830",
         "61.636786188579016",
         "1.6268260292164676",
         "0.3652058432934927",
         "23.09096945551129",
         "0.0",
         "8.449535192563081",
         "4.830677290836653",
         "White",
         "30.378486055776893",
         "White",
         "13.645418326693228"
        ],
        [
         "3",
         "TX",
         "Longview",
         "4843888",
         "48183000401",
         "4843888-48183000401",
         "48183000401",
         "3371",
         "33.9",
         "9.2",
         "33.9",
         "28.4",
         "2.7",
         "34.9",
         "13.5",
         "9.3",
         "5.4",
         "20.5",
         "48",
         "183",
         "000401",
         "Texas",
         "Gregg County",
         "Census Tract 4.01",
         "52846.0",
         "34.0",
         "454",
         "3170",
         "637",
         "201",
         "2261",
         "123",
         "2678",
         "3170",
         "2630",
         "304",
         "91",
         "110",
         "0",
         "7",
         "28",
         "0",
         "28",
         "3170",
         "233",
         "82.96529968454259",
         "9.589905362776026",
         "2.8706624605678233",
         "3.470031545741325",
         "0.0",
         "0.22082018927444794",
         "0.8832807570977917",
         "White",
         "7.350157728706624",
         "White",
         "3.974763406940063"
        ],
        [
         "4",
         "WI",
         "Madison",
         "5548000",
         "55025002200",
         "5548000-55025002200",
         "55025002200",
         "4254",
         "29.5",
         "8.7",
         "34.6",
         "27.9",
         "2.9",
         "30.8",
         "11.8",
         "9.2",
         "6.0",
         "16.6",
         "55",
         "025",
         "002200",
         "Wisconsin",
         "Dane County",
         "Census Tract 22",
         "42621.0",
         "42.1",
         "491",
         "4026",
         "523",
         "594",
         "2902",
         "339",
         "3429",
         "4030",
         "2957",
         "448",
         "0",
         "235",
         "0",
         "0",
         "390",
         "0",
         "390",
         "4030",
         "333",
         "73.37468982630273",
         "11.116625310173697",
         "0.0",
         "5.831265508684863",
         "0.0",
         "0.0",
         "9.67741935483871",
         "White",
         "8.26302729528536",
         "White",
         "9.67741935483871"
        ]
       ],
       "shape": {
        "columns": 55,
        "rows": 5
       }
      },
      "text/html": [
       "<div>\n",
       "<style scoped>\n",
       "    .dataframe tbody tr th:only-of-type {\n",
       "        vertical-align: middle;\n",
       "    }\n",
       "\n",
       "    .dataframe tbody tr th {\n",
       "        vertical-align: top;\n",
       "    }\n",
       "\n",
       "    .dataframe thead th {\n",
       "        text-align: right;\n",
       "    }\n",
       "</style>\n",
       "<table border=\"1\" class=\"dataframe\">\n",
       "  <thead>\n",
       "    <tr style=\"text-align: right;\">\n",
       "      <th></th>\n",
       "      <th>StateAbbr</th>\n",
       "      <th>PlaceName</th>\n",
       "      <th>PlaceFIPS</th>\n",
       "      <th>TractFIPS</th>\n",
       "      <th>Place_TractID</th>\n",
       "      <th>Tract_FIPS_full</th>\n",
       "      <th>Population2010</th>\n",
       "      <th>OBESITY_CrudePrev</th>\n",
       "      <th>DIABETES_CrudePrev</th>\n",
       "      <th>HIGHCHOL_CrudePrev</th>\n",
       "      <th>...</th>\n",
       "      <th>Pct_Black_Alone</th>\n",
       "      <th>Pct_AIAN_Alone</th>\n",
       "      <th>Pct_Asian_Alone</th>\n",
       "      <th>Pct_NHPI_Alone</th>\n",
       "      <th>Pct_Other_Alone</th>\n",
       "      <th>Pct_TwoPlus</th>\n",
       "      <th>Majority_Race</th>\n",
       "      <th>Pct_Hispanic</th>\n",
       "      <th>Majority_Race_Clean</th>\n",
       "      <th>Pct_Other</th>\n",
       "    </tr>\n",
       "  </thead>\n",
       "  <tbody>\n",
       "    <tr>\n",
       "      <th>0</th>\n",
       "      <td>CA</td>\n",
       "      <td>Los Angeles</td>\n",
       "      <td>644000</td>\n",
       "      <td>6037206032</td>\n",
       "      <td>0644000-06037206032</td>\n",
       "      <td>06037206032</td>\n",
       "      <td>5275</td>\n",
       "      <td>29.5</td>\n",
       "      <td>15.5</td>\n",
       "      <td>38.3</td>\n",
       "      <td>...</td>\n",
       "      <td>0.935126</td>\n",
       "      <td>1.032535</td>\n",
       "      <td>16.637444</td>\n",
       "      <td>0.467563</td>\n",
       "      <td>21.157218</td>\n",
       "      <td>1.149425</td>\n",
       "      <td>White</td>\n",
       "      <td>77.089421</td>\n",
       "      <td>Hispanic</td>\n",
       "      <td>23.806741</td>\n",
       "    </tr>\n",
       "    <tr>\n",
       "      <th>1</th>\n",
       "      <td>CA</td>\n",
       "      <td>Pasadena</td>\n",
       "      <td>656000</td>\n",
       "      <td>6037462001</td>\n",
       "      <td>0656000-06037462001</td>\n",
       "      <td>06037462001</td>\n",
       "      <td>3974</td>\n",
       "      <td>32.0</td>\n",
       "      <td>11.6</td>\n",
       "      <td>31.8</td>\n",
       "      <td>...</td>\n",
       "      <td>10.608785</td>\n",
       "      <td>0.000000</td>\n",
       "      <td>9.915232</td>\n",
       "      <td>0.000000</td>\n",
       "      <td>27.254046</td>\n",
       "      <td>3.673260</td>\n",
       "      <td>White</td>\n",
       "      <td>70.459800</td>\n",
       "      <td>Hispanic</td>\n",
       "      <td>30.927305</td>\n",
       "    </tr>\n",
       "    <tr>\n",
       "      <th>2</th>\n",
       "      <td>CA</td>\n",
       "      <td>Fullerton</td>\n",
       "      <td>628000</td>\n",
       "      <td>6059011504</td>\n",
       "      <td>0628000-06059011504</td>\n",
       "      <td>06059011504</td>\n",
       "      <td>5473</td>\n",
       "      <td>18.7</td>\n",
       "      <td>4.6</td>\n",
       "      <td>21.1</td>\n",
       "      <td>...</td>\n",
       "      <td>1.626826</td>\n",
       "      <td>0.365206</td>\n",
       "      <td>23.090969</td>\n",
       "      <td>0.000000</td>\n",
       "      <td>8.449535</td>\n",
       "      <td>4.830677</td>\n",
       "      <td>White</td>\n",
       "      <td>30.378486</td>\n",
       "      <td>White</td>\n",
       "      <td>13.645418</td>\n",
       "    </tr>\n",
       "    <tr>\n",
       "      <th>3</th>\n",
       "      <td>TX</td>\n",
       "      <td>Longview</td>\n",
       "      <td>4843888</td>\n",
       "      <td>48183000401</td>\n",
       "      <td>4843888-48183000401</td>\n",
       "      <td>48183000401</td>\n",
       "      <td>3371</td>\n",
       "      <td>33.9</td>\n",
       "      <td>9.2</td>\n",
       "      <td>33.9</td>\n",
       "      <td>...</td>\n",
       "      <td>9.589905</td>\n",
       "      <td>2.870662</td>\n",
       "      <td>3.470032</td>\n",
       "      <td>0.000000</td>\n",
       "      <td>0.220820</td>\n",
       "      <td>0.883281</td>\n",
       "      <td>White</td>\n",
       "      <td>7.350158</td>\n",
       "      <td>White</td>\n",
       "      <td>3.974763</td>\n",
       "    </tr>\n",
       "    <tr>\n",
       "      <th>4</th>\n",
       "      <td>WI</td>\n",
       "      <td>Madison</td>\n",
       "      <td>5548000</td>\n",
       "      <td>55025002200</td>\n",
       "      <td>5548000-55025002200</td>\n",
       "      <td>55025002200</td>\n",
       "      <td>4254</td>\n",
       "      <td>29.5</td>\n",
       "      <td>8.7</td>\n",
       "      <td>34.6</td>\n",
       "      <td>...</td>\n",
       "      <td>11.116625</td>\n",
       "      <td>0.000000</td>\n",
       "      <td>5.831266</td>\n",
       "      <td>0.000000</td>\n",
       "      <td>0.000000</td>\n",
       "      <td>9.677419</td>\n",
       "      <td>White</td>\n",
       "      <td>8.263027</td>\n",
       "      <td>White</td>\n",
       "      <td>9.677419</td>\n",
       "    </tr>\n",
       "  </tbody>\n",
       "</table>\n",
       "<p>5 rows × 55 columns</p>\n",
       "</div>"
      ],
      "text/plain": [
       "  StateAbbr    PlaceName  PlaceFIPS    TractFIPS        Place_TractID  \\\n",
       "0        CA  Los Angeles     644000   6037206032  0644000-06037206032   \n",
       "1        CA     Pasadena     656000   6037462001  0656000-06037462001   \n",
       "2        CA    Fullerton     628000   6059011504  0628000-06059011504   \n",
       "3        TX     Longview    4843888  48183000401  4843888-48183000401   \n",
       "4        WI      Madison    5548000  55025002200  5548000-55025002200   \n",
       "\n",
       "  Tract_FIPS_full  Population2010  OBESITY_CrudePrev  DIABETES_CrudePrev  \\\n",
       "0     06037206032            5275               29.5                15.5   \n",
       "1     06037462001            3974               32.0                11.6   \n",
       "2     06059011504            5473               18.7                 4.6   \n",
       "3     48183000401            3371               33.9                 9.2   \n",
       "4     55025002200            4254               29.5                 8.7   \n",
       "\n",
       "   HIGHCHOL_CrudePrev  ...  Pct_Black_Alone  Pct_AIAN_Alone  Pct_Asian_Alone  \\\n",
       "0                38.3  ...         0.935126        1.032535        16.637444   \n",
       "1                31.8  ...        10.608785        0.000000         9.915232   \n",
       "2                21.1  ...         1.626826        0.365206        23.090969   \n",
       "3                33.9  ...         9.589905        2.870662         3.470032   \n",
       "4                34.6  ...        11.116625        0.000000         5.831266   \n",
       "\n",
       "   Pct_NHPI_Alone  Pct_Other_Alone  Pct_TwoPlus  Majority_Race Pct_Hispanic  \\\n",
       "0        0.467563        21.157218     1.149425          White    77.089421   \n",
       "1        0.000000        27.254046     3.673260          White    70.459800   \n",
       "2        0.000000         8.449535     4.830677          White    30.378486   \n",
       "3        0.000000         0.220820     0.883281          White     7.350158   \n",
       "4        0.000000         0.000000     9.677419          White     8.263027   \n",
       "\n",
       "  Majority_Race_Clean  Pct_Other  \n",
       "0            Hispanic  23.806741  \n",
       "1            Hispanic  30.927305  \n",
       "2               White  13.645418  \n",
       "3               White   3.974763  \n",
       "4               White   9.677419  \n",
       "\n",
       "[5 rows x 55 columns]"
      ]
     },
     "execution_count": 15,
     "metadata": {},
     "output_type": "execute_result"
    }
   ],
   "source": [
    "merged_df.head()"
   ]
  },
  {
   "cell_type": "code",
   "execution_count": 16,
   "id": "ac623997-57d0-40ba-91c5-44789ee42327",
   "metadata": {},
   "outputs": [
    {
     "data": {
      "text/plain": [
       "(27209, 55)"
      ]
     },
     "execution_count": 16,
     "metadata": {},
     "output_type": "execute_result"
    }
   ],
   "source": [
    "merged_df.shape"
   ]
  },
  {
   "cell_type": "markdown",
   "id": "ceb73123-8051-4399-b85d-3a975b3f8f93",
   "metadata": {},
   "source": [
    "## Cleaning"
   ]
  },
  {
   "cell_type": "code",
   "execution_count": 17,
   "id": "bee8b01c-459d-43bf-9ed4-0f3d3ab8b93a",
   "metadata": {},
   "outputs": [],
   "source": [
    "#rename Crude Columns\n",
    "merged_df = merged_df.rename(columns={\n",
    "    \"Population2010\" : \"Health_Pop\",\n",
    "    \"OBESITY_CrudePrev\": \"Obesity_Pct\",\n",
    "    \"DIABETES_CrudePrev\": \"Diabetes_Pct\",\n",
    "    \"HIGHCHOL_CrudePrev\": \"HighChol_Pct\",\n",
    "    \"BPHIGH_CrudePrev\": \"HighBP_Pct\",\n",
    "    \"STROKE_CrudePrev\": \"Stroke_Pct\",\n",
    "    \"SLEEP_CrudePrev\": \"Sleep_Pct\",\n",
    "    \"MHLTH_CrudePrev\": \"MentalHealth_Pct\",\n",
    "    \"CASTHMA_CrudePrev\": \"Asthma_Pct\",\n",
    "    \"CHD_CrudePrev\": \"HeartDisease_Pct\",\n",
    "    \"CSMOKING_CrudePrev\": \"Smoking_Pct\"\n",
    "})"
   ]
  },
  {
   "cell_type": "code",
   "execution_count": 18,
   "id": "a0d692ad-cdeb-41f3-a7e5-2c9c2faff55c",
   "metadata": {},
   "outputs": [
    {
     "data": {
      "application/vnd.microsoft.datawrangler.viewer.v0+json": {
       "columns": [
        {
         "name": "index",
         "rawType": "int64",
         "type": "integer"
        },
        {
         "name": "StateAbbr",
         "rawType": "object",
         "type": "string"
        },
        {
         "name": "PlaceName",
         "rawType": "object",
         "type": "string"
        },
        {
         "name": "PlaceFIPS",
         "rawType": "int64",
         "type": "integer"
        },
        {
         "name": "TractFIPS",
         "rawType": "int64",
         "type": "integer"
        },
        {
         "name": "Place_TractID",
         "rawType": "object",
         "type": "string"
        },
        {
         "name": "Tract_FIPS_full",
         "rawType": "object",
         "type": "string"
        },
        {
         "name": "Health_Pop",
         "rawType": "int64",
         "type": "integer"
        },
        {
         "name": "Obesity_Pct",
         "rawType": "float64",
         "type": "float"
        },
        {
         "name": "Diabetes_Pct",
         "rawType": "float64",
         "type": "float"
        },
        {
         "name": "HighChol_Pct",
         "rawType": "float64",
         "type": "float"
        },
        {
         "name": "HighBP_Pct",
         "rawType": "float64",
         "type": "float"
        },
        {
         "name": "Stroke_Pct",
         "rawType": "float64",
         "type": "float"
        },
        {
         "name": "Sleep_Pct",
         "rawType": "float64",
         "type": "float"
        },
        {
         "name": "MentalHealth_Pct",
         "rawType": "float64",
         "type": "float"
        },
        {
         "name": "Asthma_Pct",
         "rawType": "float64",
         "type": "float"
        },
        {
         "name": "HeartDisease_Pct",
         "rawType": "float64",
         "type": "float"
        },
        {
         "name": "Smoking_Pct",
         "rawType": "float64",
         "type": "float"
        },
        {
         "name": "State_FIPS",
         "rawType": "object",
         "type": "string"
        },
        {
         "name": "County_FIPS",
         "rawType": "object",
         "type": "string"
        },
        {
         "name": "Tract_FIPS",
         "rawType": "object",
         "type": "string"
        },
        {
         "name": "State_Name",
         "rawType": "object",
         "type": "string"
        },
        {
         "name": "County_Name",
         "rawType": "object",
         "type": "string"
        },
        {
         "name": "Tract_Name",
         "rawType": "object",
         "type": "string"
        },
        {
         "name": "Median_Income",
         "rawType": "float64",
         "type": "float"
        },
        {
         "name": "Median_Age",
         "rawType": "float64",
         "type": "float"
        },
        {
         "name": "Poverty_Count",
         "rawType": "int64",
         "type": "integer"
        },
        {
         "name": "Poverty_Pop",
         "rawType": "int64",
         "type": "integer"
        },
        {
         "name": "HS_Grad_Count",
         "rawType": "int64",
         "type": "integer"
        },
        {
         "name": "Bachelors_Count",
         "rawType": "int64",
         "type": "integer"
        },
        {
         "name": "Education_Pop",
         "rawType": "int64",
         "type": "integer"
        },
        {
         "name": "Unemployed_Count",
         "rawType": "int64",
         "type": "integer"
        },
        {
         "name": "Unemployed_Pop",
         "rawType": "int64",
         "type": "integer"
        },
        {
         "name": "Race_Total",
         "rawType": "int64",
         "type": "integer"
        },
        {
         "name": "White_Alone",
         "rawType": "int64",
         "type": "integer"
        },
        {
         "name": "Black_Alone",
         "rawType": "int64",
         "type": "integer"
        },
        {
         "name": "AIAN_Alone",
         "rawType": "int64",
         "type": "integer"
        },
        {
         "name": "Asian_Alone",
         "rawType": "int64",
         "type": "integer"
        },
        {
         "name": "NHPI_Alone",
         "rawType": "int64",
         "type": "integer"
        },
        {
         "name": "Other_Alone",
         "rawType": "int64",
         "type": "integer"
        },
        {
         "name": "TwoPlus",
         "rawType": "int64",
         "type": "integer"
        },
        {
         "name": "Two_incl_Other",
         "rawType": "int64",
         "type": "integer"
        },
        {
         "name": "Two_excl_Other_or_3plus",
         "rawType": "int64",
         "type": "integer"
        },
        {
         "name": "Hispanic_Total",
         "rawType": "int64",
         "type": "integer"
        },
        {
         "name": "Hispanic_Any",
         "rawType": "int64",
         "type": "integer"
        },
        {
         "name": "Pct_White_Alone",
         "rawType": "float64",
         "type": "float"
        },
        {
         "name": "Pct_Black_Alone",
         "rawType": "float64",
         "type": "float"
        },
        {
         "name": "Pct_AIAN_Alone",
         "rawType": "float64",
         "type": "float"
        },
        {
         "name": "Pct_Asian_Alone",
         "rawType": "float64",
         "type": "float"
        },
        {
         "name": "Pct_NHPI_Alone",
         "rawType": "float64",
         "type": "float"
        },
        {
         "name": "Pct_Other_Alone",
         "rawType": "float64",
         "type": "float"
        },
        {
         "name": "Pct_TwoPlus",
         "rawType": "float64",
         "type": "float"
        },
        {
         "name": "Majority_Race",
         "rawType": "object",
         "type": "string"
        },
        {
         "name": "Pct_Hispanic",
         "rawType": "float64",
         "type": "float"
        },
        {
         "name": "Majority_Race_Clean",
         "rawType": "object",
         "type": "string"
        },
        {
         "name": "Pct_Other",
         "rawType": "float64",
         "type": "float"
        }
       ],
       "ref": "6ed90b41-b10f-47fc-8fb5-5188ab5574dc",
       "rows": [
        [
         "0",
         "CA",
         "Los Angeles",
         "644000",
         "6037206032",
         "0644000-06037206032",
         "06037206032",
         "5275",
         "29.5",
         "15.5",
         "38.3",
         "31.7",
         "4.0",
         "38.9",
         "15.0",
         "8.5",
         "6.9",
         "15.6",
         "06",
         "037",
         "206032",
         "California",
         "Los Angeles County",
         "Census Tract 2060.32",
         "26094.0",
         "29.5",
         "1829",
         "5104",
         "675",
         "309",
         "2920",
         "185",
         "3835",
         "5133",
         "3009",
         "48",
         "53",
         "854",
         "24",
         "1086",
         "59",
         "27",
         "32",
         "5133",
         "3957",
         "58.62068965517241",
         "0.9351256575102279",
         "1.0325345801675434",
         "16.63744398986947",
         "0.46756282875511396",
         "21.157218001168907",
         "1.1494252873563218",
         "White",
         "77.08942139099942",
         "Hispanic",
         "23.806740697447886"
        ],
        [
         "1",
         "CA",
         "Pasadena",
         "656000",
         "6037462001",
         "0656000-06037462001",
         "06037462001",
         "3974",
         "32.0",
         "11.6",
         "31.8",
         "27.1",
         "3.2",
         "40.2",
         "15.7",
         "9.4",
         "4.8",
         "17.8",
         "06",
         "037",
         "462001",
         "California",
         "Los Angeles County",
         "Census Tract 4620.01",
         "40192.0",
         "29.4",
         "947",
         "3893",
         "475",
         "367",
         "2419",
         "167",
         "2903",
         "3893",
         "1890",
         "413",
         "0",
         "386",
         "0",
         "1061",
         "143",
         "53",
         "90",
         "3893",
         "2743",
         "48.548677112766505",
         "10.608784998715644",
         "0.0",
         "9.915232468533265",
         "0.0",
         "27.25404572309273",
         "3.6732596968918574",
         "White",
         "70.45979964038017",
         "Hispanic",
         "30.927305419984588"
        ],
        [
         "2",
         "CA",
         "Fullerton",
         "628000",
         "6059011504",
         "0628000-06059011504",
         "06059011504",
         "5473",
         "18.7",
         "4.6",
         "21.1",
         "13.6",
         "1.2",
         "33.4",
         "14.1",
         "9.2",
         "2.1",
         "13.3",
         "06",
         "059",
         "011504",
         "California",
         "Orange County",
         "Census Tract 115.04",
         "31793.0",
         "22.8",
         "1740",
         "4768",
         "225",
         "873",
         "2481",
         "379",
         "5547",
         "6024",
         "3713",
         "98",
         "22",
         "1391",
         "0",
         "509",
         "291",
         "50",
         "241",
         "6024",
         "1830",
         "61.636786188579016",
         "1.6268260292164676",
         "0.3652058432934927",
         "23.09096945551129",
         "0.0",
         "8.449535192563081",
         "4.830677290836653",
         "White",
         "30.378486055776893",
         "White",
         "13.645418326693228"
        ],
        [
         "3",
         "TX",
         "Longview",
         "4843888",
         "48183000401",
         "4843888-48183000401",
         "48183000401",
         "3371",
         "33.9",
         "9.2",
         "33.9",
         "28.4",
         "2.7",
         "34.9",
         "13.5",
         "9.3",
         "5.4",
         "20.5",
         "48",
         "183",
         "000401",
         "Texas",
         "Gregg County",
         "Census Tract 4.01",
         "52846.0",
         "34.0",
         "454",
         "3170",
         "637",
         "201",
         "2261",
         "123",
         "2678",
         "3170",
         "2630",
         "304",
         "91",
         "110",
         "0",
         "7",
         "28",
         "0",
         "28",
         "3170",
         "233",
         "82.96529968454259",
         "9.589905362776026",
         "2.8706624605678233",
         "3.470031545741325",
         "0.0",
         "0.22082018927444794",
         "0.8832807570977917",
         "White",
         "7.350157728706624",
         "White",
         "3.974763406940063"
        ],
        [
         "4",
         "WI",
         "Madison",
         "5548000",
         "55025002200",
         "5548000-55025002200",
         "55025002200",
         "4254",
         "29.5",
         "8.7",
         "34.6",
         "27.9",
         "2.9",
         "30.8",
         "11.8",
         "9.2",
         "6.0",
         "16.6",
         "55",
         "025",
         "002200",
         "Wisconsin",
         "Dane County",
         "Census Tract 22",
         "42621.0",
         "42.1",
         "491",
         "4026",
         "523",
         "594",
         "2902",
         "339",
         "3429",
         "4030",
         "2957",
         "448",
         "0",
         "235",
         "0",
         "0",
         "390",
         "0",
         "390",
         "4030",
         "333",
         "73.37468982630273",
         "11.116625310173697",
         "0.0",
         "5.831265508684863",
         "0.0",
         "0.0",
         "9.67741935483871",
         "White",
         "8.26302729528536",
         "White",
         "9.67741935483871"
        ]
       ],
       "shape": {
        "columns": 55,
        "rows": 5
       }
      },
      "text/html": [
       "<div>\n",
       "<style scoped>\n",
       "    .dataframe tbody tr th:only-of-type {\n",
       "        vertical-align: middle;\n",
       "    }\n",
       "\n",
       "    .dataframe tbody tr th {\n",
       "        vertical-align: top;\n",
       "    }\n",
       "\n",
       "    .dataframe thead th {\n",
       "        text-align: right;\n",
       "    }\n",
       "</style>\n",
       "<table border=\"1\" class=\"dataframe\">\n",
       "  <thead>\n",
       "    <tr style=\"text-align: right;\">\n",
       "      <th></th>\n",
       "      <th>StateAbbr</th>\n",
       "      <th>PlaceName</th>\n",
       "      <th>PlaceFIPS</th>\n",
       "      <th>TractFIPS</th>\n",
       "      <th>Place_TractID</th>\n",
       "      <th>Tract_FIPS_full</th>\n",
       "      <th>Health_Pop</th>\n",
       "      <th>Obesity_Pct</th>\n",
       "      <th>Diabetes_Pct</th>\n",
       "      <th>HighChol_Pct</th>\n",
       "      <th>...</th>\n",
       "      <th>Pct_Black_Alone</th>\n",
       "      <th>Pct_AIAN_Alone</th>\n",
       "      <th>Pct_Asian_Alone</th>\n",
       "      <th>Pct_NHPI_Alone</th>\n",
       "      <th>Pct_Other_Alone</th>\n",
       "      <th>Pct_TwoPlus</th>\n",
       "      <th>Majority_Race</th>\n",
       "      <th>Pct_Hispanic</th>\n",
       "      <th>Majority_Race_Clean</th>\n",
       "      <th>Pct_Other</th>\n",
       "    </tr>\n",
       "  </thead>\n",
       "  <tbody>\n",
       "    <tr>\n",
       "      <th>0</th>\n",
       "      <td>CA</td>\n",
       "      <td>Los Angeles</td>\n",
       "      <td>644000</td>\n",
       "      <td>6037206032</td>\n",
       "      <td>0644000-06037206032</td>\n",
       "      <td>06037206032</td>\n",
       "      <td>5275</td>\n",
       "      <td>29.5</td>\n",
       "      <td>15.5</td>\n",
       "      <td>38.3</td>\n",
       "      <td>...</td>\n",
       "      <td>0.935126</td>\n",
       "      <td>1.032535</td>\n",
       "      <td>16.637444</td>\n",
       "      <td>0.467563</td>\n",
       "      <td>21.157218</td>\n",
       "      <td>1.149425</td>\n",
       "      <td>White</td>\n",
       "      <td>77.089421</td>\n",
       "      <td>Hispanic</td>\n",
       "      <td>23.806741</td>\n",
       "    </tr>\n",
       "    <tr>\n",
       "      <th>1</th>\n",
       "      <td>CA</td>\n",
       "      <td>Pasadena</td>\n",
       "      <td>656000</td>\n",
       "      <td>6037462001</td>\n",
       "      <td>0656000-06037462001</td>\n",
       "      <td>06037462001</td>\n",
       "      <td>3974</td>\n",
       "      <td>32.0</td>\n",
       "      <td>11.6</td>\n",
       "      <td>31.8</td>\n",
       "      <td>...</td>\n",
       "      <td>10.608785</td>\n",
       "      <td>0.000000</td>\n",
       "      <td>9.915232</td>\n",
       "      <td>0.000000</td>\n",
       "      <td>27.254046</td>\n",
       "      <td>3.673260</td>\n",
       "      <td>White</td>\n",
       "      <td>70.459800</td>\n",
       "      <td>Hispanic</td>\n",
       "      <td>30.927305</td>\n",
       "    </tr>\n",
       "    <tr>\n",
       "      <th>2</th>\n",
       "      <td>CA</td>\n",
       "      <td>Fullerton</td>\n",
       "      <td>628000</td>\n",
       "      <td>6059011504</td>\n",
       "      <td>0628000-06059011504</td>\n",
       "      <td>06059011504</td>\n",
       "      <td>5473</td>\n",
       "      <td>18.7</td>\n",
       "      <td>4.6</td>\n",
       "      <td>21.1</td>\n",
       "      <td>...</td>\n",
       "      <td>1.626826</td>\n",
       "      <td>0.365206</td>\n",
       "      <td>23.090969</td>\n",
       "      <td>0.000000</td>\n",
       "      <td>8.449535</td>\n",
       "      <td>4.830677</td>\n",
       "      <td>White</td>\n",
       "      <td>30.378486</td>\n",
       "      <td>White</td>\n",
       "      <td>13.645418</td>\n",
       "    </tr>\n",
       "    <tr>\n",
       "      <th>3</th>\n",
       "      <td>TX</td>\n",
       "      <td>Longview</td>\n",
       "      <td>4843888</td>\n",
       "      <td>48183000401</td>\n",
       "      <td>4843888-48183000401</td>\n",
       "      <td>48183000401</td>\n",
       "      <td>3371</td>\n",
       "      <td>33.9</td>\n",
       "      <td>9.2</td>\n",
       "      <td>33.9</td>\n",
       "      <td>...</td>\n",
       "      <td>9.589905</td>\n",
       "      <td>2.870662</td>\n",
       "      <td>3.470032</td>\n",
       "      <td>0.000000</td>\n",
       "      <td>0.220820</td>\n",
       "      <td>0.883281</td>\n",
       "      <td>White</td>\n",
       "      <td>7.350158</td>\n",
       "      <td>White</td>\n",
       "      <td>3.974763</td>\n",
       "    </tr>\n",
       "    <tr>\n",
       "      <th>4</th>\n",
       "      <td>WI</td>\n",
       "      <td>Madison</td>\n",
       "      <td>5548000</td>\n",
       "      <td>55025002200</td>\n",
       "      <td>5548000-55025002200</td>\n",
       "      <td>55025002200</td>\n",
       "      <td>4254</td>\n",
       "      <td>29.5</td>\n",
       "      <td>8.7</td>\n",
       "      <td>34.6</td>\n",
       "      <td>...</td>\n",
       "      <td>11.116625</td>\n",
       "      <td>0.000000</td>\n",
       "      <td>5.831266</td>\n",
       "      <td>0.000000</td>\n",
       "      <td>0.000000</td>\n",
       "      <td>9.677419</td>\n",
       "      <td>White</td>\n",
       "      <td>8.263027</td>\n",
       "      <td>White</td>\n",
       "      <td>9.677419</td>\n",
       "    </tr>\n",
       "  </tbody>\n",
       "</table>\n",
       "<p>5 rows × 55 columns</p>\n",
       "</div>"
      ],
      "text/plain": [
       "  StateAbbr    PlaceName  PlaceFIPS    TractFIPS        Place_TractID  \\\n",
       "0        CA  Los Angeles     644000   6037206032  0644000-06037206032   \n",
       "1        CA     Pasadena     656000   6037462001  0656000-06037462001   \n",
       "2        CA    Fullerton     628000   6059011504  0628000-06059011504   \n",
       "3        TX     Longview    4843888  48183000401  4843888-48183000401   \n",
       "4        WI      Madison    5548000  55025002200  5548000-55025002200   \n",
       "\n",
       "  Tract_FIPS_full  Health_Pop  Obesity_Pct  Diabetes_Pct  HighChol_Pct  ...  \\\n",
       "0     06037206032        5275         29.5          15.5          38.3  ...   \n",
       "1     06037462001        3974         32.0          11.6          31.8  ...   \n",
       "2     06059011504        5473         18.7           4.6          21.1  ...   \n",
       "3     48183000401        3371         33.9           9.2          33.9  ...   \n",
       "4     55025002200        4254         29.5           8.7          34.6  ...   \n",
       "\n",
       "   Pct_Black_Alone  Pct_AIAN_Alone  Pct_Asian_Alone  Pct_NHPI_Alone  \\\n",
       "0         0.935126        1.032535        16.637444        0.467563   \n",
       "1        10.608785        0.000000         9.915232        0.000000   \n",
       "2         1.626826        0.365206        23.090969        0.000000   \n",
       "3         9.589905        2.870662         3.470032        0.000000   \n",
       "4        11.116625        0.000000         5.831266        0.000000   \n",
       "\n",
       "   Pct_Other_Alone  Pct_TwoPlus  Majority_Race Pct_Hispanic  \\\n",
       "0        21.157218     1.149425          White    77.089421   \n",
       "1        27.254046     3.673260          White    70.459800   \n",
       "2         8.449535     4.830677          White    30.378486   \n",
       "3         0.220820     0.883281          White     7.350158   \n",
       "4         0.000000     9.677419          White     8.263027   \n",
       "\n",
       "  Majority_Race_Clean  Pct_Other  \n",
       "0            Hispanic  23.806741  \n",
       "1            Hispanic  30.927305  \n",
       "2               White  13.645418  \n",
       "3               White   3.974763  \n",
       "4               White   9.677419  \n",
       "\n",
       "[5 rows x 55 columns]"
      ]
     },
     "execution_count": 18,
     "metadata": {},
     "output_type": "execute_result"
    }
   ],
   "source": [
    "merged_df.head()"
   ]
  },
  {
   "cell_type": "code",
   "execution_count": 19,
   "id": "7fef4054-0964-4c7e-819e-1847a10cad0f",
   "metadata": {},
   "outputs": [
    {
     "data": {
      "text/plain": [
       "Index(['StateAbbr', 'PlaceName', 'PlaceFIPS', 'TractFIPS', 'Place_TractID',\n",
       "       'Tract_FIPS_full', 'Health_Pop', 'Obesity_Pct', 'Diabetes_Pct',\n",
       "       'HighChol_Pct', 'HighBP_Pct', 'Stroke_Pct', 'Sleep_Pct',\n",
       "       'MentalHealth_Pct', 'Asthma_Pct', 'HeartDisease_Pct', 'Smoking_Pct',\n",
       "       'State_FIPS', 'County_FIPS', 'Tract_FIPS', 'State_Name', 'County_Name',\n",
       "       'Tract_Name', 'Median_Income', 'Median_Age', 'Poverty_Count',\n",
       "       'Poverty_Pop', 'HS_Grad_Count', 'Bachelors_Count', 'Education_Pop',\n",
       "       'Unemployed_Count', 'Unemployed_Pop', 'Race_Total', 'White_Alone',\n",
       "       'Black_Alone', 'AIAN_Alone', 'Asian_Alone', 'NHPI_Alone', 'Other_Alone',\n",
       "       'TwoPlus', 'Two_incl_Other', 'Two_excl_Other_or_3plus',\n",
       "       'Hispanic_Total', 'Hispanic_Any', 'Pct_White_Alone', 'Pct_Black_Alone',\n",
       "       'Pct_AIAN_Alone', 'Pct_Asian_Alone', 'Pct_NHPI_Alone',\n",
       "       'Pct_Other_Alone', 'Pct_TwoPlus', 'Majority_Race', 'Pct_Hispanic',\n",
       "       'Majority_Race_Clean', 'Pct_Other'],\n",
       "      dtype='object')"
      ]
     },
     "execution_count": 19,
     "metadata": {},
     "output_type": "execute_result"
    }
   ],
   "source": [
    "merged_df.columns"
   ]
  },
  {
   "cell_type": "code",
   "execution_count": 20,
   "id": "541f6cd7-53b5-4de6-854f-e0c2551babc6",
   "metadata": {},
   "outputs": [
    {
     "data": {
      "text/plain": [
       "(27209, 55)"
      ]
     },
     "execution_count": 20,
     "metadata": {},
     "output_type": "execute_result"
    }
   ],
   "source": [
    "merged_df.shape"
   ]
  },
  {
   "cell_type": "code",
   "execution_count": 21,
   "id": "899e0d75-aa56-4d10-8ea3-86c803e56282",
   "metadata": {},
   "outputs": [],
   "source": [
    "#make new variables for raw count (health data)\n",
    "#using the Health_Pop (from the health data)\n",
    "for col in [\"Obesity_Pct\", \"Diabetes_Pct\", \"HighChol_Pct\", \"HighBP_Pct\",\n",
    "            \"Stroke_Pct\", \"Sleep_Pct\", \"MentalHealth_Pct\",\n",
    "            \"Asthma_Pct\", \"HeartDisease_Pct\", \"Smoking_Pct\"]:\n",
    "    new_col = col.replace(\"_Pct\", \"_Count\")\n",
    "    merged_df[new_col] = round((merged_df[col] / 100) * merged_df[\"Health_Pop\"])"
   ]
  },
  {
   "cell_type": "code",
   "execution_count": 22,
   "id": "4bae463c-6932-4950-9254-4f160779dafb",
   "metadata": {},
   "outputs": [
    {
     "data": {
      "application/vnd.microsoft.datawrangler.viewer.v0+json": {
       "columns": [
        {
         "name": "index",
         "rawType": "int64",
         "type": "integer"
        },
        {
         "name": "Health_Pop",
         "rawType": "int64",
         "type": "integer"
        },
        {
         "name": "Obesity_Pct",
         "rawType": "float64",
         "type": "float"
        },
        {
         "name": "Obesity_Count",
         "rawType": "float64",
         "type": "float"
        }
       ],
       "ref": "9558a861-4e59-4260-b608-ff92b729303a",
       "rows": [
        [
         "0",
         "5275",
         "29.5",
         "1556.0"
        ],
        [
         "1",
         "3974",
         "32.0",
         "1272.0"
        ],
        [
         "2",
         "5473",
         "18.7",
         "1023.0"
        ],
        [
         "3",
         "3371",
         "33.9",
         "1143.0"
        ],
        [
         "4",
         "4254",
         "29.5",
         "1255.0"
        ]
       ],
       "shape": {
        "columns": 3,
        "rows": 5
       }
      },
      "text/html": [
       "<div>\n",
       "<style scoped>\n",
       "    .dataframe tbody tr th:only-of-type {\n",
       "        vertical-align: middle;\n",
       "    }\n",
       "\n",
       "    .dataframe tbody tr th {\n",
       "        vertical-align: top;\n",
       "    }\n",
       "\n",
       "    .dataframe thead th {\n",
       "        text-align: right;\n",
       "    }\n",
       "</style>\n",
       "<table border=\"1\" class=\"dataframe\">\n",
       "  <thead>\n",
       "    <tr style=\"text-align: right;\">\n",
       "      <th></th>\n",
       "      <th>Health_Pop</th>\n",
       "      <th>Obesity_Pct</th>\n",
       "      <th>Obesity_Count</th>\n",
       "    </tr>\n",
       "  </thead>\n",
       "  <tbody>\n",
       "    <tr>\n",
       "      <th>0</th>\n",
       "      <td>5275</td>\n",
       "      <td>29.5</td>\n",
       "      <td>1556.0</td>\n",
       "    </tr>\n",
       "    <tr>\n",
       "      <th>1</th>\n",
       "      <td>3974</td>\n",
       "      <td>32.0</td>\n",
       "      <td>1272.0</td>\n",
       "    </tr>\n",
       "    <tr>\n",
       "      <th>2</th>\n",
       "      <td>5473</td>\n",
       "      <td>18.7</td>\n",
       "      <td>1023.0</td>\n",
       "    </tr>\n",
       "    <tr>\n",
       "      <th>3</th>\n",
       "      <td>3371</td>\n",
       "      <td>33.9</td>\n",
       "      <td>1143.0</td>\n",
       "    </tr>\n",
       "    <tr>\n",
       "      <th>4</th>\n",
       "      <td>4254</td>\n",
       "      <td>29.5</td>\n",
       "      <td>1255.0</td>\n",
       "    </tr>\n",
       "  </tbody>\n",
       "</table>\n",
       "</div>"
      ],
      "text/plain": [
       "   Health_Pop  Obesity_Pct  Obesity_Count\n",
       "0        5275         29.5         1556.0\n",
       "1        3974         32.0         1272.0\n",
       "2        5473         18.7         1023.0\n",
       "3        3371         33.9         1143.0\n",
       "4        4254         29.5         1255.0"
      ]
     },
     "execution_count": 22,
     "metadata": {},
     "output_type": "execute_result"
    }
   ],
   "source": [
    "#check the raw numbers\n",
    "merged_df[[\"Health_Pop\", \"Obesity_Pct\", \"Obesity_Count\"]].head()"
   ]
  },
  {
   "cell_type": "code",
   "execution_count": 23,
   "id": "81ed5671-4ef3-4192-a9f5-fc4b7418dd81",
   "metadata": {},
   "outputs": [],
   "source": [
    "#make new variables for percentages (census data)\n",
    "#using the population from each universe\n",
    "merged_df[\"Poverty_Pct\"] = (merged_df[\"Poverty_Count\"] / merged_df[\"Poverty_Pop\"]) * 100\n",
    "merged_df[\"HS_Grad_Pct\"] = (merged_df[\"HS_Grad_Count\"] / merged_df[\"Education_Pop\"]) * 100\n",
    "merged_df[\"Bachelors_Pct\"] = (merged_df[\"Bachelors_Count\"] / merged_df[\"Education_Pop\"]) * 100\n",
    "merged_df[\"Unemployed_Pct\"] = (merged_df[\"Unemployed_Count\"] / merged_df[\"Unemployed_Pop\"]) * 100"
   ]
  },
  {
   "cell_type": "code",
   "execution_count": 24,
   "id": "69758210-2683-4fb1-9a3d-bb95eebbbebb",
   "metadata": {},
   "outputs": [
    {
     "data": {
      "application/vnd.microsoft.datawrangler.viewer.v0+json": {
       "columns": [
        {
         "name": "index",
         "rawType": "int64",
         "type": "integer"
        },
        {
         "name": "Education_Pop",
         "rawType": "int64",
         "type": "integer"
        },
        {
         "name": "HS_Grad_Pct",
         "rawType": "float64",
         "type": "float"
        },
        {
         "name": "HS_Grad_Count",
         "rawType": "int64",
         "type": "integer"
        }
       ],
       "ref": "7549cadb-8bc4-4f88-a098-a95f736b59b5",
       "rows": [
        [
         "0",
         "2920",
         "23.116438356164384",
         "675"
        ],
        [
         "1",
         "2419",
         "19.636213311285655",
         "475"
        ],
        [
         "2",
         "2481",
         "9.068923821039904",
         "225"
        ],
        [
         "3",
         "2261",
         "28.173374613003094",
         "637"
        ],
        [
         "4",
         "2902",
         "18.022053756030324",
         "523"
        ]
       ],
       "shape": {
        "columns": 3,
        "rows": 5
       }
      },
      "text/html": [
       "<div>\n",
       "<style scoped>\n",
       "    .dataframe tbody tr th:only-of-type {\n",
       "        vertical-align: middle;\n",
       "    }\n",
       "\n",
       "    .dataframe tbody tr th {\n",
       "        vertical-align: top;\n",
       "    }\n",
       "\n",
       "    .dataframe thead th {\n",
       "        text-align: right;\n",
       "    }\n",
       "</style>\n",
       "<table border=\"1\" class=\"dataframe\">\n",
       "  <thead>\n",
       "    <tr style=\"text-align: right;\">\n",
       "      <th></th>\n",
       "      <th>Education_Pop</th>\n",
       "      <th>HS_Grad_Pct</th>\n",
       "      <th>HS_Grad_Count</th>\n",
       "    </tr>\n",
       "  </thead>\n",
       "  <tbody>\n",
       "    <tr>\n",
       "      <th>0</th>\n",
       "      <td>2920</td>\n",
       "      <td>23.116438</td>\n",
       "      <td>675</td>\n",
       "    </tr>\n",
       "    <tr>\n",
       "      <th>1</th>\n",
       "      <td>2419</td>\n",
       "      <td>19.636213</td>\n",
       "      <td>475</td>\n",
       "    </tr>\n",
       "    <tr>\n",
       "      <th>2</th>\n",
       "      <td>2481</td>\n",
       "      <td>9.068924</td>\n",
       "      <td>225</td>\n",
       "    </tr>\n",
       "    <tr>\n",
       "      <th>3</th>\n",
       "      <td>2261</td>\n",
       "      <td>28.173375</td>\n",
       "      <td>637</td>\n",
       "    </tr>\n",
       "    <tr>\n",
       "      <th>4</th>\n",
       "      <td>2902</td>\n",
       "      <td>18.022054</td>\n",
       "      <td>523</td>\n",
       "    </tr>\n",
       "  </tbody>\n",
       "</table>\n",
       "</div>"
      ],
      "text/plain": [
       "   Education_Pop  HS_Grad_Pct  HS_Grad_Count\n",
       "0           2920    23.116438            675\n",
       "1           2419    19.636213            475\n",
       "2           2481     9.068924            225\n",
       "3           2261    28.173375            637\n",
       "4           2902    18.022054            523"
      ]
     },
     "execution_count": 24,
     "metadata": {},
     "output_type": "execute_result"
    }
   ],
   "source": [
    "#check the raw numbers\n",
    "merged_df[[\"Education_Pop\", \"HS_Grad_Pct\", \"HS_Grad_Count\"]].head()"
   ]
  },
  {
   "cell_type": "code",
   "execution_count": 25,
   "id": "ed7314b1-ef8a-4a1d-a499-4a3e1466b7d6",
   "metadata": {},
   "outputs": [
    {
     "data": {
      "application/vnd.microsoft.datawrangler.viewer.v0+json": {
       "columns": [
        {
         "name": "index",
         "rawType": "int64",
         "type": "integer"
        },
        {
         "name": "StateAbbr",
         "rawType": "object",
         "type": "string"
        },
        {
         "name": "PlaceName",
         "rawType": "object",
         "type": "string"
        },
        {
         "name": "PlaceFIPS",
         "rawType": "int64",
         "type": "integer"
        },
        {
         "name": "TractFIPS",
         "rawType": "int64",
         "type": "integer"
        },
        {
         "name": "Place_TractID",
         "rawType": "object",
         "type": "string"
        },
        {
         "name": "Tract_FIPS_full",
         "rawType": "object",
         "type": "string"
        },
        {
         "name": "Health_Pop",
         "rawType": "int64",
         "type": "integer"
        },
        {
         "name": "Obesity_Pct",
         "rawType": "float64",
         "type": "float"
        },
        {
         "name": "Diabetes_Pct",
         "rawType": "float64",
         "type": "float"
        },
        {
         "name": "HighChol_Pct",
         "rawType": "float64",
         "type": "float"
        },
        {
         "name": "HighBP_Pct",
         "rawType": "float64",
         "type": "float"
        },
        {
         "name": "Stroke_Pct",
         "rawType": "float64",
         "type": "float"
        },
        {
         "name": "Sleep_Pct",
         "rawType": "float64",
         "type": "float"
        },
        {
         "name": "MentalHealth_Pct",
         "rawType": "float64",
         "type": "float"
        },
        {
         "name": "Asthma_Pct",
         "rawType": "float64",
         "type": "float"
        },
        {
         "name": "HeartDisease_Pct",
         "rawType": "float64",
         "type": "float"
        },
        {
         "name": "Smoking_Pct",
         "rawType": "float64",
         "type": "float"
        },
        {
         "name": "State_FIPS",
         "rawType": "object",
         "type": "string"
        },
        {
         "name": "County_FIPS",
         "rawType": "object",
         "type": "string"
        },
        {
         "name": "Tract_FIPS",
         "rawType": "object",
         "type": "string"
        },
        {
         "name": "State_Name",
         "rawType": "object",
         "type": "string"
        },
        {
         "name": "County_Name",
         "rawType": "object",
         "type": "string"
        },
        {
         "name": "Tract_Name",
         "rawType": "object",
         "type": "string"
        },
        {
         "name": "Median_Income",
         "rawType": "float64",
         "type": "float"
        },
        {
         "name": "Median_Age",
         "rawType": "float64",
         "type": "float"
        },
        {
         "name": "Poverty_Count",
         "rawType": "int64",
         "type": "integer"
        },
        {
         "name": "Poverty_Pop",
         "rawType": "int64",
         "type": "integer"
        },
        {
         "name": "HS_Grad_Count",
         "rawType": "int64",
         "type": "integer"
        },
        {
         "name": "Bachelors_Count",
         "rawType": "int64",
         "type": "integer"
        },
        {
         "name": "Education_Pop",
         "rawType": "int64",
         "type": "integer"
        },
        {
         "name": "Unemployed_Count",
         "rawType": "int64",
         "type": "integer"
        },
        {
         "name": "Unemployed_Pop",
         "rawType": "int64",
         "type": "integer"
        },
        {
         "name": "Race_Total",
         "rawType": "int64",
         "type": "integer"
        },
        {
         "name": "White_Alone",
         "rawType": "int64",
         "type": "integer"
        },
        {
         "name": "Black_Alone",
         "rawType": "int64",
         "type": "integer"
        },
        {
         "name": "AIAN_Alone",
         "rawType": "int64",
         "type": "integer"
        },
        {
         "name": "Asian_Alone",
         "rawType": "int64",
         "type": "integer"
        },
        {
         "name": "NHPI_Alone",
         "rawType": "int64",
         "type": "integer"
        },
        {
         "name": "Other_Alone",
         "rawType": "int64",
         "type": "integer"
        },
        {
         "name": "TwoPlus",
         "rawType": "int64",
         "type": "integer"
        },
        {
         "name": "Two_incl_Other",
         "rawType": "int64",
         "type": "integer"
        },
        {
         "name": "Two_excl_Other_or_3plus",
         "rawType": "int64",
         "type": "integer"
        },
        {
         "name": "Hispanic_Total",
         "rawType": "int64",
         "type": "integer"
        },
        {
         "name": "Hispanic_Any",
         "rawType": "int64",
         "type": "integer"
        },
        {
         "name": "Pct_White_Alone",
         "rawType": "float64",
         "type": "float"
        },
        {
         "name": "Pct_Black_Alone",
         "rawType": "float64",
         "type": "float"
        },
        {
         "name": "Pct_AIAN_Alone",
         "rawType": "float64",
         "type": "float"
        },
        {
         "name": "Pct_Asian_Alone",
         "rawType": "float64",
         "type": "float"
        },
        {
         "name": "Pct_NHPI_Alone",
         "rawType": "float64",
         "type": "float"
        },
        {
         "name": "Pct_Other_Alone",
         "rawType": "float64",
         "type": "float"
        },
        {
         "name": "Pct_TwoPlus",
         "rawType": "float64",
         "type": "float"
        },
        {
         "name": "Majority_Race",
         "rawType": "object",
         "type": "string"
        },
        {
         "name": "Pct_Hispanic",
         "rawType": "float64",
         "type": "float"
        },
        {
         "name": "Majority_Race_Clean",
         "rawType": "object",
         "type": "string"
        },
        {
         "name": "Pct_Other",
         "rawType": "float64",
         "type": "float"
        },
        {
         "name": "Obesity_Count",
         "rawType": "float64",
         "type": "float"
        },
        {
         "name": "Diabetes_Count",
         "rawType": "float64",
         "type": "float"
        },
        {
         "name": "HighChol_Count",
         "rawType": "float64",
         "type": "float"
        },
        {
         "name": "HighBP_Count",
         "rawType": "float64",
         "type": "float"
        },
        {
         "name": "Stroke_Count",
         "rawType": "float64",
         "type": "float"
        },
        {
         "name": "Sleep_Count",
         "rawType": "float64",
         "type": "float"
        },
        {
         "name": "MentalHealth_Count",
         "rawType": "float64",
         "type": "float"
        },
        {
         "name": "Asthma_Count",
         "rawType": "float64",
         "type": "float"
        },
        {
         "name": "HeartDisease_Count",
         "rawType": "float64",
         "type": "float"
        },
        {
         "name": "Smoking_Count",
         "rawType": "float64",
         "type": "float"
        },
        {
         "name": "Poverty_Pct",
         "rawType": "float64",
         "type": "float"
        },
        {
         "name": "HS_Grad_Pct",
         "rawType": "float64",
         "type": "float"
        },
        {
         "name": "Bachelors_Pct",
         "rawType": "float64",
         "type": "float"
        },
        {
         "name": "Unemployed_Pct",
         "rawType": "float64",
         "type": "float"
        }
       ],
       "ref": "f142c496-599b-49b1-8f46-165892d96ca6",
       "rows": [
        [
         "0",
         "CA",
         "Los Angeles",
         "644000",
         "6037206032",
         "0644000-06037206032",
         "06037206032",
         "5275",
         "29.5",
         "15.5",
         "38.3",
         "31.7",
         "4.0",
         "38.9",
         "15.0",
         "8.5",
         "6.9",
         "15.6",
         "06",
         "037",
         "206032",
         "California",
         "Los Angeles County",
         "Census Tract 2060.32",
         "26094.0",
         "29.5",
         "1829",
         "5104",
         "675",
         "309",
         "2920",
         "185",
         "3835",
         "5133",
         "3009",
         "48",
         "53",
         "854",
         "24",
         "1086",
         "59",
         "27",
         "32",
         "5133",
         "3957",
         "58.62068965517241",
         "0.9351256575102279",
         "1.0325345801675434",
         "16.63744398986947",
         "0.46756282875511396",
         "21.157218001168907",
         "1.1494252873563218",
         "White",
         "77.08942139099942",
         "Hispanic",
         "23.806740697447886",
         "1556.0",
         "818.0",
         "2020.0",
         "1672.0",
         "211.0",
         "2052.0",
         "791.0",
         "448.0",
         "364.0",
         "823.0",
         "35.8346394984326",
         "23.116438356164384",
         "10.582191780821917",
         "4.823989569752282"
        ],
        [
         "1",
         "CA",
         "Pasadena",
         "656000",
         "6037462001",
         "0656000-06037462001",
         "06037462001",
         "3974",
         "32.0",
         "11.6",
         "31.8",
         "27.1",
         "3.2",
         "40.2",
         "15.7",
         "9.4",
         "4.8",
         "17.8",
         "06",
         "037",
         "462001",
         "California",
         "Los Angeles County",
         "Census Tract 4620.01",
         "40192.0",
         "29.4",
         "947",
         "3893",
         "475",
         "367",
         "2419",
         "167",
         "2903",
         "3893",
         "1890",
         "413",
         "0",
         "386",
         "0",
         "1061",
         "143",
         "53",
         "90",
         "3893",
         "2743",
         "48.548677112766505",
         "10.608784998715644",
         "0.0",
         "9.915232468533265",
         "0.0",
         "27.25404572309273",
         "3.6732596968918574",
         "White",
         "70.45979964038017",
         "Hispanic",
         "30.927305419984588",
         "1272.0",
         "461.0",
         "1264.0",
         "1077.0",
         "127.0",
         "1598.0",
         "624.0",
         "374.0",
         "191.0",
         "707.0",
         "24.32571281787824",
         "19.636213311285655",
         "15.171558495245968",
         "5.752669652084051"
        ],
        [
         "2",
         "CA",
         "Fullerton",
         "628000",
         "6059011504",
         "0628000-06059011504",
         "06059011504",
         "5473",
         "18.7",
         "4.6",
         "21.1",
         "13.6",
         "1.2",
         "33.4",
         "14.1",
         "9.2",
         "2.1",
         "13.3",
         "06",
         "059",
         "011504",
         "California",
         "Orange County",
         "Census Tract 115.04",
         "31793.0",
         "22.8",
         "1740",
         "4768",
         "225",
         "873",
         "2481",
         "379",
         "5547",
         "6024",
         "3713",
         "98",
         "22",
         "1391",
         "0",
         "509",
         "291",
         "50",
         "241",
         "6024",
         "1830",
         "61.636786188579016",
         "1.6268260292164676",
         "0.3652058432934927",
         "23.09096945551129",
         "0.0",
         "8.449535192563081",
         "4.830677290836653",
         "White",
         "30.378486055776893",
         "White",
         "13.645418326693228",
         "1023.0",
         "252.0",
         "1155.0",
         "744.0",
         "66.0",
         "1828.0",
         "772.0",
         "504.0",
         "115.0",
         "728.0",
         "36.49328859060403",
         "9.068923821039904",
         "35.18742442563482",
         "6.832522084009375"
        ],
        [
         "3",
         "TX",
         "Longview",
         "4843888",
         "48183000401",
         "4843888-48183000401",
         "48183000401",
         "3371",
         "33.9",
         "9.2",
         "33.9",
         "28.4",
         "2.7",
         "34.9",
         "13.5",
         "9.3",
         "5.4",
         "20.5",
         "48",
         "183",
         "000401",
         "Texas",
         "Gregg County",
         "Census Tract 4.01",
         "52846.0",
         "34.0",
         "454",
         "3170",
         "637",
         "201",
         "2261",
         "123",
         "2678",
         "3170",
         "2630",
         "304",
         "91",
         "110",
         "0",
         "7",
         "28",
         "0",
         "28",
         "3170",
         "233",
         "82.96529968454259",
         "9.589905362776026",
         "2.8706624605678233",
         "3.470031545741325",
         "0.0",
         "0.22082018927444794",
         "0.8832807570977917",
         "White",
         "7.350157728706624",
         "White",
         "3.974763406940063",
         "1143.0",
         "310.0",
         "1143.0",
         "957.0",
         "91.0",
         "1176.0",
         "455.0",
         "314.0",
         "182.0",
         "691.0",
         "14.321766561514195",
         "28.173374613003094",
         "8.889871738168951",
         "4.592979835698283"
        ],
        [
         "4",
         "WI",
         "Madison",
         "5548000",
         "55025002200",
         "5548000-55025002200",
         "55025002200",
         "4254",
         "29.5",
         "8.7",
         "34.6",
         "27.9",
         "2.9",
         "30.8",
         "11.8",
         "9.2",
         "6.0",
         "16.6",
         "55",
         "025",
         "002200",
         "Wisconsin",
         "Dane County",
         "Census Tract 22",
         "42621.0",
         "42.1",
         "491",
         "4026",
         "523",
         "594",
         "2902",
         "339",
         "3429",
         "4030",
         "2957",
         "448",
         "0",
         "235",
         "0",
         "0",
         "390",
         "0",
         "390",
         "4030",
         "333",
         "73.37468982630273",
         "11.116625310173697",
         "0.0",
         "5.831265508684863",
         "0.0",
         "0.0",
         "9.67741935483871",
         "White",
         "8.26302729528536",
         "White",
         "9.67741935483871",
         "1255.0",
         "370.0",
         "1472.0",
         "1187.0",
         "123.0",
         "1310.0",
         "502.0",
         "391.0",
         "255.0",
         "706.0",
         "12.195727769498262",
         "18.022053756030324",
         "20.468642315644384",
         "9.88626421697288"
        ]
       ],
       "shape": {
        "columns": 69,
        "rows": 5
       }
      },
      "text/html": [
       "<div>\n",
       "<style scoped>\n",
       "    .dataframe tbody tr th:only-of-type {\n",
       "        vertical-align: middle;\n",
       "    }\n",
       "\n",
       "    .dataframe tbody tr th {\n",
       "        vertical-align: top;\n",
       "    }\n",
       "\n",
       "    .dataframe thead th {\n",
       "        text-align: right;\n",
       "    }\n",
       "</style>\n",
       "<table border=\"1\" class=\"dataframe\">\n",
       "  <thead>\n",
       "    <tr style=\"text-align: right;\">\n",
       "      <th></th>\n",
       "      <th>StateAbbr</th>\n",
       "      <th>PlaceName</th>\n",
       "      <th>PlaceFIPS</th>\n",
       "      <th>TractFIPS</th>\n",
       "      <th>Place_TractID</th>\n",
       "      <th>Tract_FIPS_full</th>\n",
       "      <th>Health_Pop</th>\n",
       "      <th>Obesity_Pct</th>\n",
       "      <th>Diabetes_Pct</th>\n",
       "      <th>HighChol_Pct</th>\n",
       "      <th>...</th>\n",
       "      <th>Stroke_Count</th>\n",
       "      <th>Sleep_Count</th>\n",
       "      <th>MentalHealth_Count</th>\n",
       "      <th>Asthma_Count</th>\n",
       "      <th>HeartDisease_Count</th>\n",
       "      <th>Smoking_Count</th>\n",
       "      <th>Poverty_Pct</th>\n",
       "      <th>HS_Grad_Pct</th>\n",
       "      <th>Bachelors_Pct</th>\n",
       "      <th>Unemployed_Pct</th>\n",
       "    </tr>\n",
       "  </thead>\n",
       "  <tbody>\n",
       "    <tr>\n",
       "      <th>0</th>\n",
       "      <td>CA</td>\n",
       "      <td>Los Angeles</td>\n",
       "      <td>644000</td>\n",
       "      <td>6037206032</td>\n",
       "      <td>0644000-06037206032</td>\n",
       "      <td>06037206032</td>\n",
       "      <td>5275</td>\n",
       "      <td>29.5</td>\n",
       "      <td>15.5</td>\n",
       "      <td>38.3</td>\n",
       "      <td>...</td>\n",
       "      <td>211.0</td>\n",
       "      <td>2052.0</td>\n",
       "      <td>791.0</td>\n",
       "      <td>448.0</td>\n",
       "      <td>364.0</td>\n",
       "      <td>823.0</td>\n",
       "      <td>35.834639</td>\n",
       "      <td>23.116438</td>\n",
       "      <td>10.582192</td>\n",
       "      <td>4.823990</td>\n",
       "    </tr>\n",
       "    <tr>\n",
       "      <th>1</th>\n",
       "      <td>CA</td>\n",
       "      <td>Pasadena</td>\n",
       "      <td>656000</td>\n",
       "      <td>6037462001</td>\n",
       "      <td>0656000-06037462001</td>\n",
       "      <td>06037462001</td>\n",
       "      <td>3974</td>\n",
       "      <td>32.0</td>\n",
       "      <td>11.6</td>\n",
       "      <td>31.8</td>\n",
       "      <td>...</td>\n",
       "      <td>127.0</td>\n",
       "      <td>1598.0</td>\n",
       "      <td>624.0</td>\n",
       "      <td>374.0</td>\n",
       "      <td>191.0</td>\n",
       "      <td>707.0</td>\n",
       "      <td>24.325713</td>\n",
       "      <td>19.636213</td>\n",
       "      <td>15.171558</td>\n",
       "      <td>5.752670</td>\n",
       "    </tr>\n",
       "    <tr>\n",
       "      <th>2</th>\n",
       "      <td>CA</td>\n",
       "      <td>Fullerton</td>\n",
       "      <td>628000</td>\n",
       "      <td>6059011504</td>\n",
       "      <td>0628000-06059011504</td>\n",
       "      <td>06059011504</td>\n",
       "      <td>5473</td>\n",
       "      <td>18.7</td>\n",
       "      <td>4.6</td>\n",
       "      <td>21.1</td>\n",
       "      <td>...</td>\n",
       "      <td>66.0</td>\n",
       "      <td>1828.0</td>\n",
       "      <td>772.0</td>\n",
       "      <td>504.0</td>\n",
       "      <td>115.0</td>\n",
       "      <td>728.0</td>\n",
       "      <td>36.493289</td>\n",
       "      <td>9.068924</td>\n",
       "      <td>35.187424</td>\n",
       "      <td>6.832522</td>\n",
       "    </tr>\n",
       "    <tr>\n",
       "      <th>3</th>\n",
       "      <td>TX</td>\n",
       "      <td>Longview</td>\n",
       "      <td>4843888</td>\n",
       "      <td>48183000401</td>\n",
       "      <td>4843888-48183000401</td>\n",
       "      <td>48183000401</td>\n",
       "      <td>3371</td>\n",
       "      <td>33.9</td>\n",
       "      <td>9.2</td>\n",
       "      <td>33.9</td>\n",
       "      <td>...</td>\n",
       "      <td>91.0</td>\n",
       "      <td>1176.0</td>\n",
       "      <td>455.0</td>\n",
       "      <td>314.0</td>\n",
       "      <td>182.0</td>\n",
       "      <td>691.0</td>\n",
       "      <td>14.321767</td>\n",
       "      <td>28.173375</td>\n",
       "      <td>8.889872</td>\n",
       "      <td>4.592980</td>\n",
       "    </tr>\n",
       "    <tr>\n",
       "      <th>4</th>\n",
       "      <td>WI</td>\n",
       "      <td>Madison</td>\n",
       "      <td>5548000</td>\n",
       "      <td>55025002200</td>\n",
       "      <td>5548000-55025002200</td>\n",
       "      <td>55025002200</td>\n",
       "      <td>4254</td>\n",
       "      <td>29.5</td>\n",
       "      <td>8.7</td>\n",
       "      <td>34.6</td>\n",
       "      <td>...</td>\n",
       "      <td>123.0</td>\n",
       "      <td>1310.0</td>\n",
       "      <td>502.0</td>\n",
       "      <td>391.0</td>\n",
       "      <td>255.0</td>\n",
       "      <td>706.0</td>\n",
       "      <td>12.195728</td>\n",
       "      <td>18.022054</td>\n",
       "      <td>20.468642</td>\n",
       "      <td>9.886264</td>\n",
       "    </tr>\n",
       "  </tbody>\n",
       "</table>\n",
       "<p>5 rows × 69 columns</p>\n",
       "</div>"
      ],
      "text/plain": [
       "  StateAbbr    PlaceName  PlaceFIPS    TractFIPS        Place_TractID  \\\n",
       "0        CA  Los Angeles     644000   6037206032  0644000-06037206032   \n",
       "1        CA     Pasadena     656000   6037462001  0656000-06037462001   \n",
       "2        CA    Fullerton     628000   6059011504  0628000-06059011504   \n",
       "3        TX     Longview    4843888  48183000401  4843888-48183000401   \n",
       "4        WI      Madison    5548000  55025002200  5548000-55025002200   \n",
       "\n",
       "  Tract_FIPS_full  Health_Pop  Obesity_Pct  Diabetes_Pct  HighChol_Pct  ...  \\\n",
       "0     06037206032        5275         29.5          15.5          38.3  ...   \n",
       "1     06037462001        3974         32.0          11.6          31.8  ...   \n",
       "2     06059011504        5473         18.7           4.6          21.1  ...   \n",
       "3     48183000401        3371         33.9           9.2          33.9  ...   \n",
       "4     55025002200        4254         29.5           8.7          34.6  ...   \n",
       "\n",
       "   Stroke_Count  Sleep_Count  MentalHealth_Count  Asthma_Count  \\\n",
       "0         211.0       2052.0               791.0         448.0   \n",
       "1         127.0       1598.0               624.0         374.0   \n",
       "2          66.0       1828.0               772.0         504.0   \n",
       "3          91.0       1176.0               455.0         314.0   \n",
       "4         123.0       1310.0               502.0         391.0   \n",
       "\n",
       "   HeartDisease_Count  Smoking_Count  Poverty_Pct HS_Grad_Pct Bachelors_Pct  \\\n",
       "0               364.0          823.0    35.834639   23.116438     10.582192   \n",
       "1               191.0          707.0    24.325713   19.636213     15.171558   \n",
       "2               115.0          728.0    36.493289    9.068924     35.187424   \n",
       "3               182.0          691.0    14.321767   28.173375      8.889872   \n",
       "4               255.0          706.0    12.195728   18.022054     20.468642   \n",
       "\n",
       "  Unemployed_Pct  \n",
       "0       4.823990  \n",
       "1       5.752670  \n",
       "2       6.832522  \n",
       "3       4.592980  \n",
       "4       9.886264  \n",
       "\n",
       "[5 rows x 69 columns]"
      ]
     },
     "execution_count": 25,
     "metadata": {},
     "output_type": "execute_result"
    }
   ],
   "source": [
    "merged_df.head()"
   ]
  },
  {
   "cell_type": "code",
   "execution_count": 26,
   "id": "396c49d8",
   "metadata": {},
   "outputs": [
    {
     "data": {
      "text/plain": [
       "Index(['StateAbbr', 'PlaceName', 'PlaceFIPS', 'TractFIPS', 'Place_TractID',\n",
       "       'Tract_FIPS_full', 'Health_Pop', 'Obesity_Pct', 'Diabetes_Pct',\n",
       "       'HighChol_Pct', 'HighBP_Pct', 'Stroke_Pct', 'Sleep_Pct',\n",
       "       'MentalHealth_Pct', 'Asthma_Pct', 'HeartDisease_Pct', 'Smoking_Pct',\n",
       "       'State_FIPS', 'County_FIPS', 'Tract_FIPS', 'State_Name', 'County_Name',\n",
       "       'Tract_Name', 'Median_Income', 'Median_Age', 'Poverty_Count',\n",
       "       'Poverty_Pop', 'HS_Grad_Count', 'Bachelors_Count', 'Education_Pop',\n",
       "       'Unemployed_Count', 'Unemployed_Pop', 'Race_Total', 'White_Alone',\n",
       "       'Black_Alone', 'AIAN_Alone', 'Asian_Alone', 'NHPI_Alone', 'Other_Alone',\n",
       "       'TwoPlus', 'Two_incl_Other', 'Two_excl_Other_or_3plus',\n",
       "       'Hispanic_Total', 'Hispanic_Any', 'Pct_White_Alone', 'Pct_Black_Alone',\n",
       "       'Pct_AIAN_Alone', 'Pct_Asian_Alone', 'Pct_NHPI_Alone',\n",
       "       'Pct_Other_Alone', 'Pct_TwoPlus', 'Majority_Race', 'Pct_Hispanic',\n",
       "       'Majority_Race_Clean', 'Pct_Other', 'Obesity_Count', 'Diabetes_Count',\n",
       "       'HighChol_Count', 'HighBP_Count', 'Stroke_Count', 'Sleep_Count',\n",
       "       'MentalHealth_Count', 'Asthma_Count', 'HeartDisease_Count',\n",
       "       'Smoking_Count', 'Poverty_Pct', 'HS_Grad_Pct', 'Bachelors_Pct',\n",
       "       'Unemployed_Pct'],\n",
       "      dtype='object')"
      ]
     },
     "execution_count": 26,
     "metadata": {},
     "output_type": "execute_result"
    }
   ],
   "source": [
    "merged_df.columns"
   ]
  },
  {
   "cell_type": "code",
   "execution_count": 27,
   "id": "c14a14b9-af87-4a90-ab59-ffb5deea6791",
   "metadata": {},
   "outputs": [
    {
     "data": {
      "application/vnd.microsoft.datawrangler.viewer.v0+json": {
       "columns": [
        {
         "name": "index",
         "rawType": "object",
         "type": "string"
        },
        {
         "name": "0",
         "rawType": "float64",
         "type": "float"
        }
       ],
       "ref": "7ac53394-1732-49f8-8643-fc9f539172d8",
       "rows": [
        [
         "Poverty_Pct",
         "0.0021316476165974493"
        ],
        [
         "Median_Income",
         "0.0013230916240949686"
        ],
        [
         "Bachelors_Pct",
         "0.000294020360909993"
        ],
        [
         "HS_Grad_Pct",
         "0.000294020360909993"
        ],
        [
         "Unemployed_Pct",
         "0.0001470101804549965"
        ],
        [
         "Majority_Race",
         "0.0001470101804549965"
        ],
        [
         "Pct_White_Alone",
         "0.0001470101804549965"
        ],
        [
         "Pct_Black_Alone",
         "0.0001470101804549965"
        ],
        [
         "Pct_AIAN_Alone",
         "0.0001470101804549965"
        ],
        [
         "Pct_Asian_Alone",
         "0.0001470101804549965"
        ],
        [
         "Pct_NHPI_Alone",
         "0.0001470101804549965"
        ],
        [
         "Pct_Other_Alone",
         "0.0001470101804549965"
        ],
        [
         "Pct_TwoPlus",
         "0.0001470101804549965"
        ],
        [
         "Pct_Hispanic",
         "0.0001470101804549965"
        ],
        [
         "Obesity_Count",
         "0.0"
        ],
        [
         "HeartDisease_Count",
         "0.0"
        ],
        [
         "NHPI_Alone",
         "0.0"
        ],
        [
         "Other_Alone",
         "0.0"
        ],
        [
         "TwoPlus",
         "0.0"
        ],
        [
         "Two_incl_Other",
         "0.0"
        ],
        [
         "Two_excl_Other_or_3plus",
         "0.0"
        ],
        [
         "Hispanic_Total",
         "0.0"
        ],
        [
         "Hispanic_Any",
         "0.0"
        ],
        [
         "Smoking_Count",
         "0.0"
        ],
        [
         "Asthma_Count",
         "0.0"
        ],
        [
         "Pct_Other",
         "0.0"
        ],
        [
         "MentalHealth_Count",
         "0.0"
        ],
        [
         "Sleep_Count",
         "0.0"
        ],
        [
         "Stroke_Count",
         "0.0"
        ],
        [
         "HighBP_Count",
         "0.0"
        ],
        [
         "HighChol_Count",
         "0.0"
        ],
        [
         "Diabetes_Count",
         "0.0"
        ],
        [
         "AIAN_Alone",
         "0.0"
        ],
        [
         "Majority_Race_Clean",
         "0.0"
        ],
        [
         "Asian_Alone",
         "0.0"
        ],
        [
         "StateAbbr",
         "0.0"
        ],
        [
         "PlaceName",
         "0.0"
        ],
        [
         "Smoking_Pct",
         "0.0"
        ],
        [
         "PlaceFIPS",
         "0.0"
        ],
        [
         "TractFIPS",
         "0.0"
        ],
        [
         "Place_TractID",
         "0.0"
        ],
        [
         "Tract_FIPS_full",
         "0.0"
        ],
        [
         "Health_Pop",
         "0.0"
        ],
        [
         "Obesity_Pct",
         "0.0"
        ],
        [
         "Diabetes_Pct",
         "0.0"
        ],
        [
         "HighChol_Pct",
         "0.0"
        ],
        [
         "HighBP_Pct",
         "0.0"
        ],
        [
         "Stroke_Pct",
         "0.0"
        ],
        [
         "Sleep_Pct",
         "0.0"
        ],
        [
         "MentalHealth_Pct",
         "0.0"
        ]
       ],
       "shape": {
        "columns": 1,
        "rows": 69
       }
      },
      "text/plain": [
       "Poverty_Pct         0.002132\n",
       "Median_Income       0.001323\n",
       "Bachelors_Pct       0.000294\n",
       "HS_Grad_Pct         0.000294\n",
       "Unemployed_Pct      0.000147\n",
       "                      ...   \n",
       "Education_Pop       0.000000\n",
       "Unemployed_Count    0.000000\n",
       "Unemployed_Pop      0.000000\n",
       "Race_Total          0.000000\n",
       "Black_Alone         0.000000\n",
       "Length: 69, dtype: float64"
      ]
     },
     "execution_count": 27,
     "metadata": {},
     "output_type": "execute_result"
    }
   ],
   "source": [
    "#check % of missing data\n",
    "merged_df.isna().mean().sort_values(ascending=False)"
   ]
  },
  {
   "cell_type": "code",
   "execution_count": 28,
   "id": "7a79509e-83bc-411f-a1ad-dad754164abc",
   "metadata": {},
   "outputs": [
    {
     "data": {
      "text/plain": [
       "(27113, 69)"
      ]
     },
     "execution_count": 28,
     "metadata": {},
     "output_type": "execute_result"
    }
   ],
   "source": [
    "#shape without NAs (less than 100 rows lost)\n",
    "merged_df = merged_df.dropna()\n",
    "merged_df.shape"
   ]
  },
  {
   "cell_type": "code",
   "execution_count": 29,
   "id": "b0a3f903-fa53-4c50-a98e-0ad2204df08f",
   "metadata": {},
   "outputs": [
    {
     "data": {
      "application/vnd.microsoft.datawrangler.viewer.v0+json": {
       "columns": [
        {
         "name": "index",
         "rawType": "object",
         "type": "string"
        },
        {
         "name": "0",
         "rawType": "float64",
         "type": "float"
        }
       ],
       "ref": "7cb418d2-da5f-417d-bec1-c19a48e3c0ce",
       "rows": [
        [
         "StateAbbr",
         "0.0"
        ],
        [
         "Pct_White_Alone",
         "0.0"
        ],
        [
         "Pct_TwoPlus",
         "0.0"
        ],
        [
         "Pct_Other_Alone",
         "0.0"
        ],
        [
         "Pct_NHPI_Alone",
         "0.0"
        ],
        [
         "Pct_Asian_Alone",
         "0.0"
        ],
        [
         "Pct_AIAN_Alone",
         "0.0"
        ],
        [
         "Pct_Black_Alone",
         "0.0"
        ],
        [
         "Hispanic_Any",
         "0.0"
        ],
        [
         "AIAN_Alone",
         "0.0"
        ],
        [
         "Hispanic_Total",
         "0.0"
        ],
        [
         "Two_excl_Other_or_3plus",
         "0.0"
        ],
        [
         "Two_incl_Other",
         "0.0"
        ],
        [
         "TwoPlus",
         "0.0"
        ],
        [
         "Other_Alone",
         "0.0"
        ],
        [
         "NHPI_Alone",
         "0.0"
        ],
        [
         "Majority_Race",
         "0.0"
        ],
        [
         "Pct_Hispanic",
         "0.0"
        ],
        [
         "Majority_Race_Clean",
         "0.0"
        ],
        [
         "Pct_Other",
         "0.0"
        ],
        [
         "Obesity_Count",
         "0.0"
        ],
        [
         "Diabetes_Count",
         "0.0"
        ],
        [
         "HighChol_Count",
         "0.0"
        ],
        [
         "HighBP_Count",
         "0.0"
        ],
        [
         "Stroke_Count",
         "0.0"
        ],
        [
         "Sleep_Count",
         "0.0"
        ],
        [
         "MentalHealth_Count",
         "0.0"
        ],
        [
         "Asthma_Count",
         "0.0"
        ],
        [
         "HeartDisease_Count",
         "0.0"
        ],
        [
         "Smoking_Count",
         "0.0"
        ],
        [
         "Poverty_Pct",
         "0.0"
        ],
        [
         "HS_Grad_Pct",
         "0.0"
        ],
        [
         "Bachelors_Pct",
         "0.0"
        ],
        [
         "Asian_Alone",
         "0.0"
        ],
        [
         "Black_Alone",
         "0.0"
        ],
        [
         "PlaceName",
         "0.0"
        ],
        [
         "HighChol_Pct",
         "0.0"
        ],
        [
         "HeartDisease_Pct",
         "0.0"
        ],
        [
         "Asthma_Pct",
         "0.0"
        ],
        [
         "MentalHealth_Pct",
         "0.0"
        ],
        [
         "Sleep_Pct",
         "0.0"
        ],
        [
         "Stroke_Pct",
         "0.0"
        ],
        [
         "HighBP_Pct",
         "0.0"
        ],
        [
         "Diabetes_Pct",
         "0.0"
        ],
        [
         "White_Alone",
         "0.0"
        ],
        [
         "Obesity_Pct",
         "0.0"
        ],
        [
         "Health_Pop",
         "0.0"
        ],
        [
         "Tract_FIPS_full",
         "0.0"
        ],
        [
         "Place_TractID",
         "0.0"
        ],
        [
         "TractFIPS",
         "0.0"
        ]
       ],
       "shape": {
        "columns": 1,
        "rows": 69
       }
      },
      "text/plain": [
       "StateAbbr           0.0\n",
       "Pct_White_Alone     0.0\n",
       "Pct_TwoPlus         0.0\n",
       "Pct_Other_Alone     0.0\n",
       "Pct_NHPI_Alone      0.0\n",
       "                   ... \n",
       "Education_Pop       0.0\n",
       "Unemployed_Count    0.0\n",
       "Unemployed_Pop      0.0\n",
       "Race_Total          0.0\n",
       "Unemployed_Pct      0.0\n",
       "Length: 69, dtype: float64"
      ]
     },
     "execution_count": 29,
     "metadata": {},
     "output_type": "execute_result"
    }
   ],
   "source": [
    "#check % of missing data (should be 0s)\n",
    "merged_df.isna().mean().sort_values(ascending=False)"
   ]
  },
  {
   "cell_type": "code",
   "execution_count": 30,
   "id": "ec3a1a8d-4707-4dd6-b2e6-6b98a879267d",
   "metadata": {},
   "outputs": [],
   "source": [
    "#reorder columns for better readability\n",
    "# List the columns in the order you want\n",
    "\n",
    "race_cols = [\n",
    "    'Race_Total','Pct_White_Alone','Pct_Black_Alone','Pct_Asian_Alone',\n",
    "    'Majority_Race_Clean','Pct_Hispanic','Pct_Other'\n",
    "]\n",
    "\n",
    "cols = [\n",
    "    'StateAbbr', 'PlaceName', 'PlaceFIPS', 'TractFIPS', 'Place_TractID',\n",
    "    'Tract_FIPS_full', 'Health_Pop',\n",
    "    'Obesity_Pct', 'Obesity_Count',\n",
    "    'Diabetes_Pct', 'Diabetes_Count',\n",
    "    'HighChol_Pct', 'HighChol_Count',\n",
    "    'HighBP_Pct', 'HighBP_Count',\n",
    "    'Stroke_Pct', 'Stroke_Count',\n",
    "    'Sleep_Pct', 'Sleep_Count',\n",
    "    'MentalHealth_Pct', 'MentalHealth_Count',\n",
    "    'Asthma_Pct', 'Asthma_Count',\n",
    "    'HeartDisease_Pct', 'HeartDisease_Count',\n",
    "    'Smoking_Pct', 'Smoking_Count',\n",
    "    'State_FIPS', 'County_FIPS', 'Tract_FIPS', 'State_Name', 'County_Name',\n",
    "    'Tract_Name', 'Median_Income', 'Median_Age',\n",
    "    'Poverty_Pct', 'Poverty_Count',\n",
    "    'HS_Grad_Pct', 'HS_Grad_Count',\n",
    "    'Bachelors_Pct', 'Bachelors_Count',\n",
    "    'Unemployed_Pct', 'Unemployed_Count'\n",
    "] + race_cols\n",
    "\n",
    "# Reorder the DataFrame\n",
    "merged_df = merged_df[cols]"
   ]
  },
  {
   "cell_type": "code",
   "execution_count": 31,
   "id": "7950ecff-26ae-4619-9d70-d88436772f54",
   "metadata": {},
   "outputs": [
    {
     "data": {
      "text/plain": [
       "Index(['StateAbbr', 'PlaceName', 'PlaceFIPS', 'TractFIPS', 'Place_TractID',\n",
       "       'Tract_FIPS_full', 'Health_Pop', 'Obesity_Pct', 'Obesity_Count',\n",
       "       'Diabetes_Pct', 'Diabetes_Count', 'HighChol_Pct', 'HighChol_Count',\n",
       "       'HighBP_Pct', 'HighBP_Count', 'Stroke_Pct', 'Stroke_Count', 'Sleep_Pct',\n",
       "       'Sleep_Count', 'MentalHealth_Pct', 'MentalHealth_Count', 'Asthma_Pct',\n",
       "       'Asthma_Count', 'HeartDisease_Pct', 'HeartDisease_Count', 'Smoking_Pct',\n",
       "       'Smoking_Count', 'State_FIPS', 'County_FIPS', 'Tract_FIPS',\n",
       "       'State_Name', 'County_Name', 'Tract_Name', 'Median_Income',\n",
       "       'Median_Age', 'Poverty_Pct', 'Poverty_Count', 'HS_Grad_Pct',\n",
       "       'HS_Grad_Count', 'Bachelors_Pct', 'Bachelors_Count', 'Unemployed_Pct',\n",
       "       'Unemployed_Count', 'Race_Total', 'Pct_White_Alone', 'Pct_Black_Alone',\n",
       "       'Pct_Asian_Alone', 'Majority_Race_Clean', 'Pct_Hispanic', 'Pct_Other'],\n",
       "      dtype='object')"
      ]
     },
     "execution_count": 31,
     "metadata": {},
     "output_type": "execute_result"
    }
   ],
   "source": [
    "merged_df.columns"
   ]
  },
  {
   "cell_type": "markdown",
   "id": "09bd8b41-cd2a-49ae-b805-2d67eece7856",
   "metadata": {},
   "source": [
    "## Save as CSV"
   ]
  },
  {
   "cell_type": "code",
   "execution_count": 32,
   "id": "608ef641-5252-4b8f-8fbc-329f8023da92",
   "metadata": {},
   "outputs": [],
   "source": [
    "#save as csv (won't have to run merging and cleaning again)\n",
    "merged_df.to_csv(\"merged_health_census_clean.csv\", index=False)"
   ]
  },
  {
   "cell_type": "code",
   "execution_count": 33,
   "id": "2c1ad399-c68d-435d-946a-4cfd88e0c7d0",
   "metadata": {},
   "outputs": [
    {
     "data": {
      "text/plain": [
       "(27113, 50)"
      ]
     },
     "execution_count": 33,
     "metadata": {},
     "output_type": "execute_result"
    }
   ],
   "source": [
    "merged_df.shape"
   ]
  }
 ],
 "metadata": {
  "kernelspec": {
   "display_name": "Python 3",
   "language": "python",
   "name": "python3"
  },
  "language_info": {
   "codemirror_mode": {
    "name": "ipython",
    "version": 3
   },
   "file_extension": ".py",
   "mimetype": "text/x-python",
   "name": "python",
   "nbconvert_exporter": "python",
   "pygments_lexer": "ipython3",
   "version": "3.9.6"
  }
 },
 "nbformat": 4,
 "nbformat_minor": 5
}
